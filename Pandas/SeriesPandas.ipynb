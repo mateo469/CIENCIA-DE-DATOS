{
 "cells": [
  {
   "cell_type": "markdown",
   "id": "8bf7f876",
   "metadata": {},
   "source": [
    "*Aprenderemos acerca de como trabajar con series en pandas*\n",
    "\n"
   ]
  },
  {
   "cell_type": "code",
   "execution_count": 1,
   "id": "88ab6b56",
   "metadata": {},
   "outputs": [
    {
     "data": {
      "text/plain": [
       "Mateo     10\n",
       "Ana        9\n",
       "Sofia      6\n",
       "Brenda     7\n",
       "Name: Calificacion, dtype: int64"
      ]
     },
     "execution_count": 1,
     "metadata": {},
     "output_type": "execute_result"
    }
   ],
   "source": [
    "#Importar pandas\n",
    "import pandas as pd\n",
    "#Crear una serie\n",
    "Alumno = ['Mateo', 'Ana', 'Sofia', 'Brenda']\n",
    "#Materia =['Python', 'Java', 'C++', 'Css']\n",
    "Calificacion = [10, 9, 6, 7]\n",
    "#Convertirlo a una serie\n",
    "dat = pd.Series(Calificacion, index=Alumno, name='Calificacion')\n",
    "#serie = pd.Series([1, 2, 3, 4, 5])#Fomra 1 de crear una serie\n",
    "#Imprime la serie\n",
    "dat"
   ]
  },
  {
   "cell_type": "code",
   "execution_count": 2,
   "id": "a2b817eb",
   "metadata": {},
   "outputs": [
    {
     "data": {
      "text/plain": [
       "Mateo    10\n",
       "Ana       9\n",
       "Name: Calificacion, dtype: int64"
      ]
     },
     "execution_count": 2,
     "metadata": {},
     "output_type": "execute_result"
    }
   ],
   "source": [
    "#Acceder a elementos de la serie\n",
    "dat[0:2]"
   ]
  },
  {
   "cell_type": "code",
   "execution_count": 3,
   "id": "67f17515",
   "metadata": {},
   "outputs": [
    {
     "data": {
      "text/plain": [
       "<bound method NDFrame.describe of Mateo     10\n",
       "Ana        9\n",
       "Sofia      6\n",
       "Brenda     7\n",
       "Name: Calificacion, dtype: int64>"
      ]
     },
     "execution_count": 3,
     "metadata": {},
     "output_type": "execute_result"
    }
   ],
   "source": [
    "#Descripcion de la seria\n",
    "dat.describe"
   ]
  },
  {
   "cell_type": "code",
   "execution_count": 4,
   "id": "68c13c83",
   "metadata": {},
   "outputs": [
    {
     "data": {
      "text/plain": [
       "(4,)"
      ]
     },
     "execution_count": 4,
     "metadata": {},
     "output_type": "execute_result"
    }
   ],
   "source": [
    "#Mostrar filas y columnas\n",
    "dat.shape"
   ]
  }
 ],
 "metadata": {
  "kernelspec": {
   "display_name": "Python 3",
   "language": "python",
   "name": "python3"
  },
  "language_info": {
   "codemirror_mode": {
    "name": "ipython",
    "version": 3
   },
   "file_extension": ".py",
   "mimetype": "text/x-python",
   "name": "python",
   "nbconvert_exporter": "python",
   "pygments_lexer": "ipython3",
   "version": "3.13.5"
  }
 },
 "nbformat": 4,
 "nbformat_minor": 5
}
