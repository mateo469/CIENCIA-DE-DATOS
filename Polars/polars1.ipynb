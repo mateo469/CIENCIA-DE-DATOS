{
 "cells": [
  {
   "cell_type": "markdown",
   "id": "efc8c9a8",
   "metadata": {},
   "source": [
    "#### Polar desde cero a avanzado."
   ]
  },
  {
   "cell_type": "code",
   "execution_count": 40,
   "id": "2f0b31ed",
   "metadata": {},
   "outputs": [],
   "source": [
    "#Importar la libreria de polar\n",
    "import polars as pl\n",
    "import matplotlib as plt\n",
    "import numpy as np\n",
    "import random \n",
    "import datetime"
   ]
  },
  {
   "cell_type": "code",
   "execution_count": 41,
   "id": "24117e1c",
   "metadata": {},
   "outputs": [
    {
     "data": {
      "text/html": [
       "<div><style>\n",
       ".dataframe > thead > tr,\n",
       ".dataframe > tbody > tr {\n",
       "  text-align: right;\n",
       "  white-space: pre-wrap;\n",
       "}\n",
       "</style>\n",
       "<small>shape: (3, 13)</small><table border=\"1\" class=\"dataframe\"><thead><tr><th>ID</th><th>Nombre</th><th>Apellido</th><th>Sexo</th><th>Edad</th><th>Ciudad</th><th>Peso</th><th>Estatura</th><th>Fecha Nacimiento</th><th>Salario</th><th>Estado</th><th>Profesion</th><th>Puesto</th></tr><tr><td>i64</td><td>str</td><td>str</td><td>str</td><td>i32</td><td>str</td><td>i32</td><td>f64</td><td>date</td><td>i32</td><td>str</td><td>str</td><td>str</td></tr></thead><tbody><tr><td>1</td><td>&quot;Gael&quot;</td><td>&quot;Gongora&quot;</td><td>&quot;M&quot;</td><td>18</td><td>&quot;CDMX&quot;</td><td>53</td><td>1.65</td><td>1998-09-04</td><td>14394</td><td>&quot;Activo&quot;</td><td>&quot;Ingenier@&quot;</td><td>&quot;Analista&quot;</td></tr><tr><td>2</td><td>&quot;Salome&quot;</td><td>&quot;Montiel&quot;</td><td>null</td><td>21</td><td>&quot;Monterrey&quot;</td><td>51</td><td>1.52</td><td>2005-08-19</td><td>12247</td><td>&quot;Activo&quot;</td><td>&quot;Abogad@&quot;</td><td>&quot;Director&quot;</td></tr><tr><td>3</td><td>&quot;Ana&quot;</td><td>&quot;Montiel&quot;</td><td>&quot;F&quot;</td><td>23</td><td>&quot;CDMX&quot;</td><td>60</td><td>1.64</td><td>2004-09-06</td><td>16079</td><td>&quot;Inactivo&quot;</td><td>&quot;Profesor&quot;</td><td>&quot;Profesor&quot;</td></tr></tbody></table></div>"
      ],
      "text/plain": [
       "shape: (3, 13)\n",
       "┌─────┬────────┬──────────┬──────┬───┬─────────┬──────────┬───────────┬──────────┐\n",
       "│ ID  ┆ Nombre ┆ Apellido ┆ Sexo ┆ … ┆ Salario ┆ Estado   ┆ Profesion ┆ Puesto   │\n",
       "│ --- ┆ ---    ┆ ---      ┆ ---  ┆   ┆ ---     ┆ ---      ┆ ---       ┆ ---      │\n",
       "│ i64 ┆ str    ┆ str      ┆ str  ┆   ┆ i32     ┆ str      ┆ str       ┆ str      │\n",
       "╞═════╪════════╪══════════╪══════╪═══╪═════════╪══════════╪═══════════╪══════════╡\n",
       "│ 1   ┆ Gael   ┆ Gongora  ┆ M    ┆ … ┆ 14394   ┆ Activo   ┆ Ingenier@ ┆ Analista │\n",
       "│ 2   ┆ Salome ┆ Montiel  ┆ null ┆ … ┆ 12247   ┆ Activo   ┆ Abogad@   ┆ Director │\n",
       "│ 3   ┆ Ana    ┆ Montiel  ┆ F    ┆ … ┆ 16079   ┆ Inactivo ┆ Profesor  ┆ Profesor │\n",
       "└─────┴────────┴──────────┴──────┴───┴─────────┴──────────┴───────────┴──────────┘"
      ]
     },
     "execution_count": 41,
     "metadata": {},
     "output_type": "execute_result"
    }
   ],
   "source": [
    "#Crear el dataframe\n",
    "#Crear la lista de los posibles datos\n",
    "nombres = ['Gael','Salome', 'Ana', 'Maria', 'Jessica', 'Patricia', 'Carolina', 'Sofia', 'Camila', 'Fernanda', 'Miguel']\n",
    "apellidos = ['Lopez', 'Gongora', 'Montiel', None, 'Perez']\n",
    "sexo = ['M', None, 'F', 'F', 'F', 'F', 'F', 'F', 'F', 'F', 'M']\n",
    "ciudad = ['CDMX', 'Monterrey', 'Jalisco', 'Mazatlan']\n",
    "idos = ['Lopez','Gomez','Perez','Diaz','Martinez','Hernandez','Ramirez','Torres','Sanchez','Morales']\n",
    "estados = ['Activo','Inactivo']\n",
    "generos = ['F','F','M','M','M','F','M','M','F','F']\n",
    "profesiones = ['Ingenier@','Abogad@','Doctor','Ingeniero','Contador','Profesor']\n",
    "puestos = ['Analista','Gerente','Director','Supervisor','Contador','Profesor','Jefe', 'Programador']\n",
    "\n",
    "# Función para generar fechas aleatorias\n",
    "def random_date(start_year=1997, end_year=2005):\n",
    "    start_date = datetime.date(start_year, 1, 1)\n",
    "    end_date = datetime.date(end_year, 12, 31)\n",
    "    delta = end_date - start_date\n",
    "    random_days = random.randint(0, delta.days)\n",
    "    return start_date + datetime.timedelta(days=random_days)\n",
    "\n",
    "#Crear el dataframe\n",
    "df = pl.DataFrame({\n",
    "    'ID': range(1, 12),\n",
    "    'Nombre': nombres,\n",
    "    'Apellido': [random.choice(apellidos) for _ in range(11)],\n",
    "    'Sexo': sexo,\n",
    "    'Edad': np.random.randint(17, 24, size=11),\n",
    "    'Ciudad':[random.choice(ciudad) for _ in range(11)],\n",
    "    'Peso' : np.random.randint(50, 65, size=11),\n",
    "    'Estatura': np.round(np.random.uniform(1.50, 1.65, size=11), 2),\n",
    "    'Fecha Nacimiento': [random_date() for _ in range(11)],\n",
    "    'Salario': np.random.randint(10000, 20000, size=11),\n",
    "    'Estado': [random.choice(estados) for _ in range(11)],\n",
    "    'Profesion': [random.choice(profesiones) for _ in range(11)],\n",
    "    'Puesto': [random.choice(puestos) for _ in range(11)]\n",
    "}\n",
    ")\n",
    "df.head(3)"
   ]
  },
  {
   "cell_type": "code",
   "execution_count": 42,
   "id": "36dcdb54",
   "metadata": {},
   "outputs": [
    {
     "data": {
      "text/html": [
       "<div><style>\n",
       ".dataframe > thead > tr,\n",
       ".dataframe > tbody > tr {\n",
       "  text-align: right;\n",
       "  white-space: pre-wrap;\n",
       "}\n",
       "</style>\n",
       "<small>shape: (3, 14)</small><table border=\"1\" class=\"dataframe\"><thead><tr><th>ID</th><th>Nombre</th><th>Apellido</th><th>Sexo</th><th>Edad</th><th>Ciudad</th><th>Peso</th><th>Estatura</th><th>Fecha Nacimiento</th><th>Salario</th><th>Estado</th><th>Profesion</th><th>Puesto</th><th>IMC</th></tr><tr><td>i64</td><td>str</td><td>str</td><td>str</td><td>i32</td><td>str</td><td>i32</td><td>f64</td><td>date</td><td>i32</td><td>str</td><td>str</td><td>str</td><td>f64</td></tr></thead><tbody><tr><td>1</td><td>&quot;Gael&quot;</td><td>&quot;Gongora&quot;</td><td>&quot;M&quot;</td><td>18</td><td>&quot;CDMX&quot;</td><td>53</td><td>1.65</td><td>1998-09-04</td><td>14394</td><td>&quot;Activo&quot;</td><td>&quot;Ingenier@&quot;</td><td>&quot;Analista&quot;</td><td>19.47</td></tr><tr><td>2</td><td>&quot;Salome&quot;</td><td>&quot;Montiel&quot;</td><td>null</td><td>21</td><td>&quot;Monterrey&quot;</td><td>51</td><td>1.52</td><td>2005-08-19</td><td>12247</td><td>&quot;Activo&quot;</td><td>&quot;Abogad@&quot;</td><td>&quot;Director&quot;</td><td>22.07</td></tr><tr><td>3</td><td>&quot;Ana&quot;</td><td>&quot;Montiel&quot;</td><td>&quot;F&quot;</td><td>23</td><td>&quot;CDMX&quot;</td><td>60</td><td>1.64</td><td>2004-09-06</td><td>16079</td><td>&quot;Inactivo&quot;</td><td>&quot;Profesor&quot;</td><td>&quot;Profesor&quot;</td><td>22.31</td></tr></tbody></table></div>"
      ],
      "text/plain": [
       "shape: (3, 14)\n",
       "┌─────┬────────┬──────────┬──────┬───┬──────────┬───────────┬──────────┬───────┐\n",
       "│ ID  ┆ Nombre ┆ Apellido ┆ Sexo ┆ … ┆ Estado   ┆ Profesion ┆ Puesto   ┆ IMC   │\n",
       "│ --- ┆ ---    ┆ ---      ┆ ---  ┆   ┆ ---      ┆ ---       ┆ ---      ┆ ---   │\n",
       "│ i64 ┆ str    ┆ str      ┆ str  ┆   ┆ str      ┆ str       ┆ str      ┆ f64   │\n",
       "╞═════╪════════╪══════════╪══════╪═══╪══════════╪═══════════╪══════════╪═══════╡\n",
       "│ 1   ┆ Gael   ┆ Gongora  ┆ M    ┆ … ┆ Activo   ┆ Ingenier@ ┆ Analista ┆ 19.47 │\n",
       "│ 2   ┆ Salome ┆ Montiel  ┆ null ┆ … ┆ Activo   ┆ Abogad@   ┆ Director ┆ 22.07 │\n",
       "│ 3   ┆ Ana    ┆ Montiel  ┆ F    ┆ … ┆ Inactivo ┆ Profesor  ┆ Profesor ┆ 22.31 │\n",
       "└─────┴────────┴──────────┴──────┴───┴──────────┴───────────┴──────────┴───────┘"
      ]
     },
     "execution_count": 42,
     "metadata": {},
     "output_type": "execute_result"
    }
   ],
   "source": [
    "\"\"\"def calcular_imc(peso, estatura):\n",
    "    if estatura == 0:\n",
    "        return None\n",
    "    return round(peso / (estatura ** 2), 2)\n",
    "\n",
    "df = df.with_columns(\n",
    "    pl.struct([\"Peso\", \"Estatura\"]).map_elements(\n",
    "        lambda x: calcular_imc(x[\"Peso\"], x[\"Estatura\"]),\n",
    "        return_dtype=pl.Float64\n",
    "    ).alias(\"IMC\")\n",
    ")\n",
    "df\"\"\"\n",
    "##Calcular la masa corporal IMC\n",
    "df = df.with_columns(\n",
    "    (pl.col('Peso')/(pl.col('Estatura') ** 2)).alias('IMC').round(2)\n",
    ")\n",
    "df.head(3)"
   ]
  },
  {
   "cell_type": "code",
   "execution_count": 43,
   "id": "870d4efa",
   "metadata": {},
   "outputs": [
    {
     "data": {
      "text/plain": [
       "(11, 14)"
      ]
     },
     "execution_count": 43,
     "metadata": {},
     "output_type": "execute_result"
    }
   ],
   "source": [
    "#Ver el total de filas y columnas\n",
    "df.shape"
   ]
  },
  {
   "cell_type": "code",
   "execution_count": 44,
   "id": "008a3f74",
   "metadata": {},
   "outputs": [
    {
     "data": {
      "text/plain": [
       "[Int64,\n",
       " String,\n",
       " String,\n",
       " String,\n",
       " Int32,\n",
       " String,\n",
       " Int32,\n",
       " Float64,\n",
       " Date,\n",
       " Int32,\n",
       " String,\n",
       " String,\n",
       " String,\n",
       " Float64]"
      ]
     },
     "execution_count": 44,
     "metadata": {},
     "output_type": "execute_result"
    }
   ],
   "source": [
    "df.dtypes #Ver el tipoo de datos,"
   ]
  },
  {
   "cell_type": "code",
   "execution_count": 45,
   "id": "492e10c3",
   "metadata": {},
   "outputs": [
    {
     "data": {
      "text/html": [
       "<div><style>\n",
       ".dataframe > thead > tr,\n",
       ".dataframe > tbody > tr {\n",
       "  text-align: right;\n",
       "  white-space: pre-wrap;\n",
       "}\n",
       "</style>\n",
       "<small>shape: (1, 14)</small><table border=\"1\" class=\"dataframe\"><thead><tr><th>ID</th><th>Nombre</th><th>Apellido</th><th>Sexo</th><th>Edad</th><th>Ciudad</th><th>Peso</th><th>Estatura</th><th>Fecha Nacimiento</th><th>Salario</th><th>Estado</th><th>Profesion</th><th>Puesto</th><th>IMC</th></tr><tr><td>u32</td><td>u32</td><td>u32</td><td>u32</td><td>u32</td><td>u32</td><td>u32</td><td>u32</td><td>u32</td><td>u32</td><td>u32</td><td>u32</td><td>u32</td><td>u32</td></tr></thead><tbody><tr><td>0</td><td>0</td><td>1</td><td>1</td><td>0</td><td>0</td><td>0</td><td>0</td><td>0</td><td>0</td><td>0</td><td>0</td><td>0</td><td>0</td></tr></tbody></table></div>"
      ],
      "text/plain": [
       "shape: (1, 14)\n",
       "┌─────┬────────┬──────────┬──────┬───┬────────┬───────────┬────────┬─────┐\n",
       "│ ID  ┆ Nombre ┆ Apellido ┆ Sexo ┆ … ┆ Estado ┆ Profesion ┆ Puesto ┆ IMC │\n",
       "│ --- ┆ ---    ┆ ---      ┆ ---  ┆   ┆ ---    ┆ ---       ┆ ---    ┆ --- │\n",
       "│ u32 ┆ u32    ┆ u32      ┆ u32  ┆   ┆ u32    ┆ u32       ┆ u32    ┆ u32 │\n",
       "╞═════╪════════╪══════════╪══════╪═══╪════════╪═══════════╪════════╪═════╡\n",
       "│ 0   ┆ 0      ┆ 1        ┆ 1    ┆ … ┆ 0      ┆ 0         ┆ 0      ┆ 0   │\n",
       "└─────┴────────┴──────────┴──────┴───┴────────┴───────────┴────────┴─────┘"
      ]
     },
     "execution_count": 45,
     "metadata": {},
     "output_type": "execute_result"
    }
   ],
   "source": [
    "#Contar los valores nulos\n",
    "df.null_count()"
   ]
  },
  {
   "cell_type": "code",
   "execution_count": 46,
   "id": "be80d494",
   "metadata": {},
   "outputs": [
    {
     "data": {
      "text/html": [
       "<div><style>\n",
       ".dataframe > thead > tr,\n",
       ".dataframe > tbody > tr {\n",
       "  text-align: right;\n",
       "  white-space: pre-wrap;\n",
       "}\n",
       "</style>\n",
       "<small>shape: (1, 1)</small><table border=\"1\" class=\"dataframe\"><thead><tr><th>Nulos</th></tr><tr><td>u32</td></tr></thead><tbody><tr><td>1</td></tr></tbody></table></div>"
      ],
      "text/plain": [
       "shape: (1, 1)\n",
       "┌───────┐\n",
       "│ Nulos │\n",
       "│ ---   │\n",
       "│ u32   │\n",
       "╞═══════╡\n",
       "│ 1     │\n",
       "└───────┘"
      ]
     },
     "execution_count": 46,
     "metadata": {},
     "output_type": "execute_result"
    }
   ],
   "source": [
    "df.select([\n",
    "    pl.col('Apellido').null_count().alias('Nulos')]\n",
    ")"
   ]
  },
  {
   "cell_type": "code",
   "execution_count": 47,
   "id": "a17bcc9f",
   "metadata": {},
   "outputs": [
    {
     "data": {
      "text/html": [
       "<div><style>\n",
       ".dataframe > thead > tr,\n",
       ".dataframe > tbody > tr {\n",
       "  text-align: right;\n",
       "  white-space: pre-wrap;\n",
       "}\n",
       "</style>\n",
       "<small>shape: (11, 14)</small><table border=\"1\" class=\"dataframe\"><thead><tr><th>ID</th><th>Nombre</th><th>Apellido</th><th>Sexo</th><th>Edad</th><th>Ciudad</th><th>Peso</th><th>Estatura</th><th>Fecha Nacimiento</th><th>Salario</th><th>Estado</th><th>Profesion</th><th>Puesto</th><th>IMC</th></tr><tr><td>i64</td><td>str</td><td>str</td><td>str</td><td>i32</td><td>str</td><td>i32</td><td>f64</td><td>date</td><td>i32</td><td>str</td><td>str</td><td>str</td><td>f64</td></tr></thead><tbody><tr><td>1</td><td>&quot;Gael&quot;</td><td>&quot;Gongora&quot;</td><td>&quot;M&quot;</td><td>18</td><td>&quot;CDMX&quot;</td><td>53</td><td>1.65</td><td>1998-09-04</td><td>14394</td><td>&quot;Activo&quot;</td><td>&quot;Ingenier@&quot;</td><td>&quot;Analista&quot;</td><td>19.47</td></tr><tr><td>2</td><td>&quot;Salome&quot;</td><td>&quot;Montiel&quot;</td><td>null</td><td>21</td><td>&quot;Monterrey&quot;</td><td>51</td><td>1.52</td><td>2005-08-19</td><td>12247</td><td>&quot;Activo&quot;</td><td>&quot;Abogad@&quot;</td><td>&quot;Director&quot;</td><td>22.07</td></tr><tr><td>3</td><td>&quot;Ana&quot;</td><td>&quot;Montiel&quot;</td><td>&quot;F&quot;</td><td>23</td><td>&quot;CDMX&quot;</td><td>60</td><td>1.64</td><td>2004-09-06</td><td>16079</td><td>&quot;Inactivo&quot;</td><td>&quot;Profesor&quot;</td><td>&quot;Profesor&quot;</td><td>22.31</td></tr><tr><td>4</td><td>&quot;Maria&quot;</td><td>&quot;Lopez&quot;</td><td>&quot;F&quot;</td><td>19</td><td>&quot;CDMX&quot;</td><td>60</td><td>1.55</td><td>2004-12-26</td><td>10407</td><td>&quot;Inactivo&quot;</td><td>&quot;Contador&quot;</td><td>&quot;Analista&quot;</td><td>24.97</td></tr><tr><td>5</td><td>&quot;Jessica&quot;</td><td>&quot;Lopez&quot;</td><td>&quot;F&quot;</td><td>23</td><td>&quot;Jalisco&quot;</td><td>54</td><td>1.65</td><td>2001-06-23</td><td>17156</td><td>&quot;Inactivo&quot;</td><td>&quot;Contador&quot;</td><td>&quot;Jefe&quot;</td><td>19.83</td></tr><tr><td>&hellip;</td><td>&hellip;</td><td>&hellip;</td><td>&hellip;</td><td>&hellip;</td><td>&hellip;</td><td>&hellip;</td><td>&hellip;</td><td>&hellip;</td><td>&hellip;</td><td>&hellip;</td><td>&hellip;</td><td>&hellip;</td><td>&hellip;</td></tr><tr><td>7</td><td>&quot;Carolina&quot;</td><td>&quot;Perez&quot;</td><td>&quot;F&quot;</td><td>18</td><td>&quot;Mazatlan&quot;</td><td>58</td><td>1.52</td><td>1997-01-12</td><td>13508</td><td>&quot;Activo&quot;</td><td>&quot;Profesor&quot;</td><td>&quot;Gerente&quot;</td><td>25.1</td></tr><tr><td>8</td><td>&quot;Sofia&quot;</td><td>null</td><td>&quot;F&quot;</td><td>18</td><td>&quot;Jalisco&quot;</td><td>54</td><td>1.59</td><td>1998-09-19</td><td>10018</td><td>&quot;Activo&quot;</td><td>&quot;Profesor&quot;</td><td>&quot;Profesor&quot;</td><td>21.36</td></tr><tr><td>9</td><td>&quot;Camila&quot;</td><td>&quot;Lopez&quot;</td><td>&quot;F&quot;</td><td>20</td><td>&quot;Jalisco&quot;</td><td>58</td><td>1.56</td><td>2005-05-14</td><td>11084</td><td>&quot;Inactivo&quot;</td><td>&quot;Contador&quot;</td><td>&quot;Contador&quot;</td><td>23.83</td></tr><tr><td>10</td><td>&quot;Fernanda&quot;</td><td>&quot;Gongora&quot;</td><td>&quot;F&quot;</td><td>22</td><td>&quot;CDMX&quot;</td><td>62</td><td>1.55</td><td>2003-09-02</td><td>13061</td><td>&quot;Activo&quot;</td><td>&quot;Abogad@&quot;</td><td>&quot;Gerente&quot;</td><td>25.81</td></tr><tr><td>11</td><td>&quot;Miguel&quot;</td><td>&quot;Perez&quot;</td><td>&quot;M&quot;</td><td>18</td><td>&quot;Monterrey&quot;</td><td>54</td><td>1.6</td><td>1997-09-20</td><td>18417</td><td>&quot;Inactivo&quot;</td><td>&quot;Ingenier@&quot;</td><td>&quot;Analista&quot;</td><td>21.09</td></tr></tbody></table></div>"
      ],
      "text/plain": [
       "shape: (11, 14)\n",
       "┌─────┬──────────┬──────────┬──────┬───┬──────────┬───────────┬──────────┬───────┐\n",
       "│ ID  ┆ Nombre   ┆ Apellido ┆ Sexo ┆ … ┆ Estado   ┆ Profesion ┆ Puesto   ┆ IMC   │\n",
       "│ --- ┆ ---      ┆ ---      ┆ ---  ┆   ┆ ---      ┆ ---       ┆ ---      ┆ ---   │\n",
       "│ i64 ┆ str      ┆ str      ┆ str  ┆   ┆ str      ┆ str       ┆ str      ┆ f64   │\n",
       "╞═════╪══════════╪══════════╪══════╪═══╪══════════╪═══════════╪══════════╪═══════╡\n",
       "│ 1   ┆ Gael     ┆ Gongora  ┆ M    ┆ … ┆ Activo   ┆ Ingenier@ ┆ Analista ┆ 19.47 │\n",
       "│ 2   ┆ Salome   ┆ Montiel  ┆ null ┆ … ┆ Activo   ┆ Abogad@   ┆ Director ┆ 22.07 │\n",
       "│ 3   ┆ Ana      ┆ Montiel  ┆ F    ┆ … ┆ Inactivo ┆ Profesor  ┆ Profesor ┆ 22.31 │\n",
       "│ 4   ┆ Maria    ┆ Lopez    ┆ F    ┆ … ┆ Inactivo ┆ Contador  ┆ Analista ┆ 24.97 │\n",
       "│ 5   ┆ Jessica  ┆ Lopez    ┆ F    ┆ … ┆ Inactivo ┆ Contador  ┆ Jefe     ┆ 19.83 │\n",
       "│ …   ┆ …        ┆ …        ┆ …    ┆ … ┆ …        ┆ …         ┆ …        ┆ …     │\n",
       "│ 7   ┆ Carolina ┆ Perez    ┆ F    ┆ … ┆ Activo   ┆ Profesor  ┆ Gerente  ┆ 25.1  │\n",
       "│ 8   ┆ Sofia    ┆ null     ┆ F    ┆ … ┆ Activo   ┆ Profesor  ┆ Profesor ┆ 21.36 │\n",
       "│ 9   ┆ Camila   ┆ Lopez    ┆ F    ┆ … ┆ Inactivo ┆ Contador  ┆ Contador ┆ 23.83 │\n",
       "│ 10  ┆ Fernanda ┆ Gongora  ┆ F    ┆ … ┆ Activo   ┆ Abogad@   ┆ Gerente  ┆ 25.81 │\n",
       "│ 11  ┆ Miguel   ┆ Perez    ┆ M    ┆ … ┆ Inactivo ┆ Ingenier@ ┆ Analista ┆ 21.09 │\n",
       "└─────┴──────────┴──────────┴──────┴───┴──────────┴───────────┴──────────┴───────┘"
      ]
     },
     "execution_count": 47,
     "metadata": {},
     "output_type": "execute_result"
    }
   ],
   "source": [
    "#eliminar filas\n",
    "df.filter(pl.col(\"ID\") != 2) \n",
    "df"
   ]
  },
  {
   "cell_type": "code",
   "execution_count": 48,
   "id": "2517e467",
   "metadata": {},
   "outputs": [
    {
     "data": {
      "text/html": [
       "<div><style>\n",
       ".dataframe > thead > tr,\n",
       ".dataframe > tbody > tr {\n",
       "  text-align: right;\n",
       "  white-space: pre-wrap;\n",
       "}\n",
       "</style>\n",
       "<small>shape: (11, 2)</small><table border=\"1\" class=\"dataframe\"><thead><tr><th>Nombre</th><th>Estado</th></tr><tr><td>str</td><td>str</td></tr></thead><tbody><tr><td>&quot;Gael&quot;</td><td>&quot;Activo&quot;</td></tr><tr><td>&quot;Salome&quot;</td><td>&quot;Activo&quot;</td></tr><tr><td>&quot;Ana&quot;</td><td>&quot;Inactivo&quot;</td></tr><tr><td>&quot;Maria&quot;</td><td>&quot;Inactivo&quot;</td></tr><tr><td>&quot;Jessica&quot;</td><td>&quot;Inactivo&quot;</td></tr><tr><td>&hellip;</td><td>&hellip;</td></tr><tr><td>&quot;Carolina&quot;</td><td>&quot;Activo&quot;</td></tr><tr><td>&quot;Sofia&quot;</td><td>&quot;Activo&quot;</td></tr><tr><td>&quot;Camila&quot;</td><td>&quot;Inactivo&quot;</td></tr><tr><td>&quot;Fernanda&quot;</td><td>&quot;Activo&quot;</td></tr><tr><td>&quot;Miguel&quot;</td><td>&quot;Inactivo&quot;</td></tr></tbody></table></div>"
      ],
      "text/plain": [
       "shape: (11, 2)\n",
       "┌──────────┬──────────┐\n",
       "│ Nombre   ┆ Estado   │\n",
       "│ ---      ┆ ---      │\n",
       "│ str      ┆ str      │\n",
       "╞══════════╪══════════╡\n",
       "│ Gael     ┆ Activo   │\n",
       "│ Salome   ┆ Activo   │\n",
       "│ Ana      ┆ Inactivo │\n",
       "│ Maria    ┆ Inactivo │\n",
       "│ Jessica  ┆ Inactivo │\n",
       "│ …        ┆ …        │\n",
       "│ Carolina ┆ Activo   │\n",
       "│ Sofia    ┆ Activo   │\n",
       "│ Camila   ┆ Inactivo │\n",
       "│ Fernanda ┆ Activo   │\n",
       "│ Miguel   ┆ Inactivo │\n",
       "└──────────┴──────────┘"
      ]
     },
     "execution_count": 48,
     "metadata": {},
     "output_type": "execute_result"
    }
   ],
   "source": [
    "df.select(['Nombre', 'Estado'])"
   ]
  },
  {
   "cell_type": "code",
   "execution_count": 49,
   "id": "8bc33f38",
   "metadata": {},
   "outputs": [
    {
     "data": {
      "text/html": [
       "<div><style>\n",
       ".dataframe > thead > tr,\n",
       ".dataframe > tbody > tr {\n",
       "  text-align: right;\n",
       "  white-space: pre-wrap;\n",
       "}\n",
       "</style>\n",
       "<small>shape: (5, 14)</small><table border=\"1\" class=\"dataframe\"><thead><tr><th>ID</th><th>Nombre</th><th>Apellido</th><th>Sexo</th><th>Edad</th><th>Ciudad</th><th>Peso</th><th>Estatura</th><th>Fecha Nacimiento</th><th>Salario</th><th>Estado</th><th>Profesion</th><th>Puesto</th><th>IMC</th></tr><tr><td>i64</td><td>str</td><td>str</td><td>str</td><td>i32</td><td>str</td><td>i32</td><td>f64</td><td>date</td><td>i32</td><td>str</td><td>str</td><td>str</td><td>f64</td></tr></thead><tbody><tr><td>1</td><td>&quot;Gael&quot;</td><td>&quot;Gongora&quot;</td><td>&quot;M&quot;</td><td>18</td><td>&quot;CDMX&quot;</td><td>53</td><td>1.65</td><td>1998-09-04</td><td>14394</td><td>&quot;Activo&quot;</td><td>&quot;Ingenier@&quot;</td><td>&quot;Analista&quot;</td><td>19.47</td></tr><tr><td>3</td><td>&quot;Ana&quot;</td><td>&quot;Montiel&quot;</td><td>&quot;F&quot;</td><td>23</td><td>&quot;CDMX&quot;</td><td>60</td><td>1.64</td><td>2004-09-06</td><td>16079</td><td>&quot;Inactivo&quot;</td><td>&quot;Profesor&quot;</td><td>&quot;Profesor&quot;</td><td>22.31</td></tr><tr><td>4</td><td>&quot;Maria&quot;</td><td>&quot;Lopez&quot;</td><td>&quot;F&quot;</td><td>19</td><td>&quot;CDMX&quot;</td><td>60</td><td>1.55</td><td>2004-12-26</td><td>10407</td><td>&quot;Inactivo&quot;</td><td>&quot;Contador&quot;</td><td>&quot;Analista&quot;</td><td>24.97</td></tr><tr><td>10</td><td>&quot;Fernanda&quot;</td><td>&quot;Gongora&quot;</td><td>&quot;F&quot;</td><td>22</td><td>&quot;CDMX&quot;</td><td>62</td><td>1.55</td><td>2003-09-02</td><td>13061</td><td>&quot;Activo&quot;</td><td>&quot;Abogad@&quot;</td><td>&quot;Gerente&quot;</td><td>25.81</td></tr><tr><td>11</td><td>&quot;Miguel&quot;</td><td>&quot;Perez&quot;</td><td>&quot;M&quot;</td><td>18</td><td>&quot;Monterrey&quot;</td><td>54</td><td>1.6</td><td>1997-09-20</td><td>18417</td><td>&quot;Inactivo&quot;</td><td>&quot;Ingenier@&quot;</td><td>&quot;Analista&quot;</td><td>21.09</td></tr></tbody></table></div>"
      ],
      "text/plain": [
       "shape: (5, 14)\n",
       "┌─────┬──────────┬──────────┬──────┬───┬──────────┬───────────┬──────────┬───────┐\n",
       "│ ID  ┆ Nombre   ┆ Apellido ┆ Sexo ┆ … ┆ Estado   ┆ Profesion ┆ Puesto   ┆ IMC   │\n",
       "│ --- ┆ ---      ┆ ---      ┆ ---  ┆   ┆ ---      ┆ ---       ┆ ---      ┆ ---   │\n",
       "│ i64 ┆ str      ┆ str      ┆ str  ┆   ┆ str      ┆ str       ┆ str      ┆ f64   │\n",
       "╞═════╪══════════╪══════════╪══════╪═══╪══════════╪═══════════╪══════════╪═══════╡\n",
       "│ 1   ┆ Gael     ┆ Gongora  ┆ M    ┆ … ┆ Activo   ┆ Ingenier@ ┆ Analista ┆ 19.47 │\n",
       "│ 3   ┆ Ana      ┆ Montiel  ┆ F    ┆ … ┆ Inactivo ┆ Profesor  ┆ Profesor ┆ 22.31 │\n",
       "│ 4   ┆ Maria    ┆ Lopez    ┆ F    ┆ … ┆ Inactivo ┆ Contador  ┆ Analista ┆ 24.97 │\n",
       "│ 10  ┆ Fernanda ┆ Gongora  ┆ F    ┆ … ┆ Activo   ┆ Abogad@   ┆ Gerente  ┆ 25.81 │\n",
       "│ 11  ┆ Miguel   ┆ Perez    ┆ M    ┆ … ┆ Inactivo ┆ Ingenier@ ┆ Analista ┆ 21.09 │\n",
       "└─────┴──────────┴──────────┴──────┴───┴──────────┴───────────┴──────────┴───────┘"
      ]
     },
     "execution_count": 49,
     "metadata": {},
     "output_type": "execute_result"
    }
   ],
   "source": [
    "#filtrar informacion\n",
    "df.filter((df['Sexo']=='M')|(df['Ciudad'] == 'CDMX'))#Me muestra las personas que son del sexo masculino, son de CDMX"
   ]
  },
  {
   "cell_type": "code",
   "execution_count": 50,
   "id": "381ab8df",
   "metadata": {},
   "outputs": [
    {
     "data": {
      "text/html": [
       "<div><style>\n",
       ".dataframe > thead > tr,\n",
       ".dataframe > tbody > tr {\n",
       "  text-align: right;\n",
       "  white-space: pre-wrap;\n",
       "}\n",
       "</style>\n",
       "<small>shape: (2, 14)</small><table border=\"1\" class=\"dataframe\"><thead><tr><th>ID</th><th>Nombre</th><th>Apellido</th><th>Sexo</th><th>Edad</th><th>Ciudad</th><th>Peso</th><th>Estatura</th><th>Fecha Nacimiento</th><th>Salario</th><th>Estado</th><th>Profesion</th><th>Puesto</th><th>IMC</th></tr><tr><td>i64</td><td>str</td><td>str</td><td>str</td><td>i32</td><td>str</td><td>i32</td><td>f64</td><td>date</td><td>i32</td><td>str</td><td>str</td><td>str</td><td>f64</td></tr></thead><tbody><tr><td>3</td><td>&quot;Ana&quot;</td><td>&quot;Montiel&quot;</td><td>&quot;F&quot;</td><td>23</td><td>&quot;CDMX&quot;</td><td>60</td><td>1.64</td><td>2004-09-06</td><td>16079</td><td>&quot;Inactivo&quot;</td><td>&quot;Profesor&quot;</td><td>&quot;Profesor&quot;</td><td>22.31</td></tr><tr><td>10</td><td>&quot;Fernanda&quot;</td><td>&quot;Gongora&quot;</td><td>&quot;F&quot;</td><td>22</td><td>&quot;CDMX&quot;</td><td>62</td><td>1.55</td><td>2003-09-02</td><td>13061</td><td>&quot;Activo&quot;</td><td>&quot;Abogad@&quot;</td><td>&quot;Gerente&quot;</td><td>25.81</td></tr></tbody></table></div>"
      ],
      "text/plain": [
       "shape: (2, 14)\n",
       "┌─────┬──────────┬──────────┬──────┬───┬──────────┬───────────┬──────────┬───────┐\n",
       "│ ID  ┆ Nombre   ┆ Apellido ┆ Sexo ┆ … ┆ Estado   ┆ Profesion ┆ Puesto   ┆ IMC   │\n",
       "│ --- ┆ ---      ┆ ---      ┆ ---  ┆   ┆ ---      ┆ ---       ┆ ---      ┆ ---   │\n",
       "│ i64 ┆ str      ┆ str      ┆ str  ┆   ┆ str      ┆ str       ┆ str      ┆ f64   │\n",
       "╞═════╪══════════╪══════════╪══════╪═══╪══════════╪═══════════╪══════════╪═══════╡\n",
       "│ 3   ┆ Ana      ┆ Montiel  ┆ F    ┆ … ┆ Inactivo ┆ Profesor  ┆ Profesor ┆ 22.31 │\n",
       "│ 10  ┆ Fernanda ┆ Gongora  ┆ F    ┆ … ┆ Activo   ┆ Abogad@   ┆ Gerente  ┆ 25.81 │\n",
       "└─────┴──────────┴──────────┴──────┴───┴──────────┴───────────┴──────────┴───────┘"
      ]
     },
     "execution_count": 50,
     "metadata": {},
     "output_type": "execute_result"
    }
   ],
   "source": [
    "df.filter((df[\"Edad\"] > 21) & (df[\"Ciudad\"] == \"CDMX\"))"
   ]
  },
  {
   "cell_type": "code",
   "execution_count": 52,
   "id": "9a18a410",
   "metadata": {},
   "outputs": [
    {
     "data": {
      "text/html": [
       "<div><style>\n",
       ".dataframe > thead > tr,\n",
       ".dataframe > tbody > tr {\n",
       "  text-align: right;\n",
       "  white-space: pre-wrap;\n",
       "}\n",
       "</style>\n",
       "<small>shape: (7, 14)</small><table border=\"1\" class=\"dataframe\"><thead><tr><th>ID</th><th>Nombre</th><th>Apellido</th><th>Sexo</th><th>Edad</th><th>Ciudad</th><th>Peso</th><th>Estatura</th><th>Fecha Nacimiento</th><th>Salario</th><th>Estado</th><th>Profesion</th><th>Puesto</th><th>IMC</th></tr><tr><td>i64</td><td>str</td><td>str</td><td>str</td><td>i32</td><td>str</td><td>i32</td><td>f64</td><td>date</td><td>i32</td><td>str</td><td>str</td><td>str</td><td>f64</td></tr></thead><tbody><tr><td>1</td><td>&quot;Gael&quot;</td><td>&quot;Gongora&quot;</td><td>&quot;M&quot;</td><td>18</td><td>&quot;CDMX&quot;</td><td>53</td><td>1.65</td><td>1998-09-04</td><td>14394</td><td>&quot;Activo&quot;</td><td>&quot;Ingenier@&quot;</td><td>&quot;Analista&quot;</td><td>19.47</td></tr><tr><td>3</td><td>&quot;Ana&quot;</td><td>&quot;Montiel&quot;</td><td>&quot;F&quot;</td><td>23</td><td>&quot;CDMX&quot;</td><td>60</td><td>1.64</td><td>2004-09-06</td><td>16079</td><td>&quot;Inactivo&quot;</td><td>&quot;Profesor&quot;</td><td>&quot;Profesor&quot;</td><td>22.31</td></tr><tr><td>4</td><td>&quot;Maria&quot;</td><td>&quot;Lopez&quot;</td><td>&quot;F&quot;</td><td>19</td><td>&quot;CDMX&quot;</td><td>60</td><td>1.55</td><td>2004-12-26</td><td>10407</td><td>&quot;Inactivo&quot;</td><td>&quot;Contador&quot;</td><td>&quot;Analista&quot;</td><td>24.97</td></tr><tr><td>5</td><td>&quot;Jessica&quot;</td><td>&quot;Lopez&quot;</td><td>&quot;F&quot;</td><td>23</td><td>&quot;Jalisco&quot;</td><td>54</td><td>1.65</td><td>2001-06-23</td><td>17156</td><td>&quot;Inactivo&quot;</td><td>&quot;Contador&quot;</td><td>&quot;Jefe&quot;</td><td>19.83</td></tr><tr><td>8</td><td>&quot;Sofia&quot;</td><td>null</td><td>&quot;F&quot;</td><td>18</td><td>&quot;Jalisco&quot;</td><td>54</td><td>1.59</td><td>1998-09-19</td><td>10018</td><td>&quot;Activo&quot;</td><td>&quot;Profesor&quot;</td><td>&quot;Profesor&quot;</td><td>21.36</td></tr><tr><td>9</td><td>&quot;Camila&quot;</td><td>&quot;Lopez&quot;</td><td>&quot;F&quot;</td><td>20</td><td>&quot;Jalisco&quot;</td><td>58</td><td>1.56</td><td>2005-05-14</td><td>11084</td><td>&quot;Inactivo&quot;</td><td>&quot;Contador&quot;</td><td>&quot;Contador&quot;</td><td>23.83</td></tr><tr><td>10</td><td>&quot;Fernanda&quot;</td><td>&quot;Gongora&quot;</td><td>&quot;F&quot;</td><td>22</td><td>&quot;CDMX&quot;</td><td>62</td><td>1.55</td><td>2003-09-02</td><td>13061</td><td>&quot;Activo&quot;</td><td>&quot;Abogad@&quot;</td><td>&quot;Gerente&quot;</td><td>25.81</td></tr></tbody></table></div>"
      ],
      "text/plain": [
       "shape: (7, 14)\n",
       "┌─────┬──────────┬──────────┬──────┬───┬──────────┬───────────┬──────────┬───────┐\n",
       "│ ID  ┆ Nombre   ┆ Apellido ┆ Sexo ┆ … ┆ Estado   ┆ Profesion ┆ Puesto   ┆ IMC   │\n",
       "│ --- ┆ ---      ┆ ---      ┆ ---  ┆   ┆ ---      ┆ ---       ┆ ---      ┆ ---   │\n",
       "│ i64 ┆ str      ┆ str      ┆ str  ┆   ┆ str      ┆ str       ┆ str      ┆ f64   │\n",
       "╞═════╪══════════╪══════════╪══════╪═══╪══════════╪═══════════╪══════════╪═══════╡\n",
       "│ 1   ┆ Gael     ┆ Gongora  ┆ M    ┆ … ┆ Activo   ┆ Ingenier@ ┆ Analista ┆ 19.47 │\n",
       "│ 3   ┆ Ana      ┆ Montiel  ┆ F    ┆ … ┆ Inactivo ┆ Profesor  ┆ Profesor ┆ 22.31 │\n",
       "│ 4   ┆ Maria    ┆ Lopez    ┆ F    ┆ … ┆ Inactivo ┆ Contador  ┆ Analista ┆ 24.97 │\n",
       "│ 5   ┆ Jessica  ┆ Lopez    ┆ F    ┆ … ┆ Inactivo ┆ Contador  ┆ Jefe     ┆ 19.83 │\n",
       "│ 8   ┆ Sofia    ┆ null     ┆ F    ┆ … ┆ Activo   ┆ Profesor  ┆ Profesor ┆ 21.36 │\n",
       "│ 9   ┆ Camila   ┆ Lopez    ┆ F    ┆ … ┆ Inactivo ┆ Contador  ┆ Contador ┆ 23.83 │\n",
       "│ 10  ┆ Fernanda ┆ Gongora  ┆ F    ┆ … ┆ Activo   ┆ Abogad@   ┆ Gerente  ┆ 25.81 │\n",
       "└─────┴──────────┴──────────┴──────┴───┴──────────┴───────────┴──────────┴───────┘"
      ]
     },
     "execution_count": 52,
     "metadata": {},
     "output_type": "execute_result"
    }
   ],
   "source": [
    "# Personas de CDMX o mazatlan\n",
    "df.filter(df[\"Ciudad\"].is_in([\"CDMX\", \"Jalisco\"]))"
   ]
  },
  {
   "cell_type": "code",
   "execution_count": 56,
   "id": "b7f47f0a",
   "metadata": {},
   "outputs": [],
   "source": [
    "#Ordenar informacion por edad\n",
    "df = df.sort('Nombre', descending=False)"
   ]
  },
  {
   "cell_type": "code",
   "execution_count": null,
   "id": "b4686b11",
   "metadata": {},
   "outputs": [
    {
     "data": {
      "text/html": [
       "<div><style>\n",
       ".dataframe > thead > tr,\n",
       ".dataframe > tbody > tr {\n",
       "  text-align: right;\n",
       "  white-space: pre-wrap;\n",
       "}\n",
       "</style>\n",
       "<small>shape: (11, 14)</small><table border=\"1\" class=\"dataframe\"><thead><tr><th>ID</th><th>Nombre</th><th>Apellido</th><th>Sexo</th><th>Edad</th><th>Ciudad</th><th>Peso</th><th>Estatura</th><th>Fecha Nacimiento</th><th>Salario</th><th>Estado</th><th>Profesion</th><th>Puesto</th><th>IMC</th></tr><tr><td>i64</td><td>str</td><td>str</td><td>str</td><td>i32</td><td>str</td><td>i32</td><td>f64</td><td>date</td><td>i32</td><td>str</td><td>str</td><td>str</td><td>f64</td></tr></thead><tbody><tr><td>3</td><td>&quot;Ana&quot;</td><td>&quot;Montiel&quot;</td><td>&quot;F&quot;</td><td>23</td><td>&quot;CDMX&quot;</td><td>60</td><td>1.64</td><td>2004-09-06</td><td>16079</td><td>&quot;Inactivo&quot;</td><td>&quot;Profesor&quot;</td><td>&quot;Profesor&quot;</td><td>22.31</td></tr><tr><td>9</td><td>&quot;Camila&quot;</td><td>&quot;Lopez&quot;</td><td>&quot;F&quot;</td><td>20</td><td>&quot;Jalisco&quot;</td><td>58</td><td>1.56</td><td>2005-05-14</td><td>11084</td><td>&quot;Inactivo&quot;</td><td>&quot;Contador&quot;</td><td>&quot;Contador&quot;</td><td>23.83</td></tr><tr><td>7</td><td>&quot;Carolina&quot;</td><td>&quot;Perez&quot;</td><td>&quot;F&quot;</td><td>18</td><td>&quot;Mazatlan&quot;</td><td>58</td><td>1.52</td><td>1997-01-12</td><td>13508</td><td>&quot;Activo&quot;</td><td>&quot;Profesor&quot;</td><td>&quot;Gerente&quot;</td><td>25.1</td></tr><tr><td>10</td><td>&quot;Fernanda&quot;</td><td>&quot;Gongora&quot;</td><td>&quot;F&quot;</td><td>22</td><td>&quot;CDMX&quot;</td><td>62</td><td>1.55</td><td>2003-09-02</td><td>13061</td><td>&quot;Activo&quot;</td><td>&quot;Abogad@&quot;</td><td>&quot;Gerente&quot;</td><td>25.81</td></tr><tr><td>1</td><td>&quot;Gael&quot;</td><td>&quot;Gongora&quot;</td><td>&quot;M&quot;</td><td>18</td><td>&quot;CDMX&quot;</td><td>53</td><td>1.65</td><td>1998-09-04</td><td>14394</td><td>&quot;Activo&quot;</td><td>&quot;Ingenier@&quot;</td><td>&quot;Analista&quot;</td><td>19.47</td></tr><tr><td>&hellip;</td><td>&hellip;</td><td>&hellip;</td><td>&hellip;</td><td>&hellip;</td><td>&hellip;</td><td>&hellip;</td><td>&hellip;</td><td>&hellip;</td><td>&hellip;</td><td>&hellip;</td><td>&hellip;</td><td>&hellip;</td><td>&hellip;</td></tr><tr><td>4</td><td>&quot;Maria&quot;</td><td>&quot;Lopez&quot;</td><td>&quot;F&quot;</td><td>19</td><td>&quot;CDMX&quot;</td><td>60</td><td>1.55</td><td>2004-12-26</td><td>10407</td><td>&quot;Inactivo&quot;</td><td>&quot;Contador&quot;</td><td>&quot;Analista&quot;</td><td>24.97</td></tr><tr><td>11</td><td>&quot;Miguel&quot;</td><td>&quot;Perez&quot;</td><td>&quot;M&quot;</td><td>18</td><td>&quot;Monterrey&quot;</td><td>54</td><td>1.6</td><td>1997-09-20</td><td>18417</td><td>&quot;Inactivo&quot;</td><td>&quot;Ingenier@&quot;</td><td>&quot;Analista&quot;</td><td>21.09</td></tr><tr><td>6</td><td>&quot;Patricia&quot;</td><td>&quot;Perez&quot;</td><td>&quot;F&quot;</td><td>22</td><td>&quot;Mazatlan&quot;</td><td>58</td><td>1.62</td><td>2005-04-12</td><td>17681</td><td>&quot;Inactivo&quot;</td><td>&quot;Profesor&quot;</td><td>&quot;Jefe&quot;</td><td>22.1</td></tr><tr><td>2</td><td>&quot;Salome&quot;</td><td>&quot;Montiel&quot;</td><td>null</td><td>21</td><td>&quot;Monterrey&quot;</td><td>51</td><td>1.52</td><td>2005-08-19</td><td>12247</td><td>&quot;Activo&quot;</td><td>&quot;Abogad@&quot;</td><td>&quot;Director&quot;</td><td>22.07</td></tr><tr><td>8</td><td>&quot;Sofia&quot;</td><td>null</td><td>&quot;F&quot;</td><td>18</td><td>&quot;Jalisco&quot;</td><td>54</td><td>1.59</td><td>1998-09-19</td><td>10018</td><td>&quot;Activo&quot;</td><td>&quot;Profesor&quot;</td><td>&quot;Profesor&quot;</td><td>21.36</td></tr></tbody></table></div>"
      ],
      "text/plain": [
       "shape: (11, 14)\n",
       "┌─────┬──────────┬──────────┬──────┬───┬──────────┬───────────┬──────────┬───────┐\n",
       "│ ID  ┆ Nombre   ┆ Apellido ┆ Sexo ┆ … ┆ Estado   ┆ Profesion ┆ Puesto   ┆ IMC   │\n",
       "│ --- ┆ ---      ┆ ---      ┆ ---  ┆   ┆ ---      ┆ ---       ┆ ---      ┆ ---   │\n",
       "│ i64 ┆ str      ┆ str      ┆ str  ┆   ┆ str      ┆ str       ┆ str      ┆ f64   │\n",
       "╞═════╪══════════╪══════════╪══════╪═══╪══════════╪═══════════╪══════════╪═══════╡\n",
       "│ 3   ┆ Ana      ┆ Montiel  ┆ F    ┆ … ┆ Inactivo ┆ Profesor  ┆ Profesor ┆ 22.31 │\n",
       "│ 9   ┆ Camila   ┆ Lopez    ┆ F    ┆ … ┆ Inactivo ┆ Contador  ┆ Contador ┆ 23.83 │\n",
       "│ 7   ┆ Carolina ┆ Perez    ┆ F    ┆ … ┆ Activo   ┆ Profesor  ┆ Gerente  ┆ 25.1  │\n",
       "│ 10  ┆ Fernanda ┆ Gongora  ┆ F    ┆ … ┆ Activo   ┆ Abogad@   ┆ Gerente  ┆ 25.81 │\n",
       "│ 1   ┆ Gael     ┆ Gongora  ┆ M    ┆ … ┆ Activo   ┆ Ingenier@ ┆ Analista ┆ 19.47 │\n",
       "│ …   ┆ …        ┆ …        ┆ …    ┆ … ┆ …        ┆ …         ┆ …        ┆ …     │\n",
       "│ 4   ┆ Maria    ┆ Lopez    ┆ F    ┆ … ┆ Inactivo ┆ Contador  ┆ Analista ┆ 24.97 │\n",
       "│ 11  ┆ Miguel   ┆ Perez    ┆ M    ┆ … ┆ Inactivo ┆ Ingenier@ ┆ Analista ┆ 21.09 │\n",
       "│ 6   ┆ Patricia ┆ Perez    ┆ F    ┆ … ┆ Inactivo ┆ Profesor  ┆ Jefe     ┆ 22.1  │\n",
       "│ 2   ┆ Salome   ┆ Montiel  ┆ null ┆ … ┆ Activo   ┆ Abogad@   ┆ Director ┆ 22.07 │\n",
       "│ 8   ┆ Sofia    ┆ null     ┆ F    ┆ … ┆ Activo   ┆ Profesor  ┆ Profesor ┆ 21.36 │\n",
       "└─────┴──────────┴──────────┴──────┴───┴──────────┴───────────┴──────────┴───────┘"
      ]
     },
     "execution_count": 57,
     "metadata": {},
     "output_type": "execute_result"
    }
   ],
   "source": []
  }
 ],
 "metadata": {
  "kernelspec": {
   "display_name": ".venv",
   "language": "python",
   "name": "python3"
  },
  "language_info": {
   "codemirror_mode": {
    "name": "ipython",
    "version": 3
   },
   "file_extension": ".py",
   "mimetype": "text/x-python",
   "name": "python",
   "nbconvert_exporter": "python",
   "pygments_lexer": "ipython3",
   "version": "3.13.5"
  }
 },
 "nbformat": 4,
 "nbformat_minor": 5
}
