{
 "cells": [
  {
   "cell_type": "markdown",
   "id": "ac993f15",
   "metadata": {},
   "source": [
    "**Aplicaremos todo lo aprendido con polars"
   ]
  },
  {
   "cell_type": "code",
   "execution_count": 1,
   "id": "d1ee08dc",
   "metadata": {},
   "outputs": [],
   "source": [
    "import polars as pl\n",
    "import numpy as np\n",
    "import matplotlib as plt"
   ]
  },
  {
   "cell_type": "code",
   "execution_count": 2,
   "id": "d9543038",
   "metadata": {},
   "outputs": [
    {
     "data": {
      "text/html": [
       "<div><style>\n",
       ".dataframe > thead > tr,\n",
       ".dataframe > tbody > tr {\n",
       "  text-align: right;\n",
       "  white-space: pre-wrap;\n",
       "}\n",
       "</style>\n",
       "<small>shape: (778, 12)</small><table border=\"1\" class=\"dataframe\"><thead><tr><th>NUMERO FACTURA CLIENTE</th><th>CONCEPTO</th><th>CLIENTE</th><th>PROVINCIA</th><th>SECTOR</th><th>IMPORTE CLIENTE</th><th>FECHA FACTURA CLIENTE</th><th>PAGADA CLIENTE</th><th>PROVEEDOR</th><th>ZONA</th><th>TIPO</th><th>IMPORTE PROVEEDOR</th></tr><tr><td>i64</td><td>str</td><td>str</td><td>str</td><td>str</td><td>i64</td><td>datetime[μs]</td><td>str</td><td>str</td><td>str</td><td>str</td><td>f64</td></tr></thead><tbody><tr><td>1</td><td>null</td><td>&quot;CLIENTE-0004&quot;</td><td>&quot;MADRID&quot;</td><td>&quot;CONSTRUCCION&quot;</td><td>1200</td><td>2019-07-31 00:00:00</td><td>&quot;SI&quot;</td><td>&quot;PROV-005&quot;</td><td>&quot;ZONA 2&quot;</td><td>&quot;INTERNO&quot;</td><td>540.0</td></tr><tr><td>2</td><td>&quot;PROYECTO&quot;</td><td>&quot;CLIENTE-0005&quot;</td><td>&quot;BARCELONA&quot;</td><td>&quot;METAL&quot;</td><td>800</td><td>2021-06-02 00:00:00</td><td>&quot;SI&quot;</td><td>&quot;PROV-003&quot;</td><td>&quot;ZONA 2&quot;</td><td>&quot;INTERNO&quot;</td><td>360.0</td></tr><tr><td>3</td><td>&quot;EQUIPOS&quot;</td><td>&quot;CLIENTE-0006&quot;</td><td>&quot;BARCELONA&quot;</td><td>&quot;BANCA&quot;</td><td>750</td><td>2020-04-13 00:00:00</td><td>&quot;SI&quot;</td><td>&quot;PROV-005&quot;</td><td>&quot;ZONA 2&quot;</td><td>&quot;INTERNO&quot;</td><td>337.5</td></tr><tr><td>4</td><td>&quot;PROGRAMA&quot;</td><td>&quot;CLIENTE-0007&quot;</td><td>&quot;BARCELONA&quot;</td><td>&quot;BANCA&quot;</td><td>4500</td><td>2020-03-19 00:00:00</td><td>&quot;SI&quot;</td><td>&quot;PROV-005&quot;</td><td>&quot;ZONA 2&quot;</td><td>&quot;INTERNO&quot;</td><td>2025.0</td></tr><tr><td>5</td><td>&quot;FORMACION&quot;</td><td>&quot;CLIENTE-0003&quot;</td><td>&quot;MADRID&quot;</td><td>&quot;CONSTRUCCION&quot;</td><td>500</td><td>2019-11-16 00:00:00</td><td>&quot;SI&quot;</td><td>&quot;PROV-003&quot;</td><td>&quot;ZONA 2&quot;</td><td>&quot;INTERNO&quot;</td><td>225.0</td></tr><tr><td>&hellip;</td><td>&hellip;</td><td>&hellip;</td><td>&hellip;</td><td>&hellip;</td><td>&hellip;</td><td>&hellip;</td><td>&hellip;</td><td>&hellip;</td><td>&hellip;</td><td>&hellip;</td><td>&hellip;</td></tr><tr><td>774</td><td>&quot;EQUIPOS&quot;</td><td>&quot;CLIENTE-0001&quot;</td><td>&quot;MADRID&quot;</td><td>&quot;METAL&quot;</td><td>300</td><td>2019-01-22 00:00:00</td><td>&quot;NO&quot;</td><td>&quot;PROV-005&quot;</td><td>&quot;ZONA 2&quot;</td><td>&quot;INTERNO&quot;</td><td>135.0</td></tr><tr><td>775</td><td>&quot;PROGRAMA&quot;</td><td>&quot;CLIENTE-0002&quot;</td><td>&quot;ALICANTE&quot;</td><td>&quot;CONSTRUCCION&quot;</td><td>120</td><td>2021-05-04 00:00:00</td><td>&quot;NO&quot;</td><td>&quot;PROV-003&quot;</td><td>&quot;ZONA 2&quot;</td><td>&quot;INTERNO&quot;</td><td>54.0</td></tr><tr><td>776</td><td>&quot;FORMACION&quot;</td><td>&quot;CLIENTE-0003&quot;</td><td>&quot;MADRID&quot;</td><td>&quot;CONSTRUCCION&quot;</td><td>150</td><td>2020-03-30 00:00:00</td><td>&quot;NO&quot;</td><td>&quot;PROV-005&quot;</td><td>&quot;ZONA 2&quot;</td><td>&quot;INTERNO&quot;</td><td>67.5</td></tr><tr><td>777</td><td>&quot;CONSULTORIA&quot;</td><td>&quot;CLIENTE-0004&quot;</td><td>&quot;MADRID&quot;</td><td>&quot;CONSTRUCCION&quot;</td><td>1200</td><td>2019-03-05 00:00:00</td><td>&quot;NO&quot;</td><td>&quot;PROV-005&quot;</td><td>&quot;ZONA 2&quot;</td><td>&quot;INTERNO&quot;</td><td>540.0</td></tr><tr><td>778</td><td>&quot;DESARROLLO&quot;</td><td>&quot;CLIENTE-0005&quot;</td><td>&quot;BARCELONA&quot;</td><td>&quot;METAL&quot;</td><td>800</td><td>2021-03-11 00:00:00</td><td>&quot;SI&quot;</td><td>&quot;PROV-003&quot;</td><td>&quot;ZONA 2&quot;</td><td>&quot;INTERNO&quot;</td><td>360.0</td></tr></tbody></table></div>"
      ],
      "text/plain": [
       "shape: (778, 12)\n",
       "┌─────────┬─────────────┬─────────────┬───────────┬───┬───────────┬────────┬─────────┬─────────────┐\n",
       "│ NUMERO  ┆ CONCEPTO    ┆ CLIENTE     ┆ PROVINCIA ┆ … ┆ PROVEEDOR ┆ ZONA   ┆ TIPO    ┆ IMPORTE     │\n",
       "│ FACTURA ┆ ---         ┆ ---         ┆ ---       ┆   ┆ ---       ┆ ---    ┆ ---     ┆ PROVEEDOR   │\n",
       "│ CLIENTE ┆ str         ┆ str         ┆ str       ┆   ┆ str       ┆ str    ┆ str     ┆ ---         │\n",
       "│ ---     ┆             ┆             ┆           ┆   ┆           ┆        ┆         ┆ f64         │\n",
       "│ i64     ┆             ┆             ┆           ┆   ┆           ┆        ┆         ┆             │\n",
       "╞═════════╪═════════════╪═════════════╪═══════════╪═══╪═══════════╪════════╪═════════╪═════════════╡\n",
       "│ 1       ┆ null        ┆ CLIENTE-000 ┆ MADRID    ┆ … ┆ PROV-005  ┆ ZONA 2 ┆ INTERNO ┆ 540.0       │\n",
       "│         ┆             ┆ 4           ┆           ┆   ┆           ┆        ┆         ┆             │\n",
       "│ 2       ┆ PROYECTO    ┆ CLIENTE-000 ┆ BARCELONA ┆ … ┆ PROV-003  ┆ ZONA 2 ┆ INTERNO ┆ 360.0       │\n",
       "│         ┆             ┆ 5           ┆           ┆   ┆           ┆        ┆         ┆             │\n",
       "│ 3       ┆ EQUIPOS     ┆ CLIENTE-000 ┆ BARCELONA ┆ … ┆ PROV-005  ┆ ZONA 2 ┆ INTERNO ┆ 337.5       │\n",
       "│         ┆             ┆ 6           ┆           ┆   ┆           ┆        ┆         ┆             │\n",
       "│ 4       ┆ PROGRAMA    ┆ CLIENTE-000 ┆ BARCELONA ┆ … ┆ PROV-005  ┆ ZONA 2 ┆ INTERNO ┆ 2025.0      │\n",
       "│         ┆             ┆ 7           ┆           ┆   ┆           ┆        ┆         ┆             │\n",
       "│ 5       ┆ FORMACION   ┆ CLIENTE-000 ┆ MADRID    ┆ … ┆ PROV-003  ┆ ZONA 2 ┆ INTERNO ┆ 225.0       │\n",
       "│         ┆             ┆ 3           ┆           ┆   ┆           ┆        ┆         ┆             │\n",
       "│ …       ┆ …           ┆ …           ┆ …         ┆ … ┆ …         ┆ …      ┆ …       ┆ …           │\n",
       "│ 774     ┆ EQUIPOS     ┆ CLIENTE-000 ┆ MADRID    ┆ … ┆ PROV-005  ┆ ZONA 2 ┆ INTERNO ┆ 135.0       │\n",
       "│         ┆             ┆ 1           ┆           ┆   ┆           ┆        ┆         ┆             │\n",
       "│ 775     ┆ PROGRAMA    ┆ CLIENTE-000 ┆ ALICANTE  ┆ … ┆ PROV-003  ┆ ZONA 2 ┆ INTERNO ┆ 54.0        │\n",
       "│         ┆             ┆ 2           ┆           ┆   ┆           ┆        ┆         ┆             │\n",
       "│ 776     ┆ FORMACION   ┆ CLIENTE-000 ┆ MADRID    ┆ … ┆ PROV-005  ┆ ZONA 2 ┆ INTERNO ┆ 67.5        │\n",
       "│         ┆             ┆ 3           ┆           ┆   ┆           ┆        ┆         ┆             │\n",
       "│ 777     ┆ CONSULTORIA ┆ CLIENTE-000 ┆ MADRID    ┆ … ┆ PROV-005  ┆ ZONA 2 ┆ INTERNO ┆ 540.0       │\n",
       "│         ┆             ┆ 4           ┆           ┆   ┆           ┆        ┆         ┆             │\n",
       "│ 778     ┆ DESARROLLO  ┆ CLIENTE-000 ┆ BARCELONA ┆ … ┆ PROV-003  ┆ ZONA 2 ┆ INTERNO ┆ 360.0       │\n",
       "│         ┆             ┆ 5           ┆           ┆   ┆           ┆        ┆         ┆             │\n",
       "└─────────┴─────────────┴─────────────┴───────────┴───┴───────────┴────────┴─────────┴─────────────┘"
      ]
     },
     "execution_count": 2,
     "metadata": {},
     "output_type": "execute_result"
    }
   ],
   "source": [
    "import os\n",
    "os.chdir(r'C:\\Users\\monti.UNITY12\\OneDrive\\Documentos\\CienciaDatos')\n",
    "df = pl.read_excel('informe.xlsx', engine='openpyxl')\n",
    "df"
   ]
  },
  {
   "cell_type": "code",
   "execution_count": 4,
   "id": "8a9f50e1",
   "metadata": {},
   "outputs": [
    {
     "data": {
      "text/html": [
       "<div><style>\n",
       ".dataframe > thead > tr,\n",
       ".dataframe > tbody > tr {\n",
       "  text-align: right;\n",
       "  white-space: pre-wrap;\n",
       "}\n",
       "</style>\n",
       "<small>shape: (9, 13)</small><table border=\"1\" class=\"dataframe\"><thead><tr><th>statistic</th><th>NUMERO FACTURA CLIENTE</th><th>CONCEPTO</th><th>CLIENTE</th><th>PROVINCIA</th><th>SECTOR</th><th>IMPORTE CLIENTE</th><th>FECHA FACTURA CLIENTE</th><th>PAGADA CLIENTE</th><th>PROVEEDOR</th><th>ZONA</th><th>TIPO</th><th>IMPORTE PROVEEDOR</th></tr><tr><td>str</td><td>f64</td><td>str</td><td>str</td><td>str</td><td>str</td><td>f64</td><td>str</td><td>str</td><td>str</td><td>str</td><td>str</td><td>f64</td></tr></thead><tbody><tr><td>&quot;count&quot;</td><td>778.0</td><td>&quot;777&quot;</td><td>&quot;778&quot;</td><td>&quot;778&quot;</td><td>&quot;778&quot;</td><td>778.0</td><td>&quot;778&quot;</td><td>&quot;778&quot;</td><td>&quot;778&quot;</td><td>&quot;778&quot;</td><td>&quot;778&quot;</td><td>778.0</td></tr><tr><td>&quot;null_count&quot;</td><td>0.0</td><td>&quot;1&quot;</td><td>&quot;0&quot;</td><td>&quot;0&quot;</td><td>&quot;0&quot;</td><td>0.0</td><td>&quot;0&quot;</td><td>&quot;0&quot;</td><td>&quot;0&quot;</td><td>&quot;0&quot;</td><td>&quot;0&quot;</td><td>0.0</td></tr><tr><td>&quot;mean&quot;</td><td>389.5</td><td>null</td><td>null</td><td>null</td><td>null</td><td>1507.18509</td><td>&quot;2020-06-21 04:19:07.557840&quot;</td><td>null</td><td>null</td><td>null</td><td>null</td><td>498.512853</td></tr><tr><td>&quot;std&quot;</td><td>224.733546</td><td>null</td><td>null</td><td>null</td><td>null</td><td>2237.602175</td><td>null</td><td>null</td><td>null</td><td>null</td><td>null</td><td>774.905154</td></tr><tr><td>&quot;min&quot;</td><td>1.0</td><td>&quot;CONSULTORIA&quot;</td><td>&quot;CLIENTE-0001&quot;</td><td>&quot;ALICANTE&quot;</td><td>&quot;BANCA&quot;</td><td>120.0</td><td>&quot;2019-01-02 00:00:00&quot;</td><td>&quot;NO&quot;</td><td>&quot;PROV-001&quot;</td><td>&quot;ZONA 1&quot;</td><td>&quot;EXTERNO&quot;</td><td>30.0</td></tr><tr><td>&quot;25%&quot;</td><td>195.0</td><td>null</td><td>null</td><td>null</td><td>null</td><td>300.0</td><td>&quot;2019-09-09 00:00:00&quot;</td><td>null</td><td>null</td><td>null</td><td>null</td><td>80.0</td></tr><tr><td>&quot;50%&quot;</td><td>390.0</td><td>null</td><td>null</td><td>null</td><td>null</td><td>680.0</td><td>&quot;2020-06-25 00:00:00&quot;</td><td>null</td><td>null</td><td>null</td><td>null</td><td>200.0</td></tr><tr><td>&quot;75%&quot;</td><td>584.0</td><td>null</td><td>null</td><td>null</td><td>null</td><td>1200.0</td><td>&quot;2021-03-23 00:00:00&quot;</td><td>null</td><td>null</td><td>null</td><td>null</td><td>375.0</td></tr><tr><td>&quot;max&quot;</td><td>778.0</td><td>&quot;PROYECTO&quot;</td><td>&quot;CLIENTE-0010&quot;</td><td>&quot;MADRID&quot;</td><td>&quot;METAL&quot;</td><td>8500.0</td><td>&quot;2021-12-29 00:00:00&quot;</td><td>&quot;SI&quot;</td><td>&quot;PROV-005&quot;</td><td>&quot;ZONA 2&quot;</td><td>&quot;INTERNO&quot;</td><td>3825.0</td></tr></tbody></table></div>"
      ],
      "text/plain": [
       "shape: (9, 13)\n",
       "┌────────────┬────────────┬────────────┬────────────┬───┬───────────┬────────┬─────────┬───────────┐\n",
       "│ statistic  ┆ NUMERO     ┆ CONCEPTO   ┆ CLIENTE    ┆ … ┆ PROVEEDOR ┆ ZONA   ┆ TIPO    ┆ IMPORTE   │\n",
       "│ ---        ┆ FACTURA    ┆ ---        ┆ ---        ┆   ┆ ---       ┆ ---    ┆ ---     ┆ PROVEEDOR │\n",
       "│ str        ┆ CLIENTE    ┆ str        ┆ str        ┆   ┆ str       ┆ str    ┆ str     ┆ ---       │\n",
       "│            ┆ ---        ┆            ┆            ┆   ┆           ┆        ┆         ┆ f64       │\n",
       "│            ┆ f64        ┆            ┆            ┆   ┆           ┆        ┆         ┆           │\n",
       "╞════════════╪════════════╪════════════╪════════════╪═══╪═══════════╪════════╪═════════╪═══════════╡\n",
       "│ count      ┆ 778.0      ┆ 777        ┆ 778        ┆ … ┆ 778       ┆ 778    ┆ 778     ┆ 778.0     │\n",
       "│ null_count ┆ 0.0        ┆ 1          ┆ 0          ┆ … ┆ 0         ┆ 0      ┆ 0       ┆ 0.0       │\n",
       "│ mean       ┆ 389.5      ┆ null       ┆ null       ┆ … ┆ null      ┆ null   ┆ null    ┆ 498.51285 │\n",
       "│            ┆            ┆            ┆            ┆   ┆           ┆        ┆         ┆ 3         │\n",
       "│ std        ┆ 224.733546 ┆ null       ┆ null       ┆ … ┆ null      ┆ null   ┆ null    ┆ 774.90515 │\n",
       "│            ┆            ┆            ┆            ┆   ┆           ┆        ┆         ┆ 4         │\n",
       "│ min        ┆ 1.0        ┆ CONSULTORI ┆ CLIENTE-00 ┆ … ┆ PROV-001  ┆ ZONA 1 ┆ EXTERNO ┆ 30.0      │\n",
       "│            ┆            ┆ A          ┆ 01         ┆   ┆           ┆        ┆         ┆           │\n",
       "│ 25%        ┆ 195.0      ┆ null       ┆ null       ┆ … ┆ null      ┆ null   ┆ null    ┆ 80.0      │\n",
       "│ 50%        ┆ 390.0      ┆ null       ┆ null       ┆ … ┆ null      ┆ null   ┆ null    ┆ 200.0     │\n",
       "│ 75%        ┆ 584.0      ┆ null       ┆ null       ┆ … ┆ null      ┆ null   ┆ null    ┆ 375.0     │\n",
       "│ max        ┆ 778.0      ┆ PROYECTO   ┆ CLIENTE-00 ┆ … ┆ PROV-005  ┆ ZONA 2 ┆ INTERNO ┆ 3825.0    │\n",
       "│            ┆            ┆            ┆ 10         ┆   ┆           ┆        ┆         ┆           │\n",
       "└────────────┴────────────┴────────────┴────────────┴───┴───────────┴────────┴─────────┴───────────┘"
      ]
     },
     "execution_count": 4,
     "metadata": {},
     "output_type": "execute_result"
    }
   ],
   "source": [
    "df.describe()"
   ]
  },
  {
   "cell_type": "code",
   "execution_count": 7,
   "id": "0fafc5d8",
   "metadata": {},
   "outputs": [
    {
     "data": {
      "text/plain": [
       "(778, 12)"
      ]
     },
     "execution_count": 7,
     "metadata": {},
     "output_type": "execute_result"
    }
   ],
   "source": [
    "#Mostrar cuantas filas y columnas tiene el archivo\n",
    "df.shape"
   ]
  },
  {
   "cell_type": "code",
   "execution_count": 8,
   "id": "6c46a763",
   "metadata": {},
   "outputs": [
    {
     "data": {
      "text/plain": [
       "[Int64,\n",
       " String,\n",
       " String,\n",
       " String,\n",
       " String,\n",
       " Int64,\n",
       " Datetime(time_unit='us', time_zone=None),\n",
       " String,\n",
       " String,\n",
       " String,\n",
       " String,\n",
       " Float64]"
      ]
     },
     "execution_count": 8,
     "metadata": {},
     "output_type": "execute_result"
    }
   ],
   "source": [
    "#Mostrar el listado de type the dato the columns\n",
    "df.dtypes"
   ]
  },
  {
   "cell_type": "code",
   "execution_count": 9,
   "id": "fea5b03a",
   "metadata": {},
   "outputs": [
    {
     "data": {
      "text/html": [
       "<div><style>\n",
       ".dataframe > thead > tr,\n",
       ".dataframe > tbody > tr {\n",
       "  text-align: right;\n",
       "  white-space: pre-wrap;\n",
       "}\n",
       "</style>\n",
       "<small>shape: (5, 12)</small><table border=\"1\" class=\"dataframe\"><thead><tr><th>NUMERO FACTURA CLIENTE</th><th>CONCEPTO</th><th>CLIENTE</th><th>PROVINCIA</th><th>SECTOR</th><th>IMPORTE CLIENTE</th><th>FECHA FACTURA CLIENTE</th><th>PAGADA CLIENTE</th><th>PROVEEDOR</th><th>ZONA</th><th>TIPO</th><th>IMPORTE PROVEEDOR</th></tr><tr><td>i64</td><td>str</td><td>str</td><td>str</td><td>str</td><td>i64</td><td>datetime[μs]</td><td>str</td><td>str</td><td>str</td><td>str</td><td>f64</td></tr></thead><tbody><tr><td>1</td><td>null</td><td>&quot;CLIENTE-0004&quot;</td><td>&quot;MADRID&quot;</td><td>&quot;CONSTRUCCION&quot;</td><td>1200</td><td>2019-07-31 00:00:00</td><td>&quot;SI&quot;</td><td>&quot;PROV-005&quot;</td><td>&quot;ZONA 2&quot;</td><td>&quot;INTERNO&quot;</td><td>540.0</td></tr><tr><td>2</td><td>&quot;PROYECTO&quot;</td><td>&quot;CLIENTE-0005&quot;</td><td>&quot;BARCELONA&quot;</td><td>&quot;METAL&quot;</td><td>800</td><td>2021-06-02 00:00:00</td><td>&quot;SI&quot;</td><td>&quot;PROV-003&quot;</td><td>&quot;ZONA 2&quot;</td><td>&quot;INTERNO&quot;</td><td>360.0</td></tr><tr><td>3</td><td>&quot;EQUIPOS&quot;</td><td>&quot;CLIENTE-0006&quot;</td><td>&quot;BARCELONA&quot;</td><td>&quot;BANCA&quot;</td><td>750</td><td>2020-04-13 00:00:00</td><td>&quot;SI&quot;</td><td>&quot;PROV-005&quot;</td><td>&quot;ZONA 2&quot;</td><td>&quot;INTERNO&quot;</td><td>337.5</td></tr><tr><td>4</td><td>&quot;PROGRAMA&quot;</td><td>&quot;CLIENTE-0007&quot;</td><td>&quot;BARCELONA&quot;</td><td>&quot;BANCA&quot;</td><td>4500</td><td>2020-03-19 00:00:00</td><td>&quot;SI&quot;</td><td>&quot;PROV-005&quot;</td><td>&quot;ZONA 2&quot;</td><td>&quot;INTERNO&quot;</td><td>2025.0</td></tr><tr><td>5</td><td>&quot;FORMACION&quot;</td><td>&quot;CLIENTE-0003&quot;</td><td>&quot;MADRID&quot;</td><td>&quot;CONSTRUCCION&quot;</td><td>500</td><td>2019-11-16 00:00:00</td><td>&quot;SI&quot;</td><td>&quot;PROV-003&quot;</td><td>&quot;ZONA 2&quot;</td><td>&quot;INTERNO&quot;</td><td>225.0</td></tr></tbody></table></div>"
      ],
      "text/plain": [
       "shape: (5, 12)\n",
       "┌─────────┬───────────┬──────────────┬───────────┬───┬───────────┬────────┬─────────┬───────────┐\n",
       "│ NUMERO  ┆ CONCEPTO  ┆ CLIENTE      ┆ PROVINCIA ┆ … ┆ PROVEEDOR ┆ ZONA   ┆ TIPO    ┆ IMPORTE   │\n",
       "│ FACTURA ┆ ---       ┆ ---          ┆ ---       ┆   ┆ ---       ┆ ---    ┆ ---     ┆ PROVEEDOR │\n",
       "│ CLIENTE ┆ str       ┆ str          ┆ str       ┆   ┆ str       ┆ str    ┆ str     ┆ ---       │\n",
       "│ ---     ┆           ┆              ┆           ┆   ┆           ┆        ┆         ┆ f64       │\n",
       "│ i64     ┆           ┆              ┆           ┆   ┆           ┆        ┆         ┆           │\n",
       "╞═════════╪═══════════╪══════════════╪═══════════╪═══╪═══════════╪════════╪═════════╪═══════════╡\n",
       "│ 1       ┆ null      ┆ CLIENTE-0004 ┆ MADRID    ┆ … ┆ PROV-005  ┆ ZONA 2 ┆ INTERNO ┆ 540.0     │\n",
       "│ 2       ┆ PROYECTO  ┆ CLIENTE-0005 ┆ BARCELONA ┆ … ┆ PROV-003  ┆ ZONA 2 ┆ INTERNO ┆ 360.0     │\n",
       "│ 3       ┆ EQUIPOS   ┆ CLIENTE-0006 ┆ BARCELONA ┆ … ┆ PROV-005  ┆ ZONA 2 ┆ INTERNO ┆ 337.5     │\n",
       "│ 4       ┆ PROGRAMA  ┆ CLIENTE-0007 ┆ BARCELONA ┆ … ┆ PROV-005  ┆ ZONA 2 ┆ INTERNO ┆ 2025.0    │\n",
       "│ 5       ┆ FORMACION ┆ CLIENTE-0003 ┆ MADRID    ┆ … ┆ PROV-003  ┆ ZONA 2 ┆ INTERNO ┆ 225.0     │\n",
       "└─────────┴───────────┴──────────────┴───────────┴───┴───────────┴────────┴─────────┴───────────┘"
      ]
     },
     "execution_count": 9,
     "metadata": {},
     "output_type": "execute_result"
    }
   ],
   "source": [
    "#Mostrar las primeras filas\n",
    "df.head()"
   ]
  },
  {
   "cell_type": "code",
   "execution_count": 10,
   "id": "490a1576",
   "metadata": {},
   "outputs": [
    {
     "data": {
      "text/html": [
       "<div><style>\n",
       ".dataframe > thead > tr,\n",
       ".dataframe > tbody > tr {\n",
       "  text-align: right;\n",
       "  white-space: pre-wrap;\n",
       "}\n",
       "</style>\n",
       "<small>shape: (2, 12)</small><table border=\"1\" class=\"dataframe\"><thead><tr><th>NUMERO FACTURA CLIENTE</th><th>CONCEPTO</th><th>CLIENTE</th><th>PROVINCIA</th><th>SECTOR</th><th>IMPORTE CLIENTE</th><th>FECHA FACTURA CLIENTE</th><th>PAGADA CLIENTE</th><th>PROVEEDOR</th><th>ZONA</th><th>TIPO</th><th>IMPORTE PROVEEDOR</th></tr><tr><td>i64</td><td>str</td><td>str</td><td>str</td><td>str</td><td>i64</td><td>datetime[μs]</td><td>str</td><td>str</td><td>str</td><td>str</td><td>f64</td></tr></thead><tbody><tr><td>777</td><td>&quot;CONSULTORIA&quot;</td><td>&quot;CLIENTE-0004&quot;</td><td>&quot;MADRID&quot;</td><td>&quot;CONSTRUCCION&quot;</td><td>1200</td><td>2019-03-05 00:00:00</td><td>&quot;NO&quot;</td><td>&quot;PROV-005&quot;</td><td>&quot;ZONA 2&quot;</td><td>&quot;INTERNO&quot;</td><td>540.0</td></tr><tr><td>778</td><td>&quot;DESARROLLO&quot;</td><td>&quot;CLIENTE-0005&quot;</td><td>&quot;BARCELONA&quot;</td><td>&quot;METAL&quot;</td><td>800</td><td>2021-03-11 00:00:00</td><td>&quot;SI&quot;</td><td>&quot;PROV-003&quot;</td><td>&quot;ZONA 2&quot;</td><td>&quot;INTERNO&quot;</td><td>360.0</td></tr></tbody></table></div>"
      ],
      "text/plain": [
       "shape: (2, 12)\n",
       "┌─────────┬─────────────┬─────────────┬───────────┬───┬───────────┬────────┬─────────┬─────────────┐\n",
       "│ NUMERO  ┆ CONCEPTO    ┆ CLIENTE     ┆ PROVINCIA ┆ … ┆ PROVEEDOR ┆ ZONA   ┆ TIPO    ┆ IMPORTE     │\n",
       "│ FACTURA ┆ ---         ┆ ---         ┆ ---       ┆   ┆ ---       ┆ ---    ┆ ---     ┆ PROVEEDOR   │\n",
       "│ CLIENTE ┆ str         ┆ str         ┆ str       ┆   ┆ str       ┆ str    ┆ str     ┆ ---         │\n",
       "│ ---     ┆             ┆             ┆           ┆   ┆           ┆        ┆         ┆ f64         │\n",
       "│ i64     ┆             ┆             ┆           ┆   ┆           ┆        ┆         ┆             │\n",
       "╞═════════╪═════════════╪═════════════╪═══════════╪═══╪═══════════╪════════╪═════════╪═════════════╡\n",
       "│ 777     ┆ CONSULTORIA ┆ CLIENTE-000 ┆ MADRID    ┆ … ┆ PROV-005  ┆ ZONA 2 ┆ INTERNO ┆ 540.0       │\n",
       "│         ┆             ┆ 4           ┆           ┆   ┆           ┆        ┆         ┆             │\n",
       "│ 778     ┆ DESARROLLO  ┆ CLIENTE-000 ┆ BARCELONA ┆ … ┆ PROV-003  ┆ ZONA 2 ┆ INTERNO ┆ 360.0       │\n",
       "│         ┆             ┆ 5           ┆           ┆   ┆           ┆        ┆         ┆             │\n",
       "└─────────┴─────────────┴─────────────┴───────────┴───┴───────────┴────────┴─────────┴─────────────┘"
      ]
     },
     "execution_count": 10,
     "metadata": {},
     "output_type": "execute_result"
    }
   ],
   "source": [
    "#Mostrar las ultimas filas\n",
    "df.tail(2)"
   ]
  },
  {
   "cell_type": "code",
   "execution_count": 11,
   "id": "8d14e0ca",
   "metadata": {},
   "outputs": [
    {
     "data": {
      "text/html": [
       "<div><style>\n",
       ".dataframe > thead > tr,\n",
       ".dataframe > tbody > tr {\n",
       "  text-align: right;\n",
       "  white-space: pre-wrap;\n",
       "}\n",
       "</style>\n",
       "<small>shape: (1, 12)</small><table border=\"1\" class=\"dataframe\"><thead><tr><th>NUMERO FACTURA CLIENTE</th><th>CONCEPTO</th><th>CLIENTE</th><th>PROVINCIA</th><th>SECTOR</th><th>IMPORTE CLIENTE</th><th>FECHA FACTURA CLIENTE</th><th>PAGADA CLIENTE</th><th>PROVEEDOR</th><th>ZONA</th><th>TIPO</th><th>IMPORTE PROVEEDOR</th></tr><tr><td>u32</td><td>u32</td><td>u32</td><td>u32</td><td>u32</td><td>u32</td><td>u32</td><td>u32</td><td>u32</td><td>u32</td><td>u32</td><td>u32</td></tr></thead><tbody><tr><td>0</td><td>1</td><td>0</td><td>0</td><td>0</td><td>0</td><td>0</td><td>0</td><td>0</td><td>0</td><td>0</td><td>0</td></tr></tbody></table></div>"
      ],
      "text/plain": [
       "shape: (1, 12)\n",
       "┌────────────────┬──────────┬─────────┬───────────┬───┬───────────┬──────┬──────┬───────────┐\n",
       "│ NUMERO FACTURA ┆ CONCEPTO ┆ CLIENTE ┆ PROVINCIA ┆ … ┆ PROVEEDOR ┆ ZONA ┆ TIPO ┆ IMPORTE   │\n",
       "│ CLIENTE        ┆ ---      ┆ ---     ┆ ---       ┆   ┆ ---       ┆ ---  ┆ ---  ┆ PROVEEDOR │\n",
       "│ ---            ┆ u32      ┆ u32     ┆ u32       ┆   ┆ u32       ┆ u32  ┆ u32  ┆ ---       │\n",
       "│ u32            ┆          ┆         ┆           ┆   ┆           ┆      ┆      ┆ u32       │\n",
       "╞════════════════╪══════════╪═════════╪═══════════╪═══╪═══════════╪══════╪══════╪═══════════╡\n",
       "│ 0              ┆ 1        ┆ 0       ┆ 0         ┆ … ┆ 0         ┆ 0    ┆ 0    ┆ 0         │\n",
       "└────────────────┴──────────┴─────────┴───────────┴───┴───────────┴──────┴──────┴───────────┘"
      ]
     },
     "execution_count": 11,
     "metadata": {},
     "output_type": "execute_result"
    }
   ],
   "source": [
    "#Mostra la cantidad de elementos nulos que hay en cada columna\n",
    "df.null_count()"
   ]
  }
 ],
 "metadata": {
  "kernelspec": {
   "display_name": ".venv",
   "language": "python",
   "name": "python3"
  },
  "language_info": {
   "codemirror_mode": {
    "name": "ipython",
    "version": 3
   },
   "file_extension": ".py",
   "mimetype": "text/x-python",
   "name": "python",
   "nbconvert_exporter": "python",
   "pygments_lexer": "ipython3",
   "version": "3.13.5"
  }
 },
 "nbformat": 4,
 "nbformat_minor": 5
}
