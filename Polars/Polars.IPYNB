{
 "cells": [
  {
   "cell_type": "markdown",
   "id": "668793ba",
   "metadata": {},
   "source": [
    "### Aprenderemos polar Totalmente desde cero"
   ]
  },
  {
   "cell_type": "markdown",
   "id": "a23eda45",
   "metadata": {},
   "source": [
    "**POLARS**\n",
    "\n",
    "Polars es una biblioteca de código abierto para la manipulación de datos , conocida por ser una de las soluciones de procesamiento de datos más rápidas en una sola máquina. Cuenta con una API bien estructurada y tipificada, expresiva y fácil de usar.\n",
    "\n",
    "**Rápido**\n",
    "\n",
    "Polars se desarrolló desde cero pensando en el rendimiento. Su motor de consultas multihilo está escrito en Rust y diseñado para un paralelismo efectivo. Su procesamiento vectorizado y columnar permite algoritmos coherentes con la caché y un alto rendimiento en procesadores modernos.\n",
    "\n",
    "**¿Por qué usar polares?**\n",
    "\n",
    "Polars se evaluó en una versión derivada del benchmark independiente TPC-H frente a otras soluciones. Este benchmark busca replicar las operaciones de manipulación de datos utilizadas en la práctica. Polars supera ampliamente a otras soluciones gracias a su motor de ejecución en paralelo, algoritmos eficientes y el uso de vectorización con SIMD (Instrucción Única, Datos Múltiples). En comparación con Pandas, puede alcanzar mejoras de rendimiento de más de 30 veces.\n",
    "\n",
    "*¿Qué es Polars?*\n",
    "\n",
    "Es una librería open source para manipulación de datos (similar a pandas).\n",
    "Fue creada en Rust (lenguaje ultrarrápido y seguro en memoria).\n",
    "Tiene bindings para Python, Rust y otros lenguajes.\n",
    "Está diseñada para manejar datasets grandes, incluso mayores a la memoria RAM disponible.\n",
    "\n",
    "*🔹 ¿Para qué sirve?*\n",
    "\n",
    "Análisis de datos tabulares (igual que pandas).\n",
    "Procesamiento rápido de grandes volúmenes de datos (Big Data en una sola máquina).\n",
    "Limpieza, transformación y agregación de datos.\n",
    "Lectura y escritura eficiente en formatos como CSV, Parquet, JSON, IPC/Arrow.\n",
    "Pipelines optimizados para ciencia de datos, machine learning y ETL.\n",
    "\n",
    "**🔹 ¿Cómo funciona?**\n",
    "\n",
    "Está escrito en Rust y usa Apache Arrow como formato interno de memoria (columnar, muy eficiente).\n",
    "Tiene dos modos:\n",
    "\n",
    "Eager API → como pandas, ejecuta todo inmediatamente.\n",
    "Lazy API → construcción de un plan de ejecución que optimiza todas las operaciones antes de ejecutarlas (similar a Spark o SQL).\n",
    "Esto significa que Polars optimiza automáticamente el orden de operaciones y reduce el uso de memoria.\n",
    "\n",
    "*🔹 Ventajas de Polars*\n",
    "\n",
    "✅ Velocidad → mucho más rápido que pandas, especialmente con grandes datasets.\n",
    "✅ Soporte a lazy evaluation → permite optimización automática de consultas.\n",
    "✅ Paralelización → aprovecha todos los núcleos del CPU de forma nativa.\n",
    "✅ Bajo consumo de memoria → gracias al uso de Apache Arrow (columnar).\n",
    "✅ Escalabilidad → puede manejar datasets más grandes que la memoria disponible.\n",
    "✅ Tipos de datos más seguros → menor riesgo de errores silenciosos en conversiones.\n",
    "\n",
    "*🔹 Desventajas de Polars*\n",
    "\n",
    "⚠️ Comunidad más pequeña → pandas tiene muchos más usuarios y soporte.\n",
    "⚠️ Menos tutoriales y recursos → aunque está creciendo rápido.\n",
    "⚠️ Compatibilidad limitada → algunas librerías de Python esperan pandas (ej. scikit-learn, statsmodels).\n",
    "⚠️ Curva de aprendizaje → si vienes de pandas, hay que acostumbrarse a la API de Polars.\n",
    "⚠️ Funciones estadísticas avanzadas → pandas todavía tiene más soporte nativo (aunque Polars mejora día a día).\n",
    "\n",
    "*🔹 Cuadro comparativo: Polars vs Pandas*\n",
    "\n",
    "Característica\tPolars 🦀\tPandas 🐼\n",
    "Lenguaje base\tRust + Python\tPython (Cython en partes)\n",
    "Velocidad\tMuy alta 🚀 (multihilo, optimizado)\tMedia (monohilo)\n",
    "Lazy evaluation\t✅ Sí\t❌ No\n",
    "Paralelización\t✅ Nativa (usa todos los núcleos)\t❌ No\n",
    "Consumo de memoria\tBajo (columnares con Apache Arrow)\tAlto (basado en arrays de NumPy)\n",
    "Facilidad de uso\tMedia (API parecida a pandas, pero diferente)\tAlta (muy popular y documentada)\n",
    "Comunidad y ecosistema\tCreciente, más pequeño\tMuy grande, estándar en la industria\n",
    "Compatibilidad\tLimitada con otras librerías\tExcelente, ampliamente soportado\n",
    "Escalabilidad\tMuy buena (datasets grandes, out-of-core)\tLimitada (datasets deben caber en RAM)\n",
    "Casos de uso\tBig Data en una sola máquina, ETL, análisis rápido\tAnálisis estándar, prototipado, ML con scikit-learn\n",
    "Curva de aprendizaje\tMedia (nueva API, pero intuitiva)\tBaja (muy difundido y con muchos tutoriales)\n",
    "\n",
    "**📌 Conclusión:**\n",
    "\n",
    "Si trabajas con datasets pequeños/medianos y quieres facilidad → pandas 🐼.\n",
    "Si necesitas velocidad, datasets grandes o paralelización → Polars 🦀."
   ]
  },
  {
   "cell_type": "markdown",
   "id": "8641c3f5",
   "metadata": {},
   "source": [
    "##### Importar la libreria de Polar"
   ]
  },
  {
   "cell_type": "code",
   "execution_count": 35,
   "id": "614cf384",
   "metadata": {},
   "outputs": [],
   "source": [
    "#realizar la importacion de la libreria de polar\n",
    "# Librerías\n",
    "import os\n",
    "import polars as pl\n",
    "from datetime import datetime\n",
    "os.chdir(r'C:\\Users\\monti.UNITY12\\OneDrive\\Documentos\\CienciaDatos')\n",
    "\n"
   ]
  },
  {
   "cell_type": "code",
   "execution_count": 36,
   "id": "aeff18ae",
   "metadata": {},
   "outputs": [
    {
     "data": {
      "text/html": [
       "<div><style>\n",
       ".dataframe > thead > tr,\n",
       ".dataframe > tbody > tr {\n",
       "  text-align: right;\n",
       "  white-space: pre-wrap;\n",
       "}\n",
       "</style>\n",
       "<small>shape: (4, 8)</small><table border=\"1\" class=\"dataframe\"><thead><tr><th>id</th><th>nombre</th><th>apellido</th><th>edad</th><th>altura</th><th>sexo</th><th>ciudad</th><th>estado_civil</th></tr><tr><td>i64</td><td>str</td><td>str</td><td>i64</td><td>f64</td><td>str</td><td>str</td><td>str</td></tr></thead><tbody><tr><td>1</td><td>&quot;Martha&quot;</td><td>&quot;Montiel&quot;</td><td>19</td><td>1.56</td><td>&quot;M&quot;</td><td>&quot;CDMX&quot;</td><td>&quot;casad@&quot;</td></tr><tr><td>2</td><td>&quot;Luis&quot;</td><td>&quot;Lopez&quot;</td><td>17</td><td>1.7</td><td>&quot;H&quot;</td><td>&quot;Madrid&quot;</td><td>&quot;solte@&quot;</td></tr><tr><td>3</td><td>&quot;Ana&quot;</td><td>&quot;Garcia&quot;</td><td>23</td><td>1.67</td><td>&quot;M&quot;</td><td>&quot;CDMX&quot;</td><td>&quot;casad@&quot;</td></tr><tr><td>4</td><td>&quot;Pedro&quot;</td><td>&quot;Mendez&quot;</td><td>31</td><td>1.66</td><td>&quot;H&quot;</td><td>&quot;Madrid&quot;</td><td>&quot;solter@&quot;</td></tr></tbody></table></div>"
      ],
      "text/plain": [
       "shape: (4, 8)\n",
       "┌─────┬────────┬──────────┬──────┬────────┬──────┬────────┬──────────────┐\n",
       "│ id  ┆ nombre ┆ apellido ┆ edad ┆ altura ┆ sexo ┆ ciudad ┆ estado_civil │\n",
       "│ --- ┆ ---    ┆ ---      ┆ ---  ┆ ---    ┆ ---  ┆ ---    ┆ ---          │\n",
       "│ i64 ┆ str    ┆ str      ┆ i64  ┆ f64    ┆ str  ┆ str    ┆ str          │\n",
       "╞═════╪════════╪══════════╪══════╪════════╪══════╪════════╪══════════════╡\n",
       "│ 1   ┆ Martha ┆ Montiel  ┆ 19   ┆ 1.56   ┆ M    ┆ CDMX   ┆ casad@       │\n",
       "│ 2   ┆ Luis   ┆ Lopez    ┆ 17   ┆ 1.7    ┆ H    ┆ Madrid ┆ solte@       │\n",
       "│ 3   ┆ Ana    ┆ Garcia   ┆ 23   ┆ 1.67   ┆ M    ┆ CDMX   ┆ casad@       │\n",
       "│ 4   ┆ Pedro  ┆ Mendez   ┆ 31   ┆ 1.66   ┆ H    ┆ Madrid ┆ solter@      │\n",
       "└─────┴────────┴──────────┴──────┴────────┴──────┴────────┴──────────────┘"
      ]
     },
     "execution_count": 36,
     "metadata": {},
     "output_type": "execute_result"
    }
   ],
   "source": [
    "#Crear un dataframe\n",
    "import polars as pl\n",
    "\n",
    "# Crear un DataFrame a partir de un diccionario\n",
    "data = pl.DataFrame({\n",
    "    \"id\": [1, 2, 3, 4],\n",
    "    \"nombre\": [\"Martha\", \"Luis\", \"Ana\", \"Pedro\"],\n",
    "    'apellido':['Montiel', 'Lopez', 'Garcia', 'Mendez'],\n",
    "    \"edad\": [19, 17, 23, 31],\n",
    "    'altura':[1.56,1.70,1.67, 1.66],\n",
    "    'sexo':['M', 'H','M', 'H'],\n",
    "    \"ciudad\": [\"CDMX\", \"Madrid\", \"CDMX\", \"Madrid\"],\n",
    "    'estado_civil':['casad@', 'solte@', 'casad@', 'solter@']\n",
    "})\n",
    "data.get_column_index('id')\n",
    "data"
   ]
  },
  {
   "cell_type": "code",
   "execution_count": 37,
   "id": "ed70cd77",
   "metadata": {},
   "outputs": [
    {
     "data": {
      "text/html": [
       "<div><style>\n",
       ".dataframe > thead > tr,\n",
       ".dataframe > tbody > tr {\n",
       "  text-align: right;\n",
       "  white-space: pre-wrap;\n",
       "}\n",
       "</style>\n",
       "<small>shape: (9, 9)</small><table border=\"1\" class=\"dataframe\"><thead><tr><th>statistic</th><th>id</th><th>nombre</th><th>apellido</th><th>edad</th><th>altura</th><th>sexo</th><th>ciudad</th><th>estado_civil</th></tr><tr><td>str</td><td>f64</td><td>str</td><td>str</td><td>f64</td><td>f64</td><td>str</td><td>str</td><td>str</td></tr></thead><tbody><tr><td>&quot;count&quot;</td><td>4.0</td><td>&quot;4&quot;</td><td>&quot;4&quot;</td><td>4.0</td><td>4.0</td><td>&quot;4&quot;</td><td>&quot;4&quot;</td><td>&quot;4&quot;</td></tr><tr><td>&quot;null_count&quot;</td><td>0.0</td><td>&quot;0&quot;</td><td>&quot;0&quot;</td><td>0.0</td><td>0.0</td><td>&quot;0&quot;</td><td>&quot;0&quot;</td><td>&quot;0&quot;</td></tr><tr><td>&quot;mean&quot;</td><td>2.5</td><td>null</td><td>null</td><td>22.5</td><td>1.6475</td><td>null</td><td>null</td><td>null</td></tr><tr><td>&quot;std&quot;</td><td>1.290994</td><td>null</td><td>null</td><td>6.191392</td><td>0.060759</td><td>null</td><td>null</td><td>null</td></tr><tr><td>&quot;min&quot;</td><td>1.0</td><td>&quot;Ana&quot;</td><td>&quot;Garcia&quot;</td><td>17.0</td><td>1.56</td><td>&quot;H&quot;</td><td>&quot;CDMX&quot;</td><td>&quot;casad@&quot;</td></tr><tr><td>&quot;25%&quot;</td><td>2.0</td><td>null</td><td>null</td><td>19.0</td><td>1.66</td><td>null</td><td>null</td><td>null</td></tr><tr><td>&quot;50%&quot;</td><td>3.0</td><td>null</td><td>null</td><td>23.0</td><td>1.67</td><td>null</td><td>null</td><td>null</td></tr><tr><td>&quot;75%&quot;</td><td>3.0</td><td>null</td><td>null</td><td>23.0</td><td>1.67</td><td>null</td><td>null</td><td>null</td></tr><tr><td>&quot;max&quot;</td><td>4.0</td><td>&quot;Pedro&quot;</td><td>&quot;Montiel&quot;</td><td>31.0</td><td>1.7</td><td>&quot;M&quot;</td><td>&quot;Madrid&quot;</td><td>&quot;solter@&quot;</td></tr></tbody></table></div>"
      ],
      "text/plain": [
       "shape: (9, 9)\n",
       "┌────────────┬──────────┬────────┬──────────┬───┬──────────┬──────┬────────┬──────────────┐\n",
       "│ statistic  ┆ id       ┆ nombre ┆ apellido ┆ … ┆ altura   ┆ sexo ┆ ciudad ┆ estado_civil │\n",
       "│ ---        ┆ ---      ┆ ---    ┆ ---      ┆   ┆ ---      ┆ ---  ┆ ---    ┆ ---          │\n",
       "│ str        ┆ f64      ┆ str    ┆ str      ┆   ┆ f64      ┆ str  ┆ str    ┆ str          │\n",
       "╞════════════╪══════════╪════════╪══════════╪═══╪══════════╪══════╪════════╪══════════════╡\n",
       "│ count      ┆ 4.0      ┆ 4      ┆ 4        ┆ … ┆ 4.0      ┆ 4    ┆ 4      ┆ 4            │\n",
       "│ null_count ┆ 0.0      ┆ 0      ┆ 0        ┆ … ┆ 0.0      ┆ 0    ┆ 0      ┆ 0            │\n",
       "│ mean       ┆ 2.5      ┆ null   ┆ null     ┆ … ┆ 1.6475   ┆ null ┆ null   ┆ null         │\n",
       "│ std        ┆ 1.290994 ┆ null   ┆ null     ┆ … ┆ 0.060759 ┆ null ┆ null   ┆ null         │\n",
       "│ min        ┆ 1.0      ┆ Ana    ┆ Garcia   ┆ … ┆ 1.56     ┆ H    ┆ CDMX   ┆ casad@       │\n",
       "│ 25%        ┆ 2.0      ┆ null   ┆ null     ┆ … ┆ 1.66     ┆ null ┆ null   ┆ null         │\n",
       "│ 50%        ┆ 3.0      ┆ null   ┆ null     ┆ … ┆ 1.67     ┆ null ┆ null   ┆ null         │\n",
       "│ 75%        ┆ 3.0      ┆ null   ┆ null     ┆ … ┆ 1.67     ┆ null ┆ null   ┆ null         │\n",
       "│ max        ┆ 4.0      ┆ Pedro  ┆ Montiel  ┆ … ┆ 1.7      ┆ M    ┆ Madrid ┆ solter@      │\n",
       "└────────────┴──────────┴────────┴──────────┴───┴──────────┴──────┴────────┴──────────────┘"
      ]
     },
     "execution_count": 37,
     "metadata": {},
     "output_type": "execute_result"
    }
   ],
   "source": [
    "#Mostrar la descripcion del dataframe\n",
    "data.describe()"
   ]
  },
  {
   "cell_type": "code",
   "execution_count": 38,
   "id": "35d58243",
   "metadata": {},
   "outputs": [
    {
     "data": {
      "text/plain": [
       "(4, 8)"
      ]
     },
     "execution_count": 38,
     "metadata": {},
     "output_type": "execute_result"
    }
   ],
   "source": [
    "data.shape #Mostrar la cantidad de filas y columnas"
   ]
  },
  {
   "cell_type": "code",
   "execution_count": 39,
   "id": "fafa3cf3",
   "metadata": {},
   "outputs": [
    {
     "data": {
      "text/plain": [
       "['id',\n",
       " 'nombre',\n",
       " 'apellido',\n",
       " 'edad',\n",
       " 'altura',\n",
       " 'sexo',\n",
       " 'ciudad',\n",
       " 'estado_civil']"
      ]
     },
     "execution_count": 39,
     "metadata": {},
     "output_type": "execute_result"
    }
   ],
   "source": [
    "data.columns #Mostrar el nombre en una listas de todas las columnas"
   ]
  },
  {
   "cell_type": "code",
   "execution_count": 40,
   "id": "ef5fbc14",
   "metadata": {},
   "outputs": [
    {
     "data": {
      "text/plain": [
       "[Int64, String, String, Int64, Float64, String, String, String]"
      ]
     },
     "execution_count": 40,
     "metadata": {},
     "output_type": "execute_result"
    }
   ],
   "source": [
    "#Mostrar el tipo de datos de cada columna.\n",
    "data.dtypes"
   ]
  },
  {
   "cell_type": "code",
   "execution_count": 41,
   "id": "c1b45fd2",
   "metadata": {},
   "outputs": [
    {
     "data": {
      "text/html": [
       "<div><style>\n",
       ".dataframe > thead > tr,\n",
       ".dataframe > tbody > tr {\n",
       "  text-align: right;\n",
       "  white-space: pre-wrap;\n",
       "}\n",
       "</style>\n",
       "<small>shape: (2, 8)</small><table border=\"1\" class=\"dataframe\"><thead><tr><th>id</th><th>nombre</th><th>apellido</th><th>edad</th><th>altura</th><th>sexo</th><th>ciudad</th><th>estado_civil</th></tr><tr><td>i64</td><td>str</td><td>str</td><td>i64</td><td>f64</td><td>str</td><td>str</td><td>str</td></tr></thead><tbody><tr><td>1</td><td>&quot;Martha&quot;</td><td>&quot;Montiel&quot;</td><td>19</td><td>1.56</td><td>&quot;M&quot;</td><td>&quot;CDMX&quot;</td><td>&quot;casad@&quot;</td></tr><tr><td>2</td><td>&quot;Luis&quot;</td><td>&quot;Lopez&quot;</td><td>17</td><td>1.7</td><td>&quot;H&quot;</td><td>&quot;Madrid&quot;</td><td>&quot;solte@&quot;</td></tr></tbody></table></div>"
      ],
      "text/plain": [
       "shape: (2, 8)\n",
       "┌─────┬────────┬──────────┬──────┬────────┬──────┬────────┬──────────────┐\n",
       "│ id  ┆ nombre ┆ apellido ┆ edad ┆ altura ┆ sexo ┆ ciudad ┆ estado_civil │\n",
       "│ --- ┆ ---    ┆ ---      ┆ ---  ┆ ---    ┆ ---  ┆ ---    ┆ ---          │\n",
       "│ i64 ┆ str    ┆ str      ┆ i64  ┆ f64    ┆ str  ┆ str    ┆ str          │\n",
       "╞═════╪════════╪══════════╪══════╪════════╪══════╪════════╪══════════════╡\n",
       "│ 1   ┆ Martha ┆ Montiel  ┆ 19   ┆ 1.56   ┆ M    ┆ CDMX   ┆ casad@       │\n",
       "│ 2   ┆ Luis   ┆ Lopez    ┆ 17   ┆ 1.7    ┆ H    ┆ Madrid ┆ solte@       │\n",
       "└─────┴────────┴──────────┴──────┴────────┴──────┴────────┴──────────────┘"
      ]
     },
     "execution_count": 41,
     "metadata": {},
     "output_type": "execute_result"
    }
   ],
   "source": [
    "#Mostrar las primeras filas\n",
    "data.head(2)"
   ]
  },
  {
   "cell_type": "code",
   "execution_count": 42,
   "id": "251a30ac",
   "metadata": {},
   "outputs": [
    {
     "data": {
      "text/html": [
       "<div><style>\n",
       ".dataframe > thead > tr,\n",
       ".dataframe > tbody > tr {\n",
       "  text-align: right;\n",
       "  white-space: pre-wrap;\n",
       "}\n",
       "</style>\n",
       "<small>shape: (2, 8)</small><table border=\"1\" class=\"dataframe\"><thead><tr><th>id</th><th>nombre</th><th>apellido</th><th>edad</th><th>altura</th><th>sexo</th><th>ciudad</th><th>estado_civil</th></tr><tr><td>i64</td><td>str</td><td>str</td><td>i64</td><td>f64</td><td>str</td><td>str</td><td>str</td></tr></thead><tbody><tr><td>3</td><td>&quot;Ana&quot;</td><td>&quot;Garcia&quot;</td><td>23</td><td>1.67</td><td>&quot;M&quot;</td><td>&quot;CDMX&quot;</td><td>&quot;casad@&quot;</td></tr><tr><td>4</td><td>&quot;Pedro&quot;</td><td>&quot;Mendez&quot;</td><td>31</td><td>1.66</td><td>&quot;H&quot;</td><td>&quot;Madrid&quot;</td><td>&quot;solter@&quot;</td></tr></tbody></table></div>"
      ],
      "text/plain": [
       "shape: (2, 8)\n",
       "┌─────┬────────┬──────────┬──────┬────────┬──────┬────────┬──────────────┐\n",
       "│ id  ┆ nombre ┆ apellido ┆ edad ┆ altura ┆ sexo ┆ ciudad ┆ estado_civil │\n",
       "│ --- ┆ ---    ┆ ---      ┆ ---  ┆ ---    ┆ ---  ┆ ---    ┆ ---          │\n",
       "│ i64 ┆ str    ┆ str      ┆ i64  ┆ f64    ┆ str  ┆ str    ┆ str          │\n",
       "╞═════╪════════╪══════════╪══════╪════════╪══════╪════════╪══════════════╡\n",
       "│ 3   ┆ Ana    ┆ Garcia   ┆ 23   ┆ 1.67   ┆ M    ┆ CDMX   ┆ casad@       │\n",
       "│ 4   ┆ Pedro  ┆ Mendez   ┆ 31   ┆ 1.66   ┆ H    ┆ Madrid ┆ solter@      │\n",
       "└─────┴────────┴──────────┴──────┴────────┴──────┴────────┴──────────────┘"
      ]
     },
     "execution_count": 42,
     "metadata": {},
     "output_type": "execute_result"
    }
   ],
   "source": [
    "#Mostrar las ultimas filas\n",
    "data.tail(2)"
   ]
  },
  {
   "cell_type": "code",
   "execution_count": 43,
   "id": "e3d6bf8e",
   "metadata": {},
   "outputs": [
    {
     "data": {
      "text/html": [
       "<div><style>\n",
       ".dataframe > thead > tr,\n",
       ".dataframe > tbody > tr {\n",
       "  text-align: right;\n",
       "  white-space: pre-wrap;\n",
       "}\n",
       "</style>\n",
       "<small>shape: (4,)</small><table border=\"1\" class=\"dataframe\"><thead><tr><th>nombre</th></tr><tr><td>str</td></tr></thead><tbody><tr><td>&quot;Martha&quot;</td></tr><tr><td>&quot;Luis&quot;</td></tr><tr><td>&quot;Ana&quot;</td></tr><tr><td>&quot;Pedro&quot;</td></tr></tbody></table></div>"
      ],
      "text/plain": [
       "shape: (4,)\n",
       "Series: 'nombre' [str]\n",
       "[\n",
       "\t\"Martha\"\n",
       "\t\"Luis\"\n",
       "\t\"Ana\"\n",
       "\t\"Pedro\"\n",
       "]"
      ]
     },
     "execution_count": 43,
     "metadata": {},
     "output_type": "execute_result"
    }
   ],
   "source": [
    "#Seleccionar columnas\n",
    "data['nombre']"
   ]
  },
  {
   "cell_type": "code",
   "execution_count": 44,
   "id": "ad1bfa8c",
   "metadata": {},
   "outputs": [
    {
     "data": {
      "text/html": [
       "<div><style>\n",
       ".dataframe > thead > tr,\n",
       ".dataframe > tbody > tr {\n",
       "  text-align: right;\n",
       "  white-space: pre-wrap;\n",
       "}\n",
       "</style>\n",
       "<small>shape: (4, 2)</small><table border=\"1\" class=\"dataframe\"><thead><tr><th>nombre</th><th>edad</th></tr><tr><td>str</td><td>i64</td></tr></thead><tbody><tr><td>&quot;Martha&quot;</td><td>19</td></tr><tr><td>&quot;Luis&quot;</td><td>17</td></tr><tr><td>&quot;Ana&quot;</td><td>23</td></tr><tr><td>&quot;Pedro&quot;</td><td>31</td></tr></tbody></table></div>"
      ],
      "text/plain": [
       "shape: (4, 2)\n",
       "┌────────┬──────┐\n",
       "│ nombre ┆ edad │\n",
       "│ ---    ┆ ---  │\n",
       "│ str    ┆ i64  │\n",
       "╞════════╪══════╡\n",
       "│ Martha ┆ 19   │\n",
       "│ Luis   ┆ 17   │\n",
       "│ Ana    ┆ 23   │\n",
       "│ Pedro  ┆ 31   │\n",
       "└────────┴──────┘"
      ]
     },
     "execution_count": 44,
     "metadata": {},
     "output_type": "execute_result"
    }
   ],
   "source": [
    "#Seleccionar multiples columnas\n",
    "data[['nombre', 'edad']]"
   ]
  },
  {
   "cell_type": "code",
   "execution_count": 68,
   "id": "ddf9bfbf",
   "metadata": {},
   "outputs": [
    {
     "data": {
      "text/html": [
       "<div><style>\n",
       ".dataframe > thead > tr,\n",
       ".dataframe > tbody > tr {\n",
       "  text-align: right;\n",
       "  white-space: pre-wrap;\n",
       "}\n",
       "</style>\n",
       "<small>shape: (4, 8)</small><table border=\"1\" class=\"dataframe\"><thead><tr><th>id</th><th>nombre</th><th>apellido</th><th>edad</th><th>altura</th><th>sexo</th><th>ciudad</th><th>estado_civil</th></tr><tr><td>i64</td><td>str</td><td>str</td><td>i64</td><td>f64</td><td>str</td><td>str</td><td>str</td></tr></thead><tbody><tr><td>3</td><td>&quot;Ana&quot;</td><td>&quot;Garcia&quot;</td><td>23</td><td>1.67</td><td>&quot;M&quot;</td><td>&quot;CDMX&quot;</td><td>&quot;casad@&quot;</td></tr><tr><td>2</td><td>&quot;Luis&quot;</td><td>&quot;Lopez&quot;</td><td>17</td><td>1.7</td><td>&quot;H&quot;</td><td>&quot;Madrid&quot;</td><td>&quot;solte@&quot;</td></tr><tr><td>1</td><td>&quot;Martha&quot;</td><td>&quot;Montiel&quot;</td><td>19</td><td>1.56</td><td>&quot;M&quot;</td><td>&quot;CDMX&quot;</td><td>&quot;casad@&quot;</td></tr><tr><td>4</td><td>&quot;Pedro&quot;</td><td>&quot;Mendez&quot;</td><td>31</td><td>1.66</td><td>&quot;H&quot;</td><td>&quot;Madrid&quot;</td><td>&quot;solter@&quot;</td></tr></tbody></table></div>"
      ],
      "text/plain": [
       "shape: (4, 8)\n",
       "┌─────┬────────┬──────────┬──────┬────────┬──────┬────────┬──────────────┐\n",
       "│ id  ┆ nombre ┆ apellido ┆ edad ┆ altura ┆ sexo ┆ ciudad ┆ estado_civil │\n",
       "│ --- ┆ ---    ┆ ---      ┆ ---  ┆ ---    ┆ ---  ┆ ---    ┆ ---          │\n",
       "│ i64 ┆ str    ┆ str      ┆ i64  ┆ f64    ┆ str  ┆ str    ┆ str          │\n",
       "╞═════╪════════╪══════════╪══════╪════════╪══════╪════════╪══════════════╡\n",
       "│ 3   ┆ Ana    ┆ Garcia   ┆ 23   ┆ 1.67   ┆ M    ┆ CDMX   ┆ casad@       │\n",
       "│ 2   ┆ Luis   ┆ Lopez    ┆ 17   ┆ 1.7    ┆ H    ┆ Madrid ┆ solte@       │\n",
       "│ 1   ┆ Martha ┆ Montiel  ┆ 19   ┆ 1.56   ┆ M    ┆ CDMX   ┆ casad@       │\n",
       "│ 4   ┆ Pedro  ┆ Mendez   ┆ 31   ┆ 1.66   ┆ H    ┆ Madrid ┆ solter@      │\n",
       "└─────┴────────┴──────────┴──────┴────────┴──────┴────────┴──────────────┘"
      ]
     },
     "execution_count": 68,
     "metadata": {},
     "output_type": "execute_result"
    }
   ],
   "source": [
    "#Ordenar informacion\n",
    "data.sort('nombre', descending=False)"
   ]
  },
  {
   "cell_type": "code",
   "execution_count": 46,
   "id": "89405881",
   "metadata": {},
   "outputs": [
    {
     "data": {
      "text/html": [
       "<div><style>\n",
       ".dataframe > thead > tr,\n",
       ".dataframe > tbody > tr {\n",
       "  text-align: right;\n",
       "  white-space: pre-wrap;\n",
       "}\n",
       "</style>\n",
       "<small>shape: (4, 8)</small><table border=\"1\" class=\"dataframe\"><thead><tr><th>id</th><th>nombre</th><th>apellido</th><th>edad</th><th>estatura</th><th>sexo</th><th>ciudad</th><th>estado_civil</th></tr><tr><td>i64</td><td>str</td><td>str</td><td>i64</td><td>f64</td><td>str</td><td>str</td><td>str</td></tr></thead><tbody><tr><td>1</td><td>&quot;Martha&quot;</td><td>&quot;Montiel&quot;</td><td>19</td><td>1.56</td><td>&quot;M&quot;</td><td>&quot;CDMX&quot;</td><td>&quot;casad@&quot;</td></tr><tr><td>2</td><td>&quot;Luis&quot;</td><td>&quot;Lopez&quot;</td><td>17</td><td>1.7</td><td>&quot;H&quot;</td><td>&quot;Madrid&quot;</td><td>&quot;solte@&quot;</td></tr><tr><td>3</td><td>&quot;Ana&quot;</td><td>&quot;Garcia&quot;</td><td>23</td><td>1.67</td><td>&quot;M&quot;</td><td>&quot;CDMX&quot;</td><td>&quot;casad@&quot;</td></tr><tr><td>4</td><td>&quot;Pedro&quot;</td><td>&quot;Mendez&quot;</td><td>31</td><td>1.66</td><td>&quot;H&quot;</td><td>&quot;Madrid&quot;</td><td>&quot;solter@&quot;</td></tr></tbody></table></div>"
      ],
      "text/plain": [
       "shape: (4, 8)\n",
       "┌─────┬────────┬──────────┬──────┬──────────┬──────┬────────┬──────────────┐\n",
       "│ id  ┆ nombre ┆ apellido ┆ edad ┆ estatura ┆ sexo ┆ ciudad ┆ estado_civil │\n",
       "│ --- ┆ ---    ┆ ---      ┆ ---  ┆ ---      ┆ ---  ┆ ---    ┆ ---          │\n",
       "│ i64 ┆ str    ┆ str      ┆ i64  ┆ f64      ┆ str  ┆ str    ┆ str          │\n",
       "╞═════╪════════╪══════════╪══════╪══════════╪══════╪════════╪══════════════╡\n",
       "│ 1   ┆ Martha ┆ Montiel  ┆ 19   ┆ 1.56     ┆ M    ┆ CDMX   ┆ casad@       │\n",
       "│ 2   ┆ Luis   ┆ Lopez    ┆ 17   ┆ 1.7      ┆ H    ┆ Madrid ┆ solte@       │\n",
       "│ 3   ┆ Ana    ┆ Garcia   ┆ 23   ┆ 1.67     ┆ M    ┆ CDMX   ┆ casad@       │\n",
       "│ 4   ┆ Pedro  ┆ Mendez   ┆ 31   ┆ 1.66     ┆ H    ┆ Madrid ┆ solter@      │\n",
       "└─────┴────────┴──────────┴──────┴──────────┴──────┴────────┴──────────────┘"
      ]
     },
     "execution_count": 46,
     "metadata": {},
     "output_type": "execute_result"
    }
   ],
   "source": [
    "#Renombrar columnas\n",
    "new_name = data.rename({'altura':'estatura'})\n",
    "new_name"
   ]
  },
  {
   "cell_type": "code",
   "execution_count": 47,
   "id": "00d5373d",
   "metadata": {},
   "outputs": [
    {
     "data": {
      "text/html": [
       "<div><style>\n",
       ".dataframe > thead > tr,\n",
       ".dataframe > tbody > tr {\n",
       "  text-align: right;\n",
       "  white-space: pre-wrap;\n",
       "}\n",
       "</style>\n",
       "<small>shape: (1, 8)</small><table border=\"1\" class=\"dataframe\"><thead><tr><th>id</th><th>nombre</th><th>apellido</th><th>edad</th><th>estatura</th><th>sexo</th><th>ciudad</th><th>estado_civil</th></tr><tr><td>u32</td><td>u32</td><td>u32</td><td>u32</td><td>u32</td><td>u32</td><td>u32</td><td>u32</td></tr></thead><tbody><tr><td>0</td><td>0</td><td>0</td><td>0</td><td>0</td><td>0</td><td>0</td><td>0</td></tr></tbody></table></div>"
      ],
      "text/plain": [
       "shape: (1, 8)\n",
       "┌─────┬────────┬──────────┬──────┬──────────┬──────┬────────┬──────────────┐\n",
       "│ id  ┆ nombre ┆ apellido ┆ edad ┆ estatura ┆ sexo ┆ ciudad ┆ estado_civil │\n",
       "│ --- ┆ ---    ┆ ---      ┆ ---  ┆ ---      ┆ ---  ┆ ---    ┆ ---          │\n",
       "│ u32 ┆ u32    ┆ u32      ┆ u32  ┆ u32      ┆ u32  ┆ u32    ┆ u32          │\n",
       "╞═════╪════════╪══════════╪══════╪══════════╪══════╪════════╪══════════════╡\n",
       "│ 0   ┆ 0      ┆ 0        ┆ 0    ┆ 0        ┆ 0    ┆ 0      ┆ 0            │\n",
       "└─────┴────────┴──────────┴──────┴──────────┴──────┴────────┴──────────────┘"
      ]
     },
     "execution_count": 47,
     "metadata": {},
     "output_type": "execute_result"
    }
   ],
   "source": [
    "#Verificar la cantidad de eleemntos nulos que hay \n",
    "nulo = new_name.null_count()\n",
    "nulo"
   ]
  },
  {
   "cell_type": "code",
   "execution_count": 48,
   "id": "e8a6eaeb",
   "metadata": {},
   "outputs": [
    {
     "data": {
      "text/html": [
       "<div><style>\n",
       ".dataframe > thead > tr,\n",
       ".dataframe > tbody > tr {\n",
       "  text-align: right;\n",
       "  white-space: pre-wrap;\n",
       "}\n",
       "</style>\n",
       "<small>shape: (4, 8)</small><table border=\"1\" class=\"dataframe\"><thead><tr><th>id</th><th>nombre</th><th>apellido</th><th>edad</th><th>estatura</th><th>sexo</th><th>ciudad</th><th>estado_civil</th></tr><tr><td>i64</td><td>str</td><td>str</td><td>i64</td><td>f64</td><td>str</td><td>str</td><td>str</td></tr></thead><tbody><tr><td>1</td><td>&quot;Martha&quot;</td><td>&quot;Montiel&quot;</td><td>19</td><td>1.56</td><td>&quot;M&quot;</td><td>&quot;CDMX&quot;</td><td>&quot;casad@&quot;</td></tr><tr><td>2</td><td>&quot;Luis&quot;</td><td>&quot;Lopez&quot;</td><td>17</td><td>1.7</td><td>&quot;H&quot;</td><td>&quot;Madrid&quot;</td><td>&quot;solte@&quot;</td></tr><tr><td>3</td><td>&quot;Ana&quot;</td><td>&quot;Garcia&quot;</td><td>23</td><td>1.67</td><td>&quot;M&quot;</td><td>&quot;CDMX&quot;</td><td>&quot;casad@&quot;</td></tr><tr><td>4</td><td>&quot;Pedro&quot;</td><td>&quot;Mendez&quot;</td><td>31</td><td>1.66</td><td>&quot;H&quot;</td><td>&quot;Madrid&quot;</td><td>&quot;solter@&quot;</td></tr></tbody></table></div>"
      ],
      "text/plain": [
       "shape: (4, 8)\n",
       "┌─────┬────────┬──────────┬──────┬──────────┬──────┬────────┬──────────────┐\n",
       "│ id  ┆ nombre ┆ apellido ┆ edad ┆ estatura ┆ sexo ┆ ciudad ┆ estado_civil │\n",
       "│ --- ┆ ---    ┆ ---      ┆ ---  ┆ ---      ┆ ---  ┆ ---    ┆ ---          │\n",
       "│ i64 ┆ str    ┆ str      ┆ i64  ┆ f64      ┆ str  ┆ str    ┆ str          │\n",
       "╞═════╪════════╪══════════╪══════╪══════════╪══════╪════════╪══════════════╡\n",
       "│ 1   ┆ Martha ┆ Montiel  ┆ 19   ┆ 1.56     ┆ M    ┆ CDMX   ┆ casad@       │\n",
       "│ 2   ┆ Luis   ┆ Lopez    ┆ 17   ┆ 1.7      ┆ H    ┆ Madrid ┆ solte@       │\n",
       "│ 3   ┆ Ana    ┆ Garcia   ┆ 23   ┆ 1.67     ┆ M    ┆ CDMX   ┆ casad@       │\n",
       "│ 4   ┆ Pedro  ┆ Mendez   ┆ 31   ┆ 1.66     ┆ H    ┆ Madrid ┆ solter@      │\n",
       "└─────┴────────┴──────────┴──────┴──────────┴──────┴────────┴──────────────┘"
      ]
     },
     "execution_count": 48,
     "metadata": {},
     "output_type": "execute_result"
    }
   ],
   "source": [
    "#Eliminar datos nulos\n",
    "delete_null = new_name.drop_nulls()\n",
    "delete_null"
   ]
  },
  {
   "cell_type": "code",
   "execution_count": 49,
   "id": "c8c1cdaf",
   "metadata": {},
   "outputs": [
    {
     "data": {
      "text/html": [
       "<div><style>\n",
       ".dataframe > thead > tr,\n",
       ".dataframe > tbody > tr {\n",
       "  text-align: right;\n",
       "  white-space: pre-wrap;\n",
       "}\n",
       "</style>\n",
       "<small>shape: (4, 7)</small><table border=\"1\" class=\"dataframe\"><thead><tr><th>id</th><th>nombre</th><th>apellido</th><th>edad</th><th>estatura</th><th>ciudad</th><th>estado_civil</th></tr><tr><td>i64</td><td>str</td><td>str</td><td>i64</td><td>f64</td><td>str</td><td>str</td></tr></thead><tbody><tr><td>1</td><td>&quot;Martha&quot;</td><td>&quot;Montiel&quot;</td><td>19</td><td>1.56</td><td>&quot;CDMX&quot;</td><td>&quot;casad@&quot;</td></tr><tr><td>2</td><td>&quot;Luis&quot;</td><td>&quot;Lopez&quot;</td><td>17</td><td>1.7</td><td>&quot;Madrid&quot;</td><td>&quot;solte@&quot;</td></tr><tr><td>3</td><td>&quot;Ana&quot;</td><td>&quot;Garcia&quot;</td><td>23</td><td>1.67</td><td>&quot;CDMX&quot;</td><td>&quot;casad@&quot;</td></tr><tr><td>4</td><td>&quot;Pedro&quot;</td><td>&quot;Mendez&quot;</td><td>31</td><td>1.66</td><td>&quot;Madrid&quot;</td><td>&quot;solter@&quot;</td></tr></tbody></table></div>"
      ],
      "text/plain": [
       "shape: (4, 7)\n",
       "┌─────┬────────┬──────────┬──────┬──────────┬────────┬──────────────┐\n",
       "│ id  ┆ nombre ┆ apellido ┆ edad ┆ estatura ┆ ciudad ┆ estado_civil │\n",
       "│ --- ┆ ---    ┆ ---      ┆ ---  ┆ ---      ┆ ---    ┆ ---          │\n",
       "│ i64 ┆ str    ┆ str      ┆ i64  ┆ f64      ┆ str    ┆ str          │\n",
       "╞═════╪════════╪══════════╪══════╪══════════╪════════╪══════════════╡\n",
       "│ 1   ┆ Martha ┆ Montiel  ┆ 19   ┆ 1.56     ┆ CDMX   ┆ casad@       │\n",
       "│ 2   ┆ Luis   ┆ Lopez    ┆ 17   ┆ 1.7      ┆ Madrid ┆ solte@       │\n",
       "│ 3   ┆ Ana    ┆ Garcia   ┆ 23   ┆ 1.67     ┆ CDMX   ┆ casad@       │\n",
       "│ 4   ┆ Pedro  ┆ Mendez   ┆ 31   ┆ 1.66     ┆ Madrid ┆ solter@      │\n",
       "└─────┴────────┴──────────┴──────┴──────────┴────────┴──────────────┘"
      ]
     },
     "execution_count": 49,
     "metadata": {},
     "output_type": "execute_result"
    }
   ],
   "source": [
    "#Eliminar columna\n",
    "delete_columns = new_name.drop('sexo')\n",
    "delete_columns"
   ]
  },
  {
   "cell_type": "code",
   "execution_count": 50,
   "id": "751e7238",
   "metadata": {},
   "outputs": [
    {
     "data": {
      "text/html": [
       "<div><style>\n",
       ".dataframe > thead > tr,\n",
       ".dataframe > tbody > tr {\n",
       "  text-align: right;\n",
       "  white-space: pre-wrap;\n",
       "}\n",
       "</style>\n",
       "<small>shape: (4, 2)</small><table border=\"1\" class=\"dataframe\"><thead><tr><th>nombre</th><th>apellido</th></tr><tr><td>str</td><td>str</td></tr></thead><tbody><tr><td>&quot;Martha&quot;</td><td>&quot;Montiel&quot;</td></tr><tr><td>&quot;Luis&quot;</td><td>&quot;Lopez&quot;</td></tr><tr><td>&quot;Ana&quot;</td><td>&quot;Garcia&quot;</td></tr><tr><td>&quot;Pedro&quot;</td><td>&quot;Mendez&quot;</td></tr></tbody></table></div>"
      ],
      "text/plain": [
       "shape: (4, 2)\n",
       "┌────────┬──────────┐\n",
       "│ nombre ┆ apellido │\n",
       "│ ---    ┆ ---      │\n",
       "│ str    ┆ str      │\n",
       "╞════════╪══════════╡\n",
       "│ Martha ┆ Montiel  │\n",
       "│ Luis   ┆ Lopez    │\n",
       "│ Ana    ┆ Garcia   │\n",
       "│ Pedro  ┆ Mendez   │\n",
       "└────────┴──────────┘"
      ]
     },
     "execution_count": 50,
     "metadata": {},
     "output_type": "execute_result"
    }
   ],
   "source": [
    "new_name.select('nombre', 'apellido')#Permite seleccionar multiples columnas"
   ]
  },
  {
   "cell_type": "markdown",
   "id": "d973ad08",
   "metadata": {},
   "source": [
    "**Filtrar Informacion**\n"
   ]
  },
  {
   "cell_type": "code",
   "execution_count": 51,
   "id": "b7e65666",
   "metadata": {},
   "outputs": [
    {
     "data": {
      "text/html": [
       "<div><style>\n",
       ".dataframe > thead > tr,\n",
       ".dataframe > tbody > tr {\n",
       "  text-align: right;\n",
       "  white-space: pre-wrap;\n",
       "}\n",
       "</style>\n",
       "<small>shape: (1, 8)</small><table border=\"1\" class=\"dataframe\"><thead><tr><th>id</th><th>nombre</th><th>apellido</th><th>edad</th><th>estatura</th><th>sexo</th><th>ciudad</th><th>estado_civil</th></tr><tr><td>i64</td><td>str</td><td>str</td><td>i64</td><td>f64</td><td>str</td><td>str</td><td>str</td></tr></thead><tbody><tr><td>4</td><td>&quot;Pedro&quot;</td><td>&quot;Mendez&quot;</td><td>31</td><td>1.66</td><td>&quot;H&quot;</td><td>&quot;Madrid&quot;</td><td>&quot;solter@&quot;</td></tr></tbody></table></div>"
      ],
      "text/plain": [
       "shape: (1, 8)\n",
       "┌─────┬────────┬──────────┬──────┬──────────┬──────┬────────┬──────────────┐\n",
       "│ id  ┆ nombre ┆ apellido ┆ edad ┆ estatura ┆ sexo ┆ ciudad ┆ estado_civil │\n",
       "│ --- ┆ ---    ┆ ---      ┆ ---  ┆ ---      ┆ ---  ┆ ---    ┆ ---          │\n",
       "│ i64 ┆ str    ┆ str      ┆ i64  ┆ f64      ┆ str  ┆ str    ┆ str          │\n",
       "╞═════╪════════╪══════════╪══════╪══════════╪══════╪════════╪══════════════╡\n",
       "│ 4   ┆ Pedro  ┆ Mendez   ┆ 31   ┆ 1.66     ┆ H    ┆ Madrid ┆ solter@      │\n",
       "└─────┴────────┴──────────┴──────┴──────────┴──────┴────────┴──────────────┘"
      ]
     },
     "execution_count": 51,
     "metadata": {},
     "output_type": "execute_result"
    }
   ],
   "source": [
    "edad_menor = new_name.filter(pl.col('edad')>=24)\n",
    "edad_menor"
   ]
  },
  {
   "cell_type": "code",
   "execution_count": 52,
   "id": "032e506f",
   "metadata": {},
   "outputs": [
    {
     "data": {
      "text/html": [
       "<div><style>\n",
       ".dataframe > thead > tr,\n",
       ".dataframe > tbody > tr {\n",
       "  text-align: right;\n",
       "  white-space: pre-wrap;\n",
       "}\n",
       "</style>\n",
       "<small>shape: (3, 2)</small><table border=\"1\" class=\"dataframe\"><thead><tr><th>nombre</th><th>edad</th></tr><tr><td>str</td><td>i64</td></tr></thead><tbody><tr><td>&quot;Martha&quot;</td><td>19</td></tr><tr><td>&quot;Luis&quot;</td><td>17</td></tr><tr><td>&quot;Ana&quot;</td><td>23</td></tr></tbody></table></div>"
      ],
      "text/plain": [
       "shape: (3, 2)\n",
       "┌────────┬──────┐\n",
       "│ nombre ┆ edad │\n",
       "│ ---    ┆ ---  │\n",
       "│ str    ┆ i64  │\n",
       "╞════════╪══════╡\n",
       "│ Martha ┆ 19   │\n",
       "│ Luis   ┆ 17   │\n",
       "│ Ana    ┆ 23   │\n",
       "└────────┴──────┘"
      ]
     },
     "execution_count": 52,
     "metadata": {},
     "output_type": "execute_result"
    }
   ],
   "source": [
    "#Filtrar y seleccionar solo algunas columnas\n",
    "edad_filtrada = (new_name.filter(pl.col(\"edad\") <= 25).select([\"nombre\", \"edad\"]))\n",
    "edad_filtrada\n"
   ]
  },
  {
   "cell_type": "code",
   "execution_count": 53,
   "id": "4ce64025",
   "metadata": {},
   "outputs": [
    {
     "data": {
      "text/html": [
       "<div><style>\n",
       ".dataframe > thead > tr,\n",
       ".dataframe > tbody > tr {\n",
       "  text-align: right;\n",
       "  white-space: pre-wrap;\n",
       "}\n",
       "</style>\n",
       "<small>shape: (3, 8)</small><table border=\"1\" class=\"dataframe\"><thead><tr><th>id</th><th>nombre</th><th>apellido</th><th>edad</th><th>estatura</th><th>sexo</th><th>ciudad</th><th>estado_civil</th></tr><tr><td>i64</td><td>str</td><td>str</td><td>i64</td><td>f64</td><td>str</td><td>str</td><td>str</td></tr></thead><tbody><tr><td>1</td><td>&quot;Martha&quot;</td><td>&quot;Montiel&quot;</td><td>19</td><td>1.56</td><td>&quot;M&quot;</td><td>&quot;CDMX&quot;</td><td>&quot;casad@&quot;</td></tr><tr><td>2</td><td>&quot;Luis&quot;</td><td>&quot;Lopez&quot;</td><td>17</td><td>1.7</td><td>&quot;H&quot;</td><td>&quot;Madrid&quot;</td><td>&quot;solte@&quot;</td></tr><tr><td>3</td><td>&quot;Ana&quot;</td><td>&quot;Garcia&quot;</td><td>23</td><td>1.67</td><td>&quot;M&quot;</td><td>&quot;CDMX&quot;</td><td>&quot;casad@&quot;</td></tr></tbody></table></div>"
      ],
      "text/plain": [
       "shape: (3, 8)\n",
       "┌─────┬────────┬──────────┬──────┬──────────┬──────┬────────┬──────────────┐\n",
       "│ id  ┆ nombre ┆ apellido ┆ edad ┆ estatura ┆ sexo ┆ ciudad ┆ estado_civil │\n",
       "│ --- ┆ ---    ┆ ---      ┆ ---  ┆ ---      ┆ ---  ┆ ---    ┆ ---          │\n",
       "│ i64 ┆ str    ┆ str      ┆ i64  ┆ f64      ┆ str  ┆ str    ┆ str          │\n",
       "╞═════╪════════╪══════════╪══════╪══════════╪══════╪════════╪══════════════╡\n",
       "│ 1   ┆ Martha ┆ Montiel  ┆ 19   ┆ 1.56     ┆ M    ┆ CDMX   ┆ casad@       │\n",
       "│ 2   ┆ Luis   ┆ Lopez    ┆ 17   ┆ 1.7      ┆ H    ┆ Madrid ┆ solte@       │\n",
       "│ 3   ┆ Ana    ┆ Garcia   ┆ 23   ┆ 1.67     ┆ M    ┆ CDMX   ┆ casad@       │\n",
       "└─────┴────────┴──────────┴──────┴──────────┴──────┴────────┴──────────────┘"
      ]
     },
     "execution_count": 53,
     "metadata": {},
     "output_type": "execute_result"
    }
   ],
   "source": [
    "#Filtrar por varias condiciones\n",
    "persona_cdmx = new_name.filter((pl.col('edad')<=25) | (pl.col('ciudad')=='CDMX'))\n",
    "persona_cdmx"
   ]
  },
  {
   "cell_type": "code",
   "execution_count": 54,
   "id": "937a8e39",
   "metadata": {},
   "outputs": [
    {
     "data": {
      "text/html": [
       "<div><style>\n",
       ".dataframe > thead > tr,\n",
       ".dataframe > tbody > tr {\n",
       "  text-align: right;\n",
       "  white-space: pre-wrap;\n",
       "}\n",
       "</style>\n",
       "<small>shape: (4, 8)</small><table border=\"1\" class=\"dataframe\"><thead><tr><th>id</th><th>nombre</th><th>apellido</th><th>edad</th><th>altura</th><th>sexo</th><th>ciudad</th><th>estado_civil</th></tr><tr><td>i64</td><td>str</td><td>str</td><td>i64</td><td>f64</td><td>str</td><td>str</td><td>str</td></tr></thead><tbody><tr><td>1</td><td>&quot;Martha&quot;</td><td>&quot;Montiel&quot;</td><td>19</td><td>1.56</td><td>&quot;M&quot;</td><td>&quot;CDMX&quot;</td><td>&quot;casad@&quot;</td></tr><tr><td>2</td><td>&quot;Luis&quot;</td><td>&quot;Lopez&quot;</td><td>17</td><td>1.7</td><td>&quot;H&quot;</td><td>&quot;Madrid&quot;</td><td>&quot;solte@&quot;</td></tr><tr><td>3</td><td>&quot;Ana&quot;</td><td>&quot;Garcia&quot;</td><td>23</td><td>1.67</td><td>&quot;M&quot;</td><td>&quot;CDMX&quot;</td><td>&quot;casad@&quot;</td></tr><tr><td>4</td><td>&quot;Pedro&quot;</td><td>&quot;Mendez&quot;</td><td>31</td><td>1.66</td><td>&quot;H&quot;</td><td>&quot;Madrid&quot;</td><td>&quot;solter@&quot;</td></tr></tbody></table></div>"
      ],
      "text/plain": [
       "shape: (4, 8)\n",
       "┌─────┬────────┬──────────┬──────┬────────┬──────┬────────┬──────────────┐\n",
       "│ id  ┆ nombre ┆ apellido ┆ edad ┆ altura ┆ sexo ┆ ciudad ┆ estado_civil │\n",
       "│ --- ┆ ---    ┆ ---      ┆ ---  ┆ ---    ┆ ---  ┆ ---    ┆ ---          │\n",
       "│ i64 ┆ str    ┆ str      ┆ i64  ┆ f64    ┆ str  ┆ str    ┆ str          │\n",
       "╞═════╪════════╪══════════╪══════╪════════╪══════╪════════╪══════════════╡\n",
       "│ 1   ┆ Martha ┆ Montiel  ┆ 19   ┆ 1.56   ┆ M    ┆ CDMX   ┆ casad@       │\n",
       "│ 2   ┆ Luis   ┆ Lopez    ┆ 17   ┆ 1.7    ┆ H    ┆ Madrid ┆ solte@       │\n",
       "│ 3   ┆ Ana    ┆ Garcia   ┆ 23   ┆ 1.67   ┆ M    ┆ CDMX   ┆ casad@       │\n",
       "│ 4   ┆ Pedro  ┆ Mendez   ┆ 31   ┆ 1.66   ┆ H    ┆ Madrid ┆ solter@      │\n",
       "└─────┴────────┴──────────┴──────┴────────┴──────┴────────┴──────────────┘"
      ]
     },
     "execution_count": 54,
     "metadata": {},
     "output_type": "execute_result"
    }
   ],
   "source": [
    "# Reemplazar nulos en una columna\n",
    "df = data.with_columns(\n",
    "    pl.col(\"edad\").fill_null(0)\n",
    ")\n",
    "df"
   ]
  },
  {
   "cell_type": "code",
   "execution_count": 55,
   "id": "63964b04",
   "metadata": {},
   "outputs": [
    {
     "data": {
      "text/html": [
       "<div><style>\n",
       ".dataframe > thead > tr,\n",
       ".dataframe > tbody > tr {\n",
       "  text-align: right;\n",
       "  white-space: pre-wrap;\n",
       "}\n",
       "</style>\n",
       "<small>shape: (4, 8)</small><table border=\"1\" class=\"dataframe\"><thead><tr><th>id</th><th>nombre</th><th>apellido</th><th>edad</th><th>altura</th><th>sexo</th><th>ciudad</th><th>estado_civil</th></tr><tr><td>i64</td><td>str</td><td>str</td><td>i64</td><td>f64</td><td>str</td><td>str</td><td>str</td></tr></thead><tbody><tr><td>1</td><td>&quot;Martha&quot;</td><td>&quot;Montiel&quot;</td><td>19</td><td>1.56</td><td>&quot;M&quot;</td><td>&quot;CDMX&quot;</td><td>&quot;casad@&quot;</td></tr><tr><td>2</td><td>&quot;Luis&quot;</td><td>&quot;Lopez&quot;</td><td>17</td><td>1.7</td><td>&quot;H&quot;</td><td>&quot;Madrid&quot;</td><td>&quot;solte@&quot;</td></tr><tr><td>3</td><td>&quot;Ana&quot;</td><td>&quot;Garcia&quot;</td><td>23</td><td>1.67</td><td>&quot;M&quot;</td><td>&quot;CDMX&quot;</td><td>&quot;casad@&quot;</td></tr><tr><td>4</td><td>&quot;Pedro&quot;</td><td>&quot;Mendez&quot;</td><td>31</td><td>1.66</td><td>&quot;H&quot;</td><td>&quot;Madrid&quot;</td><td>&quot;solter@&quot;</td></tr></tbody></table></div>"
      ],
      "text/plain": [
       "shape: (4, 8)\n",
       "┌─────┬────────┬──────────┬──────┬────────┬──────┬────────┬──────────────┐\n",
       "│ id  ┆ nombre ┆ apellido ┆ edad ┆ altura ┆ sexo ┆ ciudad ┆ estado_civil │\n",
       "│ --- ┆ ---    ┆ ---      ┆ ---  ┆ ---    ┆ ---  ┆ ---    ┆ ---          │\n",
       "│ i64 ┆ str    ┆ str      ┆ i64  ┆ f64    ┆ str  ┆ str    ┆ str          │\n",
       "╞═════╪════════╪══════════╪══════╪════════╪══════╪════════╪══════════════╡\n",
       "│ 1   ┆ Martha ┆ Montiel  ┆ 19   ┆ 1.56   ┆ M    ┆ CDMX   ┆ casad@       │\n",
       "│ 2   ┆ Luis   ┆ Lopez    ┆ 17   ┆ 1.7    ┆ H    ┆ Madrid ┆ solte@       │\n",
       "│ 3   ┆ Ana    ┆ Garcia   ┆ 23   ┆ 1.67   ┆ M    ┆ CDMX   ┆ casad@       │\n",
       "│ 4   ┆ Pedro  ┆ Mendez   ┆ 31   ┆ 1.66   ┆ H    ┆ Madrid ┆ solter@      │\n",
       "└─────┴────────┴──────────┴──────┴────────┴──────┴────────┴──────────────┘"
      ]
     },
     "execution_count": 55,
     "metadata": {},
     "output_type": "execute_result"
    }
   ],
   "source": [
    "## Reemplazar nulos en varias columnas\n",
    "df = df.fill_null(\"desconocido\")\n",
    "df"
   ]
  },
  {
   "cell_type": "code",
   "execution_count": 56,
   "id": "b1bef178",
   "metadata": {},
   "outputs": [
    {
     "data": {
      "text/html": [
       "<div><style>\n",
       ".dataframe > thead > tr,\n",
       ".dataframe > tbody > tr {\n",
       "  text-align: right;\n",
       "  white-space: pre-wrap;\n",
       "}\n",
       "</style>\n",
       "<small>shape: (4, 8)</small><table border=\"1\" class=\"dataframe\"><thead><tr><th>id</th><th>nombre</th><th>apellido</th><th>edad</th><th>altura</th><th>sexo</th><th>ciudad</th><th>estado_civil</th></tr><tr><td>i64</td><td>str</td><td>str</td><td>i64</td><td>f64</td><td>str</td><td>str</td><td>str</td></tr></thead><tbody><tr><td>1</td><td>&quot;Martha&quot;</td><td>&quot;Montiel&quot;</td><td>19</td><td>1.56</td><td>&quot;M&quot;</td><td>&quot;CDMX&quot;</td><td>&quot;casad@&quot;</td></tr><tr><td>2</td><td>&quot;Luis&quot;</td><td>&quot;Lopez&quot;</td><td>17</td><td>1.7</td><td>&quot;H&quot;</td><td>&quot;Madrid&quot;</td><td>&quot;solte@&quot;</td></tr><tr><td>3</td><td>&quot;Ana&quot;</td><td>&quot;Garcia&quot;</td><td>23</td><td>1.67</td><td>&quot;M&quot;</td><td>&quot;CDMX&quot;</td><td>&quot;casad@&quot;</td></tr><tr><td>4</td><td>&quot;Pedro&quot;</td><td>&quot;Mendez&quot;</td><td>31</td><td>1.66</td><td>&quot;H&quot;</td><td>&quot;Madrid&quot;</td><td>&quot;solter@&quot;</td></tr></tbody></table></div>"
      ],
      "text/plain": [
       "shape: (4, 8)\n",
       "┌─────┬────────┬──────────┬──────┬────────┬──────┬────────┬──────────────┐\n",
       "│ id  ┆ nombre ┆ apellido ┆ edad ┆ altura ┆ sexo ┆ ciudad ┆ estado_civil │\n",
       "│ --- ┆ ---    ┆ ---      ┆ ---  ┆ ---    ┆ ---  ┆ ---    ┆ ---          │\n",
       "│ i64 ┆ str    ┆ str      ┆ i64  ┆ f64    ┆ str  ┆ str    ┆ str          │\n",
       "╞═════╪════════╪══════════╪══════╪════════╪══════╪════════╪══════════════╡\n",
       "│ 1   ┆ Martha ┆ Montiel  ┆ 19   ┆ 1.56   ┆ M    ┆ CDMX   ┆ casad@       │\n",
       "│ 2   ┆ Luis   ┆ Lopez    ┆ 17   ┆ 1.7    ┆ H    ┆ Madrid ┆ solte@       │\n",
       "│ 3   ┆ Ana    ┆ Garcia   ┆ 23   ┆ 1.67   ┆ M    ┆ CDMX   ┆ casad@       │\n",
       "│ 4   ┆ Pedro  ┆ Mendez   ┆ 31   ┆ 1.66   ┆ H    ┆ Madrid ┆ solter@      │\n",
       "└─────┴────────┴──────────┴──────┴────────┴──────┴────────┴──────────────┘"
      ]
     },
     "execution_count": 56,
     "metadata": {},
     "output_type": "execute_result"
    }
   ],
   "source": [
    "# Eliminar filas solo si \"edad\" es nulo\n",
    "df_sin_nulos = df.drop_nulls(subset=[\"edad\"])\n",
    "df_sin_nulos"
   ]
  },
  {
   "cell_type": "code",
   "execution_count": 57,
   "id": "568698ac",
   "metadata": {},
   "outputs": [
    {
     "data": {
      "text/html": [
       "<div><style>\n",
       ".dataframe > thead > tr,\n",
       ".dataframe > tbody > tr {\n",
       "  text-align: right;\n",
       "  white-space: pre-wrap;\n",
       "}\n",
       "</style>\n",
       "<small>shape: (4, 8)</small><table border=\"1\" class=\"dataframe\"><thead><tr><th>id</th><th>nombre</th><th>apellido</th><th>edad</th><th>estatura</th><th>sexo</th><th>ciudad</th><th>estado_civil</th></tr><tr><td>i64</td><td>str</td><td>str</td><td>i64</td><td>f64</td><td>str</td><td>str</td><td>str</td></tr></thead><tbody><tr><td>1</td><td>&quot;Martha&quot;</td><td>&quot;Montiel&quot;</td><td>19</td><td>1.56</td><td>&quot;M&quot;</td><td>&quot;CDMX&quot;</td><td>&quot;casad@&quot;</td></tr><tr><td>2</td><td>&quot;Luis&quot;</td><td>&quot;Lopez&quot;</td><td>17</td><td>1.7</td><td>&quot;H&quot;</td><td>&quot;Madrid&quot;</td><td>&quot;solte@&quot;</td></tr><tr><td>3</td><td>&quot;Ana&quot;</td><td>&quot;Garcia&quot;</td><td>23</td><td>1.67</td><td>&quot;M&quot;</td><td>&quot;CDMX&quot;</td><td>&quot;casad@&quot;</td></tr><tr><td>4</td><td>&quot;Pedro&quot;</td><td>&quot;Mendez&quot;</td><td>31</td><td>1.66</td><td>&quot;H&quot;</td><td>&quot;Madrid&quot;</td><td>&quot;solter@&quot;</td></tr></tbody></table></div>"
      ],
      "text/plain": [
       "shape: (4, 8)\n",
       "┌─────┬────────┬──────────┬──────┬──────────┬──────┬────────┬──────────────┐\n",
       "│ id  ┆ nombre ┆ apellido ┆ edad ┆ estatura ┆ sexo ┆ ciudad ┆ estado_civil │\n",
       "│ --- ┆ ---    ┆ ---      ┆ ---  ┆ ---      ┆ ---  ┆ ---    ┆ ---          │\n",
       "│ i64 ┆ str    ┆ str      ┆ i64  ┆ f64      ┆ str  ┆ str    ┆ str          │\n",
       "╞═════╪════════╪══════════╪══════╪══════════╪══════╪════════╪══════════════╡\n",
       "│ 1   ┆ Martha ┆ Montiel  ┆ 19   ┆ 1.56     ┆ M    ┆ CDMX   ┆ casad@       │\n",
       "│ 2   ┆ Luis   ┆ Lopez    ┆ 17   ┆ 1.7      ┆ H    ┆ Madrid ┆ solte@       │\n",
       "│ 3   ┆ Ana    ┆ Garcia   ┆ 23   ┆ 1.67     ┆ M    ┆ CDMX   ┆ casad@       │\n",
       "│ 4   ┆ Pedro  ┆ Mendez   ┆ 31   ┆ 1.66     ┆ H    ┆ Madrid ┆ solter@      │\n",
       "└─────┴────────┴──────────┴──────┴──────────┴──────┴────────┴──────────────┘"
      ]
     },
     "execution_count": 57,
     "metadata": {},
     "output_type": "execute_result"
    }
   ],
   "source": [
    "#Eliminar espacios vacios\n",
    "espacio_vacios = new_name.with_columns(pl.col('nombre').str.strip_chars().alias('nombre'))\n",
    "espacio_vacios"
   ]
  },
  {
   "cell_type": "code",
   "execution_count": 58,
   "id": "53401d04",
   "metadata": {},
   "outputs": [
    {
     "data": {
      "text/html": [
       "<div><style>\n",
       ".dataframe > thead > tr,\n",
       ".dataframe > tbody > tr {\n",
       "  text-align: right;\n",
       "  white-space: pre-wrap;\n",
       "}\n",
       "</style>\n",
       "<small>shape: (4, 8)</small><table border=\"1\" class=\"dataframe\"><thead><tr><th>id</th><th>nombre</th><th>apellido</th><th>edad</th><th>estatura</th><th>sexo</th><th>ciudad</th><th>estado_civil</th></tr><tr><td>i64</td><td>str</td><td>str</td><td>i64</td><td>f64</td><td>str</td><td>str</td><td>str</td></tr></thead><tbody><tr><td>1</td><td>&quot;Martha&quot;</td><td>&quot;Montiel&quot;</td><td>19</td><td>1.56</td><td>&quot;M&quot;</td><td>&quot;CDMX&quot;</td><td>&quot;casad@&quot;</td></tr><tr><td>2</td><td>&quot;Luis&quot;</td><td>&quot;Lopez&quot;</td><td>17</td><td>1.7</td><td>&quot;H&quot;</td><td>&quot;Madrid&quot;</td><td>&quot;solte@&quot;</td></tr><tr><td>3</td><td>&quot;Ana&quot;</td><td>&quot;Garcia&quot;</td><td>23</td><td>1.67</td><td>&quot;M&quot;</td><td>&quot;CDMX&quot;</td><td>&quot;casad@&quot;</td></tr><tr><td>4</td><td>&quot;Pedro&quot;</td><td>&quot;Mendez&quot;</td><td>31</td><td>1.66</td><td>&quot;H&quot;</td><td>&quot;Madrid&quot;</td><td>&quot;solter@&quot;</td></tr></tbody></table></div>"
      ],
      "text/plain": [
       "shape: (4, 8)\n",
       "┌─────┬────────┬──────────┬──────┬──────────┬──────┬────────┬──────────────┐\n",
       "│ id  ┆ nombre ┆ apellido ┆ edad ┆ estatura ┆ sexo ┆ ciudad ┆ estado_civil │\n",
       "│ --- ┆ ---    ┆ ---      ┆ ---  ┆ ---      ┆ ---  ┆ ---    ┆ ---          │\n",
       "│ i64 ┆ str    ┆ str      ┆ i64  ┆ f64      ┆ str  ┆ str    ┆ str          │\n",
       "╞═════╪════════╪══════════╪══════╪══════════╪══════╪════════╪══════════════╡\n",
       "│ 1   ┆ Martha ┆ Montiel  ┆ 19   ┆ 1.56     ┆ M    ┆ CDMX   ┆ casad@       │\n",
       "│ 2   ┆ Luis   ┆ Lopez    ┆ 17   ┆ 1.7      ┆ H    ┆ Madrid ┆ solte@       │\n",
       "│ 3   ┆ Ana    ┆ Garcia   ┆ 23   ┆ 1.67     ┆ M    ┆ CDMX   ┆ casad@       │\n",
       "│ 4   ┆ Pedro  ┆ Mendez   ┆ 31   ┆ 1.66     ┆ H    ┆ Madrid ┆ solter@      │\n",
       "└─────┴────────┴──────────┴──────┴──────────┴──────┴────────┴──────────────┘"
      ]
     },
     "execution_count": 58,
     "metadata": {},
     "output_type": "execute_result"
    }
   ],
   "source": [
    "# Reemplazar edades negativas por nulos\n",
    "df = espacio_vacios.with_columns(\n",
    "    pl.when(pl.col(\"edad\") < 0)\n",
    "      .then(None)\n",
    "      .otherwise(pl.col(\"edad\"))\n",
    "      .alias(\"edad\")\n",
    ")\n",
    "df"
   ]
  },
  {
   "cell_type": "code",
   "execution_count": 59,
   "id": "55423927",
   "metadata": {},
   "outputs": [
    {
     "data": {
      "text/html": [
       "<div><style>\n",
       ".dataframe > thead > tr,\n",
       ".dataframe > tbody > tr {\n",
       "  text-align: right;\n",
       "  white-space: pre-wrap;\n",
       "}\n",
       "</style>\n",
       "<small>shape: (4, 8)</small><table border=\"1\" class=\"dataframe\"><thead><tr><th>id</th><th>nombre</th><th>apellido</th><th>edad</th><th>estatura</th><th>sexo</th><th>ciudad</th><th>estado_civil</th></tr><tr><td>i64</td><td>str</td><td>str</td><td>i64</td><td>f64</td><td>str</td><td>str</td><td>str</td></tr></thead><tbody><tr><td>1</td><td>&quot;Martha&quot;</td><td>&quot;Montiel&quot;</td><td>19</td><td>1.56</td><td>&quot;M&quot;</td><td>&quot;CDMX&quot;</td><td>&quot;casad@&quot;</td></tr><tr><td>2</td><td>&quot;Luis&quot;</td><td>&quot;Lopez&quot;</td><td>17</td><td>1.7</td><td>&quot;H&quot;</td><td>&quot;Madrid&quot;</td><td>&quot;solte@&quot;</td></tr><tr><td>3</td><td>&quot;Ana&quot;</td><td>&quot;Garcia&quot;</td><td>23</td><td>1.67</td><td>&quot;M&quot;</td><td>&quot;CDMX&quot;</td><td>&quot;casad@&quot;</td></tr><tr><td>4</td><td>&quot;Pedro&quot;</td><td>&quot;Mendez&quot;</td><td>31</td><td>1.66</td><td>&quot;H&quot;</td><td>&quot;Madrid&quot;</td><td>&quot;solter@&quot;</td></tr></tbody></table></div>"
      ],
      "text/plain": [
       "shape: (4, 8)\n",
       "┌─────┬────────┬──────────┬──────┬──────────┬──────┬────────┬──────────────┐\n",
       "│ id  ┆ nombre ┆ apellido ┆ edad ┆ estatura ┆ sexo ┆ ciudad ┆ estado_civil │\n",
       "│ --- ┆ ---    ┆ ---      ┆ ---  ┆ ---      ┆ ---  ┆ ---    ┆ ---          │\n",
       "│ i64 ┆ str    ┆ str      ┆ i64  ┆ f64      ┆ str  ┆ str    ┆ str          │\n",
       "╞═════╪════════╪══════════╪══════╪══════════╪══════╪════════╪══════════════╡\n",
       "│ 1   ┆ Martha ┆ Montiel  ┆ 19   ┆ 1.56     ┆ M    ┆ CDMX   ┆ casad@       │\n",
       "│ 2   ┆ Luis   ┆ Lopez    ┆ 17   ┆ 1.7      ┆ H    ┆ Madrid ┆ solte@       │\n",
       "│ 3   ┆ Ana    ┆ Garcia   ┆ 23   ┆ 1.67     ┆ M    ┆ CDMX   ┆ casad@       │\n",
       "│ 4   ┆ Pedro  ┆ Mendez   ┆ 31   ┆ 1.66     ┆ H    ┆ Madrid ┆ solter@      │\n",
       "└─────┴────────┴──────────┴──────┴──────────┴──────┴────────┴──────────────┘"
      ]
     },
     "execution_count": 59,
     "metadata": {},
     "output_type": "execute_result"
    }
   ],
   "source": [
    "# Convertir columna edad a entero\n",
    "df = espacio_vacios.with_columns(\n",
    "    pl.col(\"edad\").cast(pl.Int64)\n",
    ")\n",
    "df"
   ]
  },
  {
   "cell_type": "code",
   "execution_count": 60,
   "id": "36755089",
   "metadata": {},
   "outputs": [
    {
     "data": {
      "text/html": [
       "<div><style>\n",
       ".dataframe > thead > tr,\n",
       ".dataframe > tbody > tr {\n",
       "  text-align: right;\n",
       "  white-space: pre-wrap;\n",
       "}\n",
       "</style>\n",
       "<small>shape: (4, 8)</small><table border=\"1\" class=\"dataframe\"><thead><tr><th>id</th><th>nombre</th><th>apellido</th><th>edad</th><th>estatura</th><th>sexo</th><th>ciudad</th><th>estado_civil</th></tr><tr><td>i64</td><td>str</td><td>str</td><td>i64</td><td>f64</td><td>str</td><td>str</td><td>str</td></tr></thead><tbody><tr><td>1</td><td>&quot;Martha&quot;</td><td>&quot;Montiel&quot;</td><td>19</td><td>1.56</td><td>&quot;M&quot;</td><td>&quot;CDMX&quot;</td><td>&quot;casad@&quot;</td></tr><tr><td>2</td><td>&quot;Luis&quot;</td><td>&quot;Lopez&quot;</td><td>17</td><td>1.7</td><td>&quot;H&quot;</td><td>&quot;MADRID&quot;</td><td>&quot;solte@&quot;</td></tr><tr><td>3</td><td>&quot;Ana&quot;</td><td>&quot;Garcia&quot;</td><td>23</td><td>1.67</td><td>&quot;M&quot;</td><td>&quot;CDMX&quot;</td><td>&quot;casad@&quot;</td></tr><tr><td>4</td><td>&quot;Pedro&quot;</td><td>&quot;Mendez&quot;</td><td>31</td><td>1.66</td><td>&quot;H&quot;</td><td>&quot;MADRID&quot;</td><td>&quot;solter@&quot;</td></tr></tbody></table></div>"
      ],
      "text/plain": [
       "shape: (4, 8)\n",
       "┌─────┬────────┬──────────┬──────┬──────────┬──────┬────────┬──────────────┐\n",
       "│ id  ┆ nombre ┆ apellido ┆ edad ┆ estatura ┆ sexo ┆ ciudad ┆ estado_civil │\n",
       "│ --- ┆ ---    ┆ ---      ┆ ---  ┆ ---      ┆ ---  ┆ ---    ┆ ---          │\n",
       "│ i64 ┆ str    ┆ str      ┆ i64  ┆ f64      ┆ str  ┆ str    ┆ str          │\n",
       "╞═════╪════════╪══════════╪══════╪══════════╪══════╪════════╪══════════════╡\n",
       "│ 1   ┆ Martha ┆ Montiel  ┆ 19   ┆ 1.56     ┆ M    ┆ CDMX   ┆ casad@       │\n",
       "│ 2   ┆ Luis   ┆ Lopez    ┆ 17   ┆ 1.7      ┆ H    ┆ MADRID ┆ solte@       │\n",
       "│ 3   ┆ Ana    ┆ Garcia   ┆ 23   ┆ 1.67     ┆ M    ┆ CDMX   ┆ casad@       │\n",
       "│ 4   ┆ Pedro  ┆ Mendez   ┆ 31   ┆ 1.66     ┆ H    ┆ MADRID ┆ solter@      │\n",
       "└─────┴────────┴──────────┴──────┴──────────┴──────┴────────┴──────────────┘"
      ]
     },
     "execution_count": 60,
     "metadata": {},
     "output_type": "execute_result"
    }
   ],
   "source": [
    "#Convertir informacion mayuscula y minuscula\n",
    "# Convertir ciudades a mayúsculas\n",
    "mayuscula= espacio_vacios.with_columns(\n",
    "    pl.col(\"ciudad\").str.to_uppercase()\n",
    ")\n",
    "mayuscula"
   ]
  },
  {
   "cell_type": "code",
   "execution_count": 61,
   "id": "a243b3da",
   "metadata": {},
   "outputs": [
    {
     "data": {
      "text/html": [
       "<div><style>\n",
       ".dataframe > thead > tr,\n",
       ".dataframe > tbody > tr {\n",
       "  text-align: right;\n",
       "  white-space: pre-wrap;\n",
       "}\n",
       "</style>\n",
       "<small>shape: (4, 8)</small><table border=\"1\" class=\"dataframe\"><thead><tr><th>id</th><th>nombre</th><th>apellido</th><th>edad</th><th>estatura</th><th>sexo</th><th>ciudad</th><th>estado_civil</th></tr><tr><td>i64</td><td>str</td><td>str</td><td>i64</td><td>f64</td><td>str</td><td>str</td><td>str</td></tr></thead><tbody><tr><td>1</td><td>&quot;Martha&quot;</td><td>&quot;Montiel&quot;</td><td>19</td><td>1.56</td><td>&quot;M&quot;</td><td>&quot;Ciudad de México&quot;</td><td>&quot;casad@&quot;</td></tr><tr><td>2</td><td>&quot;Luis&quot;</td><td>&quot;Lopez&quot;</td><td>17</td><td>1.7</td><td>&quot;H&quot;</td><td>&quot;Madrid&quot;</td><td>&quot;solte@&quot;</td></tr><tr><td>3</td><td>&quot;Ana&quot;</td><td>&quot;Garcia&quot;</td><td>23</td><td>1.67</td><td>&quot;M&quot;</td><td>&quot;Ciudad de México&quot;</td><td>&quot;casad@&quot;</td></tr><tr><td>4</td><td>&quot;Pedro&quot;</td><td>&quot;Mendez&quot;</td><td>31</td><td>1.66</td><td>&quot;H&quot;</td><td>&quot;Madrid&quot;</td><td>&quot;solter@&quot;</td></tr></tbody></table></div>"
      ],
      "text/plain": [
       "shape: (4, 8)\n",
       "┌─────┬────────┬──────────┬──────┬──────────┬──────┬──────────────────┬──────────────┐\n",
       "│ id  ┆ nombre ┆ apellido ┆ edad ┆ estatura ┆ sexo ┆ ciudad           ┆ estado_civil │\n",
       "│ --- ┆ ---    ┆ ---      ┆ ---  ┆ ---      ┆ ---  ┆ ---              ┆ ---          │\n",
       "│ i64 ┆ str    ┆ str      ┆ i64  ┆ f64      ┆ str  ┆ str              ┆ str          │\n",
       "╞═════╪════════╪══════════╪══════╪══════════╪══════╪══════════════════╪══════════════╡\n",
       "│ 1   ┆ Martha ┆ Montiel  ┆ 19   ┆ 1.56     ┆ M    ┆ Ciudad de México ┆ casad@       │\n",
       "│ 2   ┆ Luis   ┆ Lopez    ┆ 17   ┆ 1.7      ┆ H    ┆ Madrid           ┆ solte@       │\n",
       "│ 3   ┆ Ana    ┆ Garcia   ┆ 23   ┆ 1.67     ┆ M    ┆ Ciudad de México ┆ casad@       │\n",
       "│ 4   ┆ Pedro  ┆ Mendez   ┆ 31   ┆ 1.66     ┆ H    ┆ Madrid           ┆ solter@      │\n",
       "└─────┴────────┴──────────┴──────┴──────────┴──────┴──────────────────┴──────────────┘"
      ]
     },
     "execution_count": 61,
     "metadata": {},
     "output_type": "execute_result"
    }
   ],
   "source": [
    "# Reemplazar valores específicos de las filas\n",
    "df = espacio_vacios.with_columns(\n",
    "    pl.col(\"ciudad\").replace(\"CDMX\", \"Ciudad de México\")\n",
    ")\n",
    "df"
   ]
  },
  {
   "cell_type": "code",
   "execution_count": 62,
   "id": "6f711397",
   "metadata": {},
   "outputs": [
    {
     "data": {
      "text/html": [
       "<div><style>\n",
       ".dataframe > thead > tr,\n",
       ".dataframe > tbody > tr {\n",
       "  text-align: right;\n",
       "  white-space: pre-wrap;\n",
       "}\n",
       "</style>\n",
       "<small>shape: (4, 8)</small><table border=\"1\" class=\"dataframe\"><thead><tr><th>id</th><th>nombre</th><th>apellido</th><th>edad</th><th>estatura</th><th>sexo</th><th>ciudad</th><th>estado_civil</th></tr><tr><td>i64</td><td>str</td><td>str</td><td>i64</td><td>f64</td><td>str</td><td>str</td><td>str</td></tr></thead><tbody><tr><td>1</td><td>&quot;Martha&quot;</td><td>&quot;Montiel&quot;</td><td>19</td><td>1.56</td><td>&quot;M&quot;</td><td>&quot;CDMX&quot;</td><td>&quot;casad@&quot;</td></tr><tr><td>2</td><td>&quot;Luis&quot;</td><td>&quot;Lopez&quot;</td><td>17</td><td>1.7</td><td>&quot;H&quot;</td><td>&quot;Madrid&quot;</td><td>&quot;solte@&quot;</td></tr><tr><td>3</td><td>&quot;Ana&quot;</td><td>&quot;Garcia&quot;</td><td>23</td><td>1.67</td><td>&quot;M&quot;</td><td>&quot;CDMX&quot;</td><td>&quot;casad@&quot;</td></tr><tr><td>4</td><td>&quot;Pedro&quot;</td><td>&quot;Mendez&quot;</td><td>31</td><td>1.66</td><td>&quot;H&quot;</td><td>&quot;Madrid&quot;</td><td>&quot;solter@&quot;</td></tr></tbody></table></div>"
      ],
      "text/plain": [
       "shape: (4, 8)\n",
       "┌─────┬────────┬──────────┬──────┬──────────┬──────┬────────┬──────────────┐\n",
       "│ id  ┆ nombre ┆ apellido ┆ edad ┆ estatura ┆ sexo ┆ ciudad ┆ estado_civil │\n",
       "│ --- ┆ ---    ┆ ---      ┆ ---  ┆ ---      ┆ ---  ┆ ---    ┆ ---          │\n",
       "│ i64 ┆ str    ┆ str      ┆ i64  ┆ f64      ┆ str  ┆ str    ┆ str          │\n",
       "╞═════╪════════╪══════════╪══════╪══════════╪══════╪════════╪══════════════╡\n",
       "│ 1   ┆ Martha ┆ Montiel  ┆ 19   ┆ 1.56     ┆ M    ┆ CDMX   ┆ casad@       │\n",
       "│ 2   ┆ Luis   ┆ Lopez    ┆ 17   ┆ 1.7      ┆ H    ┆ Madrid ┆ solte@       │\n",
       "│ 3   ┆ Ana    ┆ Garcia   ┆ 23   ┆ 1.67     ┆ M    ┆ CDMX   ┆ casad@       │\n",
       "│ 4   ┆ Pedro  ┆ Mendez   ┆ 31   ┆ 1.66     ┆ H    ┆ Madrid ┆ solter@      │\n",
       "└─────┴────────┴──────────┴──────┴──────────┴──────┴────────┴──────────────┘"
      ]
     },
     "execution_count": 62,
     "metadata": {},
     "output_type": "execute_result"
    }
   ],
   "source": [
    "espacio_vacios"
   ]
  },
  {
   "cell_type": "markdown",
   "id": "840083d8",
   "metadata": {},
   "source": [
    "**AGRUPAMIENTO DE DATOS**"
   ]
  },
  {
   "cell_type": "code",
   "execution_count": 63,
   "id": "d8a00ba9",
   "metadata": {},
   "outputs": [
    {
     "data": {
      "text/html": [
       "<div><style>\n",
       ".dataframe > thead > tr,\n",
       ".dataframe > tbody > tr {\n",
       "  text-align: right;\n",
       "  white-space: pre-wrap;\n",
       "}\n",
       "</style>\n",
       "<small>shape: (2, 2)</small><table border=\"1\" class=\"dataframe\"><thead><tr><th>sexo</th><th>Suma edad</th></tr><tr><td>str</td><td>i64</td></tr></thead><tbody><tr><td>&quot;M&quot;</td><td>42</td></tr><tr><td>&quot;H&quot;</td><td>48</td></tr></tbody></table></div>"
      ],
      "text/plain": [
       "shape: (2, 2)\n",
       "┌──────┬───────────┐\n",
       "│ sexo ┆ Suma edad │\n",
       "│ ---  ┆ ---       │\n",
       "│ str  ┆ i64       │\n",
       "╞══════╪═══════════╡\n",
       "│ M    ┆ 42        │\n",
       "│ H    ┆ 48        │\n",
       "└──────┴───────────┘"
      ]
     },
     "execution_count": 63,
     "metadata": {},
     "output_type": "execute_result"
    }
   ],
   "source": [
    "#aprenderemos sobre agrupamiento.\n",
    "grupo1 = espacio_vacios.group_by('sexo').agg(pl.col('edad').sum().alias('Suma edad'))\n",
    "grupo1"
   ]
  },
  {
   "cell_type": "markdown",
   "id": "456e8bdb",
   "metadata": {},
   "source": [
    "#### Tablas dinamicas"
   ]
  },
  {
   "cell_type": "code",
   "execution_count": 64,
   "id": "a50c1621",
   "metadata": {},
   "outputs": [
    {
     "data": {
      "text/html": [
       "<div><style>\n",
       ".dataframe > thead > tr,\n",
       ".dataframe > tbody > tr {\n",
       "  text-align: right;\n",
       "  white-space: pre-wrap;\n",
       "}\n",
       "</style>\n",
       "<small>shape: (7, 4)</small><table border=\"1\" class=\"dataframe\"><thead><tr><th>departamento</th><th>empleado</th><th>salario</th><th>año</th></tr><tr><td>str</td><td>str</td><td>i64</td><td>i64</td></tr></thead><tbody><tr><td>&quot;IT&quot;</td><td>&quot;Ana&quot;</td><td>3000</td><td>2023</td></tr><tr><td>&quot;IT&quot;</td><td>&quot;Luis&quot;</td><td>4000</td><td>2023</td></tr><tr><td>&quot;HR&quot;</td><td>&quot;Pedro&quot;</td><td>3500</td><td>2023</td></tr><tr><td>&quot;HR&quot;</td><td>&quot;María&quot;</td><td>3200</td><td>2024</td></tr><tr><td>&quot;Ventas&quot;</td><td>&quot;Carlos&quot;</td><td>4500</td><td>2023</td></tr><tr><td>&quot;Ventas&quot;</td><td>&quot;Sofía&quot;</td><td>3800</td><td>2024</td></tr><tr><td>&quot;IT&quot;</td><td>&quot;Jorge&quot;</td><td>4200</td><td>2024</td></tr></tbody></table></div>"
      ],
      "text/plain": [
       "shape: (7, 4)\n",
       "┌──────────────┬──────────┬─────────┬──────┐\n",
       "│ departamento ┆ empleado ┆ salario ┆ año  │\n",
       "│ ---          ┆ ---      ┆ ---     ┆ ---  │\n",
       "│ str          ┆ str      ┆ i64     ┆ i64  │\n",
       "╞══════════════╪══════════╪═════════╪══════╡\n",
       "│ IT           ┆ Ana      ┆ 3000    ┆ 2023 │\n",
       "│ IT           ┆ Luis     ┆ 4000    ┆ 2023 │\n",
       "│ HR           ┆ Pedro    ┆ 3500    ┆ 2023 │\n",
       "│ HR           ┆ María    ┆ 3200    ┆ 2024 │\n",
       "│ Ventas       ┆ Carlos   ┆ 4500    ┆ 2023 │\n",
       "│ Ventas       ┆ Sofía    ┆ 3800    ┆ 2024 │\n",
       "│ IT           ┆ Jorge    ┆ 4200    ┆ 2024 │\n",
       "└──────────────┴──────────┴─────────┴──────┘"
      ]
     },
     "execution_count": 64,
     "metadata": {},
     "output_type": "execute_result"
    }
   ],
   "source": [
    "dinamica = pl.DataFrame({\n",
    "    \"departamento\": [\"IT\", \"IT\", \"HR\", \"HR\", \"Ventas\", \"Ventas\", \"IT\"],\n",
    "    \"empleado\": [\"Ana\", \"Luis\", \"Pedro\", \"María\", \"Carlos\", \"Sofía\", \"Jorge\"],\n",
    "    \"salario\": [3000, 4000, 3500, 3200, 4500, 3800, 4200],\n",
    "    \"año\": [2023, 2023, 2023, 2024, 2023, 2024, 2024]\n",
    "})\n",
    "dinamica"
   ]
  },
  {
   "cell_type": "code",
   "execution_count": 65,
   "id": "9405f0dc",
   "metadata": {},
   "outputs": [
    {
     "name": "stderr",
     "output_type": "stream",
     "text": [
      "C:\\Users\\monti.UNITY12\\AppData\\Local\\Temp\\ipykernel_18188\\644366183.py:2: DeprecationWarning: the argument `columns` for `DataFrame.pivot` is deprecated. It was renamed to `on` in version 1.0.0.\n",
      "  tabla = dinamica.pivot(\n"
     ]
    },
    {
     "data": {
      "text/html": [
       "<div><style>\n",
       ".dataframe > thead > tr,\n",
       ".dataframe > tbody > tr {\n",
       "  text-align: right;\n",
       "  white-space: pre-wrap;\n",
       "}\n",
       "</style>\n",
       "<small>shape: (3, 3)</small><table border=\"1\" class=\"dataframe\"><thead><tr><th>departamento</th><th>2023</th><th>2024</th></tr><tr><td>str</td><td>f64</td><td>f64</td></tr></thead><tbody><tr><td>&quot;IT&quot;</td><td>3500.0</td><td>4200.0</td></tr><tr><td>&quot;HR&quot;</td><td>3500.0</td><td>3200.0</td></tr><tr><td>&quot;Ventas&quot;</td><td>4500.0</td><td>3800.0</td></tr></tbody></table></div>"
      ],
      "text/plain": [
       "shape: (3, 3)\n",
       "┌──────────────┬────────┬────────┐\n",
       "│ departamento ┆ 2023   ┆ 2024   │\n",
       "│ ---          ┆ ---    ┆ ---    │\n",
       "│ str          ┆ f64    ┆ f64    │\n",
       "╞══════════════╪════════╪════════╡\n",
       "│ IT           ┆ 3500.0 ┆ 4200.0 │\n",
       "│ HR           ┆ 3500.0 ┆ 3200.0 │\n",
       "│ Ventas       ┆ 4500.0 ┆ 3800.0 │\n",
       "└──────────────┴────────┴────────┘"
      ]
     },
     "execution_count": 65,
     "metadata": {},
     "output_type": "execute_result"
    }
   ],
   "source": [
    "#Ejemplo basico Queremos una tabla dinámica que muestre el salario promedio por departamento y año:\n",
    "tabla = dinamica.pivot(\n",
    "    values=\"salario\",\n",
    "    index=\"departamento\",\n",
    "    columns=\"año\",\n",
    "    aggregate_function=\"mean\"\n",
    ")\n",
    "tabla"
   ]
  },
  {
   "cell_type": "code",
   "execution_count": 66,
   "id": "b0727727",
   "metadata": {},
   "outputs": [
    {
     "name": "stderr",
     "output_type": "stream",
     "text": [
      "C:\\Users\\monti.UNITY12\\AppData\\Local\\Temp\\ipykernel_18188\\4213640323.py:2: DeprecationWarning: the argument `columns` for `DataFrame.pivot` is deprecated. It was renamed to `on` in version 1.0.0.\n",
      "  tabla1 = dinamica.pivot(\n"
     ]
    },
    {
     "data": {
      "text/html": [
       "<div><style>\n",
       ".dataframe > thead > tr,\n",
       ".dataframe > tbody > tr {\n",
       "  text-align: right;\n",
       "  white-space: pre-wrap;\n",
       "}\n",
       "</style>\n",
       "<small>shape: (7, 7)</small><table border=\"1\" class=\"dataframe\"><thead><tr><th>empleado</th><th>{&quot;IT&quot;,2023}</th><th>{&quot;HR&quot;,2023}</th><th>{&quot;HR&quot;,2024}</th><th>{&quot;Ventas&quot;,2023}</th><th>{&quot;Ventas&quot;,2024}</th><th>{&quot;IT&quot;,2024}</th></tr><tr><td>str</td><td>i64</td><td>i64</td><td>i64</td><td>i64</td><td>i64</td><td>i64</td></tr></thead><tbody><tr><td>&quot;Ana&quot;</td><td>3000</td><td>0</td><td>0</td><td>0</td><td>0</td><td>0</td></tr><tr><td>&quot;Luis&quot;</td><td>4000</td><td>0</td><td>0</td><td>0</td><td>0</td><td>0</td></tr><tr><td>&quot;Pedro&quot;</td><td>0</td><td>3500</td><td>0</td><td>0</td><td>0</td><td>0</td></tr><tr><td>&quot;María&quot;</td><td>0</td><td>0</td><td>3200</td><td>0</td><td>0</td><td>0</td></tr><tr><td>&quot;Carlos&quot;</td><td>0</td><td>0</td><td>0</td><td>4500</td><td>0</td><td>0</td></tr><tr><td>&quot;Sofía&quot;</td><td>0</td><td>0</td><td>0</td><td>0</td><td>3800</td><td>0</td></tr><tr><td>&quot;Jorge&quot;</td><td>0</td><td>0</td><td>0</td><td>0</td><td>0</td><td>4200</td></tr></tbody></table></div>"
      ],
      "text/plain": [
       "shape: (7, 7)\n",
       "┌──────────┬─────────────┬─────────────┬─────────────┬───────────────┬───────────────┬─────────────┐\n",
       "│ empleado ┆ {\"IT\",2023} ┆ {\"HR\",2023} ┆ {\"HR\",2024} ┆ {\"Ventas\",202 ┆ {\"Ventas\",202 ┆ {\"IT\",2024} │\n",
       "│ ---      ┆ ---         ┆ ---         ┆ ---         ┆ 3}            ┆ 4}            ┆ ---         │\n",
       "│ str      ┆ i64         ┆ i64         ┆ i64         ┆ ---           ┆ ---           ┆ i64         │\n",
       "│          ┆             ┆             ┆             ┆ i64           ┆ i64           ┆             │\n",
       "╞══════════╪═════════════╪═════════════╪═════════════╪═══════════════╪═══════════════╪═════════════╡\n",
       "│ Ana      ┆ 3000        ┆ 0           ┆ 0           ┆ 0             ┆ 0             ┆ 0           │\n",
       "│ Luis     ┆ 4000        ┆ 0           ┆ 0           ┆ 0             ┆ 0             ┆ 0           │\n",
       "│ Pedro    ┆ 0           ┆ 3500        ┆ 0           ┆ 0             ┆ 0             ┆ 0           │\n",
       "│ María    ┆ 0           ┆ 0           ┆ 3200        ┆ 0             ┆ 0             ┆ 0           │\n",
       "│ Carlos   ┆ 0           ┆ 0           ┆ 0           ┆ 4500          ┆ 0             ┆ 0           │\n",
       "│ Sofía    ┆ 0           ┆ 0           ┆ 0           ┆ 0             ┆ 3800          ┆ 0           │\n",
       "│ Jorge    ┆ 0           ┆ 0           ┆ 0           ┆ 0             ┆ 0             ┆ 4200        │\n",
       "└──────────┴─────────────┴─────────────┴─────────────┴───────────────┴───────────────┴─────────────┘"
      ]
     },
     "execution_count": 66,
     "metadata": {},
     "output_type": "execute_result"
    }
   ],
   "source": [
    "#ejemplo 3\n",
    "tabla1 = dinamica.pivot(\n",
    "    values=\"salario\",\n",
    "    index=\"empleado\",\n",
    "    columns=[\"departamento\", \"año\"],\n",
    "    aggregate_function=\"sum\"\n",
    ")\n",
    "tabla1"
   ]
  },
  {
   "cell_type": "code",
   "execution_count": null,
   "id": "e394a629",
   "metadata": {},
   "outputs": [
    {
     "data": {
      "text/html": [
       "<div><style>\n",
       ".dataframe > thead > tr,\n",
       ".dataframe > tbody > tr {\n",
       "  text-align: right;\n",
       "  white-space: pre-wrap;\n",
       "}\n",
       "</style>\n",
       "<small>shape: (4, 8)</small><table border=\"1\" class=\"dataframe\"><thead><tr><th>apellido</th><th>ciudad</th><th>edad</th><th>estado_civil</th><th>estatura</th><th>id</th><th>nombre</th><th>sexo</th></tr><tr><td>str</td><td>str</td><td>i64</td><td>str</td><td>f64</td><td>i64</td><td>str</td><td>str</td></tr></thead><tbody><tr><td>&quot;Montiel&quot;</td><td>&quot;Ciudad de México&quot;</td><td>19</td><td>&quot;casad@&quot;</td><td>1.56</td><td>1</td><td>&quot;Martha&quot;</td><td>&quot;M&quot;</td></tr><tr><td>&quot;Lopez&quot;</td><td>&quot;Madrid&quot;</td><td>17</td><td>&quot;solte@&quot;</td><td>1.7</td><td>2</td><td>&quot;Luis&quot;</td><td>&quot;H&quot;</td></tr><tr><td>&quot;Garcia&quot;</td><td>&quot;Ciudad de México&quot;</td><td>23</td><td>&quot;casad@&quot;</td><td>1.67</td><td>3</td><td>&quot;Ana&quot;</td><td>&quot;M&quot;</td></tr><tr><td>&quot;Mendez&quot;</td><td>&quot;Madrid&quot;</td><td>31</td><td>&quot;solter@&quot;</td><td>1.66</td><td>4</td><td>&quot;Pedro&quot;</td><td>&quot;H&quot;</td></tr></tbody></table></div>"
      ],
      "text/plain": [
       "shape: (4, 8)\n",
       "┌──────────┬──────────────────┬──────┬──────────────┬──────────┬─────┬────────┬──────┐\n",
       "│ apellido ┆ ciudad           ┆ edad ┆ estado_civil ┆ estatura ┆ id  ┆ nombre ┆ sexo │\n",
       "│ ---      ┆ ---              ┆ ---  ┆ ---          ┆ ---      ┆ --- ┆ ---    ┆ ---  │\n",
       "│ str      ┆ str              ┆ i64  ┆ str          ┆ f64      ┆ i64 ┆ str    ┆ str  │\n",
       "╞══════════╪══════════════════╪══════╪══════════════╪══════════╪═════╪════════╪══════╡\n",
       "│ Montiel  ┆ Ciudad de México ┆ 19   ┆ casad@       ┆ 1.56     ┆ 1   ┆ Martha ┆ M    │\n",
       "│ Lopez    ┆ Madrid           ┆ 17   ┆ solte@       ┆ 1.7      ┆ 2   ┆ Luis   ┆ H    │\n",
       "│ Garcia   ┆ Ciudad de México ┆ 23   ┆ casad@       ┆ 1.67     ┆ 3   ┆ Ana    ┆ M    │\n",
       "│ Mendez   ┆ Madrid           ┆ 31   ┆ solter@      ┆ 1.66     ┆ 4   ┆ Pedro  ┆ H    │\n",
       "└──────────┴──────────────────┴──────┴──────────────┴──────────┴─────┴────────┴──────┘"
      ]
     },
     "execution_count": 69,
     "metadata": {},
     "output_type": "execute_result"
    }
   ],
   "source": [
    "#ordenar columnas\n",
    "df.select(sorted(df.columns))\n"
   ]
  },
  {
   "cell_type": "code",
   "execution_count": null,
   "id": "6e7273ad",
   "metadata": {},
   "outputs": [
    {
     "data": {
      "text/html": [
       "<div><style>\n",
       ".dataframe > thead > tr,\n",
       ".dataframe > tbody > tr {\n",
       "  text-align: right;\n",
       "  white-space: pre-wrap;\n",
       "}\n",
       "</style>\n",
       "<small>shape: (4, 8)</small><table border=\"1\" class=\"dataframe\"><thead><tr><th>nombre</th><th>id</th><th>apellido</th><th>edad</th><th>estatura</th><th>sexo</th><th>ciudad</th><th>estado_civil</th></tr><tr><td>str</td><td>i64</td><td>str</td><td>i64</td><td>f64</td><td>str</td><td>str</td><td>str</td></tr></thead><tbody><tr><td>&quot;Martha&quot;</td><td>1</td><td>&quot;Montiel&quot;</td><td>19</td><td>1.56</td><td>&quot;M&quot;</td><td>&quot;Ciudad de México&quot;</td><td>&quot;casad@&quot;</td></tr><tr><td>&quot;Luis&quot;</td><td>2</td><td>&quot;Lopez&quot;</td><td>17</td><td>1.7</td><td>&quot;H&quot;</td><td>&quot;Madrid&quot;</td><td>&quot;solte@&quot;</td></tr><tr><td>&quot;Ana&quot;</td><td>3</td><td>&quot;Garcia&quot;</td><td>23</td><td>1.67</td><td>&quot;M&quot;</td><td>&quot;Ciudad de México&quot;</td><td>&quot;casad@&quot;</td></tr><tr><td>&quot;Pedro&quot;</td><td>4</td><td>&quot;Mendez&quot;</td><td>31</td><td>1.66</td><td>&quot;H&quot;</td><td>&quot;Madrid&quot;</td><td>&quot;solter@&quot;</td></tr></tbody></table></div>"
      ],
      "text/plain": [
       "shape: (4, 8)\n",
       "┌────────┬─────┬──────────┬──────┬──────────┬──────┬──────────────────┬──────────────┐\n",
       "│ nombre ┆ id  ┆ apellido ┆ edad ┆ estatura ┆ sexo ┆ ciudad           ┆ estado_civil │\n",
       "│ ---    ┆ --- ┆ ---      ┆ ---  ┆ ---      ┆ ---  ┆ ---              ┆ ---          │\n",
       "│ str    ┆ i64 ┆ str      ┆ i64  ┆ f64      ┆ str  ┆ str              ┆ str          │\n",
       "╞════════╪═════╪══════════╪══════╪══════════╪══════╪══════════════════╪══════════════╡\n",
       "│ Martha ┆ 1   ┆ Montiel  ┆ 19   ┆ 1.56     ┆ M    ┆ Ciudad de México ┆ casad@       │\n",
       "│ Luis   ┆ 2   ┆ Lopez    ┆ 17   ┆ 1.7      ┆ H    ┆ Madrid           ┆ solte@       │\n",
       "│ Ana    ┆ 3   ┆ Garcia   ┆ 23   ┆ 1.67     ┆ M    ┆ Ciudad de México ┆ casad@       │\n",
       "│ Pedro  ┆ 4   ┆ Mendez   ┆ 31   ┆ 1.66     ┆ H    ┆ Madrid           ┆ solter@      │\n",
       "└────────┴─────┴──────────┴──────┴──────────┴──────┴──────────────────┴──────────────┘"
      ]
     },
     "execution_count": 70,
     "metadata": {},
     "output_type": "execute_result"
    }
   ],
   "source": [
    "#Mover una columna al inicio\n",
    "cols = [\"nombre\"] + [c for c in df.columns if c != \"nombre\"]\n",
    "df.select(cols)\n"
   ]
  }
 ],
 "metadata": {
  "kernelspec": {
   "display_name": ".venv",
   "language": "python",
   "name": "python3"
  },
  "language_info": {
   "codemirror_mode": {
    "name": "ipython",
    "version": 3
   },
   "file_extension": ".py",
   "mimetype": "text/x-python",
   "name": "python",
   "nbconvert_exporter": "python",
   "pygments_lexer": "ipython3",
   "version": "3.13.5"
  }
 },
 "nbformat": 4,
 "nbformat_minor": 5
}
