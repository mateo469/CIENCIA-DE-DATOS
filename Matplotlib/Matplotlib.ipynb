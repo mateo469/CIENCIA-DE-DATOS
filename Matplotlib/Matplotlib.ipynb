{
 "cells": [
  {
   "cell_type": "markdown",
   "id": "22979e85",
   "metadata": {},
   "source": [
    "## Aprenderemos MATPLOTLIB , completamente desde cero."
   ]
  },
  {
   "cell_type": "markdown",
   "id": "b79878b3",
   "metadata": {},
   "source": [
    "**MATPLOTLIB**\n"
   ]
  }
 ],
 "metadata": {
  "language_info": {
   "name": "python"
  }
 },
 "nbformat": 4,
 "nbformat_minor": 5
}
