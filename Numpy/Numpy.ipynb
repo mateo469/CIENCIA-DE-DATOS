{
 "cells": [
  {
   "cell_type": "markdown",
   "id": "de306945",
   "metadata": {},
   "source": [
    "**Aprenderemos numpy desde cero**\n"
   ]
  },
  {
   "cell_type": "code",
   "execution_count": 233,
   "id": "9294da72",
   "metadata": {},
   "outputs": [
    {
     "data": {
      "text/plain": [
       "array([[ 1,  2,  3],\n",
       "       [ 4,  1,  6],\n",
       "       [ 7,  0,  2],\n",
       "       [12, 14,  2]])"
      ]
     },
     "execution_count": 233,
     "metadata": {},
     "output_type": "execute_result"
    }
   ],
   "source": [
    "#Importar la libreria de numpy\n",
    "import numpy as np\n",
    "import matplotlib.pyplot as plt\n",
    "#Crear una lista de numeros\n",
    "lista = [[1,2,3],[4,1,6],[7,0,2],[12,14,2]]\n",
    "#Convertir mi lista a un array\n",
    "lista_array = np.array(lista)\n",
    "lista_array"
   ]
  },
  {
   "cell_type": "code",
   "execution_count": 234,
   "id": "153ee6e0",
   "metadata": {},
   "outputs": [
    {
     "data": {
      "text/plain": [
       "12"
      ]
     },
     "execution_count": 234,
     "metadata": {},
     "output_type": "execute_result"
    }
   ],
   "source": [
    "#Tamaño del array\n",
    "lista_array.size"
   ]
  },
  {
   "cell_type": "code",
   "execution_count": 235,
   "id": "7e57d92a",
   "metadata": {},
   "outputs": [
    {
     "data": {
      "text/plain": [
       "2"
      ]
     },
     "execution_count": 235,
     "metadata": {},
     "output_type": "execute_result"
    }
   ],
   "source": [
    "#Ver de cuantas dimensiones es el array\n",
    "lista_array.ndim"
   ]
  },
  {
   "cell_type": "code",
   "execution_count": 236,
   "id": "4db2e637",
   "metadata": {},
   "outputs": [
    {
     "data": {
      "text/plain": [
       "(4, 3)"
      ]
     },
     "execution_count": 236,
     "metadata": {},
     "output_type": "execute_result"
    }
   ],
   "source": [
    "#Devuelve una tupla con las dimensiones del array\n",
    "lista_array.shape"
   ]
  },
  {
   "cell_type": "code",
   "execution_count": 237,
   "id": "fbf81776",
   "metadata": {},
   "outputs": [
    {
     "data": {
      "text/plain": [
       "dtype('int64')"
      ]
     },
     "execution_count": 237,
     "metadata": {},
     "output_type": "execute_result"
    }
   ],
   "source": [
    "#Devolver el tipo de datos de los arrays\n",
    "lista_array.dtype"
   ]
  },
  {
   "cell_type": "code",
   "execution_count": 238,
   "id": "2a453286",
   "metadata": {},
   "outputs": [
    {
     "data": {
      "text/plain": [
       "np.int64(54)"
      ]
     },
     "execution_count": 238,
     "metadata": {},
     "output_type": "execute_result"
    }
   ],
   "source": [
    "#Sumatotal\n",
    "lista_array.sum()"
   ]
  },
  {
   "cell_type": "code",
   "execution_count": 239,
   "id": "a4fb6841",
   "metadata": {},
   "outputs": [
    {
     "data": {
      "text/plain": [
       "np.int64(14)"
      ]
     },
     "execution_count": 239,
     "metadata": {},
     "output_type": "execute_result"
    }
   ],
   "source": [
    "#Valor minimo\n",
    "lista_array.min()\n",
    "#Valor Maximo\n",
    "lista_array.max()"
   ]
  },
  {
   "cell_type": "code",
   "execution_count": 240,
   "id": "06e84589",
   "metadata": {},
   "outputs": [
    {
     "data": {
      "text/plain": [
       "np.float64(4.291464396527911)"
      ]
     },
     "execution_count": 240,
     "metadata": {},
     "output_type": "execute_result"
    }
   ],
   "source": [
    "#Desviacion estandar\n",
    "lista_array.std()"
   ]
  },
  {
   "cell_type": "code",
   "execution_count": 241,
   "id": "c2b45a41",
   "metadata": {},
   "outputs": [
    {
     "data": {
      "text/plain": [
       "np.float64(18.416666666666668)"
      ]
     },
     "execution_count": 241,
     "metadata": {},
     "output_type": "execute_result"
    }
   ],
   "source": [
    "#Varianza\n",
    "lista_array.var()"
   ]
  },
  {
   "cell_type": "code",
   "execution_count": 242,
   "id": "8539f639",
   "metadata": {},
   "outputs": [
    {
     "data": {
      "text/plain": [
       "np.float64(4.5)"
      ]
     },
     "execution_count": 242,
     "metadata": {},
     "output_type": "execute_result"
    }
   ],
   "source": [
    "#Promedio\n",
    "lista_array.mean()"
   ]
  },
  {
   "cell_type": "code",
   "execution_count": 243,
   "id": "ecf7834a",
   "metadata": {},
   "outputs": [
    {
     "data": {
      "text/plain": [
       "array([[ 1,  2,  3,  4],\n",
       "       [ 1,  6,  7,  0],\n",
       "       [ 2, 12, 14,  2]])"
      ]
     },
     "execution_count": 243,
     "metadata": {},
     "output_type": "execute_result"
    }
   ],
   "source": [
    "mat = lista_array.reshape(3, 4)## Matriz 3x4\n",
    "mat"
   ]
  },
  {
   "cell_type": "code",
   "execution_count": 244,
   "id": "f92b3e49",
   "metadata": {},
   "outputs": [
    {
     "data": {
      "text/plain": [
       "array([[ 7,  0,  2],\n",
       "       [12, 14,  2]])"
      ]
     },
     "execution_count": 244,
     "metadata": {},
     "output_type": "execute_result"
    }
   ],
   "source": [
    "#acceder a elementos\n",
    "lista_array[2:7]"
   ]
  },
  {
   "cell_type": "code",
   "execution_count": 245,
   "id": "fc6a3129",
   "metadata": {},
   "outputs": [
    {
     "data": {
      "text/plain": [
       "array([[ 3,  4,  5],\n",
       "       [ 6,  3,  8],\n",
       "       [ 9,  2,  4],\n",
       "       [14, 16,  4]])"
      ]
     },
     "execution_count": 245,
     "metadata": {},
     "output_type": "execute_result"
    }
   ],
   "source": [
    "lista_array + 2"
   ]
  },
  {
   "cell_type": "code",
   "execution_count": 246,
   "id": "c1463351",
   "metadata": {},
   "outputs": [
    {
     "data": {
      "text/plain": [
       "array([ 0,  1,  2,  3,  4,  6,  7, 12, 14])"
      ]
     },
     "execution_count": 246,
     "metadata": {},
     "output_type": "execute_result"
    }
   ],
   "source": [
    "#Obtener los valores unicos\n",
    "unicos = np.unique(lista_array)\n",
    "unicos"
   ]
  },
  {
   "cell_type": "code",
   "execution_count": 247,
   "id": "37652690",
   "metadata": {},
   "outputs": [
    {
     "data": {
      "text/plain": [
       "(array([ 0,  1,  2,  3,  4,  6,  7, 12, 14]),\n",
       " array([1, 2, 3, 1, 1, 1, 1, 1, 1]))"
      ]
     },
     "execution_count": 247,
     "metadata": {},
     "output_type": "execute_result"
    }
   ],
   "source": [
    "conteo = np.unique(lista_array, return_counts=True)\n",
    "conteo#Mustra todos los valores repetidos"
   ]
  },
  {
   "cell_type": "code",
   "execution_count": 248,
   "id": "9c69c39d",
   "metadata": {},
   "outputs": [
    {
     "data": {
      "text/plain": [
       "array([[ 1,  0,  2],\n",
       "       [ 4,  1,  2],\n",
       "       [ 7,  2,  3],\n",
       "       [12, 14,  6]])"
      ]
     },
     "execution_count": 248,
     "metadata": {},
     "output_type": "execute_result"
    }
   ],
   "source": [
    "lista_array.sort(axis=0)#Ordenar arrays\n",
    "lista_array"
   ]
  },
  {
   "cell_type": "code",
   "execution_count": 249,
   "id": "f50bd61f",
   "metadata": {},
   "outputs": [
    {
     "data": {
      "text/plain": [
       "array([[0.0e+000, 4.9e-324, 4.9e-324, 9.9e-324],\n",
       "       [9.9e-324, 9.9e-324, 1.5e-323, 2.0e-323],\n",
       "       [3.0e-323, 3.5e-323, 5.9e-323, 6.9e-323]])"
      ]
     },
     "execution_count": 249,
     "metadata": {},
     "output_type": "execute_result"
    }
   ],
   "source": [
    "##Crea y devuelve una referencia a un array vacío con las dimensiones especificadas en la tupla dimensiones.\n",
    "np.empty((3,4))"
   ]
  },
  {
   "cell_type": "code",
   "execution_count": 250,
   "id": "fcc59600",
   "metadata": {},
   "outputs": [
    {
     "data": {
      "text/plain": [
       "array([[0., 0., 0.],\n",
       "       [0., 0., 0.],\n",
       "       [0., 0., 0.],\n",
       "       [0., 0., 0.],\n",
       "       [0., 0., 0.]])"
      ]
     },
     "execution_count": 250,
     "metadata": {},
     "output_type": "execute_result"
    }
   ],
   "source": [
    "#Crear un arrays de ceros\n",
    "np.zeros((5,3))"
   ]
  },
  {
   "cell_type": "code",
   "execution_count": 251,
   "id": "7fb6667e",
   "metadata": {},
   "outputs": [
    {
     "data": {
      "text/plain": [
       "array([[1., 1., 1.],\n",
       "       [1., 1., 1.],\n",
       "       [1., 1., 1.],\n",
       "       [1., 1., 1.]])"
      ]
     },
     "execution_count": 251,
     "metadata": {},
     "output_type": "execute_result"
    }
   ],
   "source": [
    "#Crear arrays de 1\n",
    "np.ones((4,3))"
   ]
  },
  {
   "cell_type": "code",
   "execution_count": 252,
   "id": "68cd840e",
   "metadata": {},
   "outputs": [
    {
     "data": {
      "text/plain": [
       "array([ 0.,  5., 10.])"
      ]
     },
     "execution_count": 252,
     "metadata": {},
     "output_type": "execute_result"
    }
   ],
   "source": [
    "##Crea y devuelve una referencia a un array de una dimensión cuyos elementos son la secuencia de n valores \n",
    "# equidistantes desde inicio hasta fin.\n",
    "np.linspace(0, 10, 3)"
   ]
  },
  {
   "cell_type": "code",
   "execution_count": 253,
   "id": "e3682006",
   "metadata": {},
   "outputs": [
    {
     "data": {
      "text/plain": [
       "array([1, 3, 5, 7, 9])"
      ]
     },
     "execution_count": 253,
     "metadata": {},
     "output_type": "execute_result"
    }
   ],
   "source": [
    "# Crea y devuelve una referencia a un array de una dimensión cuyos elementos son la secuencia desde inicio hasta \n",
    "# fin tomando valores cada salto.np.arange(inicio, tamaño, salto)\n",
    "np.arange(1,10,2)"
   ]
  },
  {
   "cell_type": "code",
   "execution_count": 254,
   "id": "524efc11",
   "metadata": {},
   "outputs": [
    {
     "data": {
      "text/plain": [
       "array([[1., 0., 0., 0.],\n",
       "       [0., 1., 0., 0.],\n",
       "       [0., 0., 1., 0.],\n",
       "       [0., 0., 0., 1.]])"
      ]
     },
     "execution_count": 254,
     "metadata": {},
     "output_type": "execute_result"
    }
   ],
   "source": [
    "np.eye(4)  # # Matriz identidad 4x4"
   ]
  },
  {
   "cell_type": "code",
   "execution_count": 255,
   "id": "e16f95c6",
   "metadata": {},
   "outputs": [
    {
     "data": {
      "text/plain": [
       "array([[2, 2, 2, 2],\n",
       "       [2, 2, 2, 2],\n",
       "       [2, 2, 2, 2]])"
      ]
     },
     "execution_count": 255,
     "metadata": {},
     "output_type": "execute_result"
    }
   ],
   "source": [
    "#np.full(dimensiones, valor) : Crea y devuelve una referencia a un array con las dimensiones especificadas en la\n",
    "# tupla dimensiones cuyos elementos son todos valor.\n",
    "np.full((3,4),2)"
   ]
  },
  {
   "cell_type": "code",
   "execution_count": 256,
   "id": "e81ca1b6",
   "metadata": {},
   "outputs": [
    {
     "data": {
      "text/plain": [
       "array([ 1,  0,  2,  4,  1,  2,  7,  2,  3, 12, 14,  6, 21, 25, 30])"
      ]
     },
     "execution_count": 256,
     "metadata": {},
     "output_type": "execute_result"
    }
   ],
   "source": [
    "#Agregar nuevos elementos al array\n",
    "nuevo = np.append(lista_array,[[21,25,30]])\n",
    "nuevo"
   ]
  },
  {
   "cell_type": "code",
   "execution_count": 257,
   "id": "c91a9140",
   "metadata": {},
   "outputs": [
    {
     "data": {
      "text/plain": [
       "array([ 0,  2,  4,  1,  2,  7,  2,  3, 12, 14,  6])"
      ]
     },
     "execution_count": 257,
     "metadata": {},
     "output_type": "execute_result"
    }
   ],
   "source": [
    "#Eliminar elementos de un array\n",
    "lista_array = np.delete(lista_array, 0)\n",
    "lista_array"
   ]
  },
  {
   "cell_type": "code",
   "execution_count": 258,
   "id": "6ddbed55",
   "metadata": {},
   "outputs": [
    {
     "data": {
      "text/plain": [
       "array([12, 14])"
      ]
     },
     "execution_count": 258,
     "metadata": {},
     "output_type": "execute_result"
    }
   ],
   "source": [
    "# desde el final hasta el índice 1 desde el final:\n",
    "lista_array[-3:-1]"
   ]
  },
  {
   "cell_type": "code",
   "execution_count": 259,
   "id": "ebfecf24",
   "metadata": {},
   "outputs": [
    {
     "data": {
      "text/plain": [
       "array([0, 1])"
      ]
     },
     "execution_count": 259,
     "metadata": {},
     "output_type": "execute_result"
    }
   ],
   "source": [
    "#Utilice el step valor para determinar el paso del corte:\n",
    "lista_array[0:5:3]"
   ]
  },
  {
   "cell_type": "code",
   "execution_count": 260,
   "id": "125fc514",
   "metadata": {},
   "outputs": [
    {
     "data": {
      "text/plain": [
       "array([False,  True,  True,  True,  True,  True,  True,  True,  True,\n",
       "        True,  True])"
      ]
     },
     "execution_count": 260,
     "metadata": {},
     "output_type": "execute_result"
    }
   ],
   "source": [
    "#Cambiar el tipo de datos de entero a booleano:\n",
    "cambiar = lista_array.astype(bool)\n",
    "cambiar"
   ]
  },
  {
   "cell_type": "code",
   "execution_count": 261,
   "id": "df06b328",
   "metadata": {},
   "outputs": [
    {
     "data": {
      "text/plain": [
       "np.int64(1)"
      ]
     },
     "execution_count": 261,
     "metadata": {},
     "output_type": "execute_result"
    }
   ],
   "source": [
    "#Crear una copia del array\n",
    "copiar = lista_array.copy()\n",
    "copiar[3]"
   ]
  },
  {
   "cell_type": "code",
   "execution_count": 262,
   "id": "0f42c622",
   "metadata": {},
   "outputs": [
    {
     "data": {
      "text/plain": [
       "2"
      ]
     },
     "execution_count": 262,
     "metadata": {},
     "output_type": "execute_result"
    }
   ],
   "source": [
    "#Matrices de 2 dimenciones\n",
    "d2= np.array([[1,2,3,4],[5,2,6,1]])\n",
    "d2.ndim"
   ]
  },
  {
   "cell_type": "code",
   "execution_count": 263,
   "id": "1438a83a",
   "metadata": {},
   "outputs": [
    {
     "data": {
      "text/plain": [
       "np.int64(5)"
      ]
     },
     "execution_count": 263,
     "metadata": {},
     "output_type": "execute_result"
    }
   ],
   "source": [
    "d3 = np.array([[[1,2,3],[4,1,5],[6,7,6]]])\n",
    "d3[0, 1, 2]"
   ]
  },
  {
   "cell_type": "code",
   "execution_count": 264,
   "id": "23cc831a",
   "metadata": {},
   "outputs": [
    {
     "data": {
      "text/plain": [
       "array([ 0,  2,  4,  1,  2,  7,  2,  3, 12, 14,  6])"
      ]
     },
     "execution_count": 264,
     "metadata": {},
     "output_type": "execute_result"
    }
   ],
   "source": [
    " #Cree una vista, cambie la matriz original y muestre ambas matrices:\n",
    " vist = lista_array.view()\n",
    " vist"
   ]
  },
  {
   "cell_type": "code",
   "execution_count": 265,
   "id": "2c4a8300",
   "metadata": {},
   "outputs": [
    {
     "data": {
      "text/plain": [
       "(1, 1, 1, 1, 4)"
      ]
     },
     "execution_count": 265,
     "metadata": {},
     "output_type": "execute_result"
    }
   ],
   "source": [
    "#Crear una matriz de 5 dimenciones\n",
    "arr = np.array([1, 2, 3, 4], ndmin=5)\n",
    "arr.shape"
   ]
  },
  {
   "cell_type": "code",
   "execution_count": 266,
   "id": "9ddebc63",
   "metadata": {},
   "outputs": [
    {
     "data": {
      "text/plain": [
       "array([[[ 1,  2],\n",
       "        [ 3,  4],\n",
       "        [ 5,  6]],\n",
       "\n",
       "       [[ 7,  8],\n",
       "        [ 9, 10],\n",
       "        [11, 12]]])"
      ]
     },
     "execution_count": 266,
     "metadata": {},
     "output_type": "execute_result"
    }
   ],
   "source": [
    "#Convierta la siguiente matriz 1-D con 12 elementos en una matriz 3-D.\n",
    "#La dimensión más externa tendrá 2 matrices que contienen 3 matrices, cada una con 2 elementos:\n",
    "arr = np.array([1, 2, 3, 4, 5, 6, 7, 8, 9, 10, 11, 12])\n",
    "newarr = arr.reshape(2, 3, 2)\n",
    "newarr"
   ]
  },
  {
   "cell_type": "code",
   "execution_count": 267,
   "id": "41af72e3",
   "metadata": {},
   "outputs": [
    {
     "data": {
      "text/plain": [
       "array([1, 2, 3, 4, 5, 6, 7, 8])"
      ]
     },
     "execution_count": 267,
     "metadata": {},
     "output_type": "execute_result"
    }
   ],
   "source": [
    "#Comprobar si una matriz devuelta es una copia\n",
    "arr = np.array([1, 2, 3, 4, 5, 6, 7, 8])\n",
    "arr.reshape(2, 4).base"
   ]
  },
  {
   "cell_type": "code",
   "execution_count": 268,
   "id": "ede9c22d",
   "metadata": {},
   "outputs": [],
   "source": [
    "#Convierte la matriz en una matriz 1D:\n",
    "arr = np.array([[1, 2, 3], [4, 5, 6]])\n",
    "\n",
    "newarr = arr.reshape(-1)"
   ]
  },
  {
   "cell_type": "code",
   "execution_count": 269,
   "id": "13883dd2",
   "metadata": {},
   "outputs": [
    {
     "data": {
      "text/plain": [
       "array([12, 14, 21, 25, 30])"
      ]
     },
     "execution_count": 269,
     "metadata": {},
     "output_type": "execute_result"
    }
   ],
   "source": [
    "#Filtrar elementos\n",
    "nuevo[nuevo >8]#Mostrar tolos los numeros del array mayores a 8"
   ]
  },
  {
   "cell_type": "code",
   "execution_count": 270,
   "id": "b549378d",
   "metadata": {},
   "outputs": [
    {
     "data": {
      "text/plain": [
       "array([ 0,  1,  1,  2,  2,  2,  3,  4,  6,  7, 12, 14, 21, 25, 30])"
      ]
     },
     "execution_count": 270,
     "metadata": {},
     "output_type": "execute_result"
    }
   ],
   "source": [
    "#ordenar el array de copias\n",
    "nuevo.sort(axis=0)\n",
    "nuevo"
   ]
  },
  {
   "cell_type": "code",
   "execution_count": 271,
   "id": "89bfde34",
   "metadata": {},
   "outputs": [
    {
     "data": {
      "text/plain": [
       "array([1.        , 1.10782011, 1.21564022, 1.32346032, 1.43128043,\n",
       "       1.53910054, 1.64692065, 1.75474076, 1.86256087, 1.97038097,\n",
       "       2.07820108, 2.18602119, 2.2938413 , 2.40166141, 2.50948152,\n",
       "       2.61730162, 2.72512173, 2.83294184, 2.94076195, 3.04858206,\n",
       "       3.15640217, 3.26422227, 3.37204238, 3.47986249, 3.5876826 ,\n",
       "       3.69550271, 3.80332282, 3.91114292, 4.01896303, 4.12678314,\n",
       "       4.23460325, 4.34242336, 4.45024347, 4.55806357, 4.66588368,\n",
       "       4.77370379, 4.8815239 , 4.98934401, 5.09716412, 5.20498422,\n",
       "       5.31280433, 5.42062444, 5.52844455, 5.63626466, 5.74408477,\n",
       "       5.85190487, 5.95972498, 6.06754509, 6.1753652 , 6.28318531])"
      ]
     },
     "execution_count": 271,
     "metadata": {},
     "output_type": "execute_result"
    }
   ],
   "source": [
    "from numpy import pi \n",
    "rad = np.linspace(1, 2 * pi, 50) \n",
    "rad "
   ]
  },
  {
   "cell_type": "code",
   "execution_count": 272,
   "id": "a4e63314",
   "metadata": {},
   "outputs": [
    {
     "data": {
      "image/png": "[encoded data removed]",
      "text/plain": [
       "<Figure size 640x480 with 1 Axes>"
      ]
     },
     "metadata": {},
     "output_type": "display_data"
    }
   ],
   "source": [
    "seno = np.sin(rad) \n",
    "coseno = np.cos(rad) \n",
    "plt.plot(seno, coseno) \n",
    "plt.title('Seno y coseno') \n",
    "plt.show() "
   ]
  },
  {
   "cell_type": "code",
   "execution_count": 278,
   "id": "f91b1282",
   "metadata": {},
   "outputs": [
    {
     "data": {
      "text/plain": [
       "array([ 2. ,  6.5, 11. , 15.5, 20. ,  5. ,  8. , 11. , 14. , 17. , 20. ])"
      ]
     },
     "execution_count": 278,
     "metadata": {},
     "output_type": "execute_result"
    }
   ],
   "source": [
    "#Concatenate the arrays\n",
    "a = np.linspace(2, 20, 5)\n",
    "b = np.linspace(5, 20, 6)\n",
    "union = np.concatenate((a, b))\n",
    "union"
   ]
  },
  {
   "cell_type": "code",
   "execution_count": 281,
   "id": "51fe8bae",
   "metadata": {},
   "outputs": [
    {
     "data": {
      "text/plain": [
       "array([0.26161213, 0.29849114, 0.81422574, 0.09191594, 0.60010053,\n",
       "       0.72856053, 0.18790107, 0.05514663, 0.27496937, 0.65743301,\n",
       "       0.56226566, 0.15006226, 0.43263079, 0.6692973 , 0.42278467,\n",
       "       0.6331844 , 0.96743595, 0.68306482, 0.39162483, 0.18725257,\n",
       "       0.34596067, 0.51106597, 0.89120941, 0.77556394, 0.3181466 ,\n",
       "       0.9242169 , 0.47090989, 0.69375884, 0.10720731, 0.10454356,\n",
       "       0.20190745, 0.88444967, 0.67981146, 0.84923632, 0.64443627,\n",
       "       0.4065424 , 0.51657819, 0.59344352, 0.86211798, 0.43818617,\n",
       "       0.89224011, 0.61371694, 0.82935613, 0.49805605, 0.69251813,\n",
       "       0.33902537, 0.5228285 , 0.21622339, 0.1007036 , 0.03860413])"
      ]
     },
     "execution_count": 281,
     "metadata": {},
     "output_type": "execute_result"
    }
   ],
   "source": [
    "#Generar numeros aleatorios\n",
    "aleatorio = np.random.default_rng(2)\n",
    "numero = aleatorio.random(50)\n",
    "numero"
   ]
  },
  {
   "cell_type": "code",
   "execution_count": 284,
   "id": "f872f4b1",
   "metadata": {},
   "outputs": [
    {
     "data": {
      "text/plain": [
       "array([7, 7, 1, 9, 2, 0, 2, 4, 1, 7, 8, 2, 3, 0, 6, 5, 4, 0, 5, 1, 0, 0,\n",
       "       1, 7, 5, 0, 2, 9, 9, 5, 0, 4, 7, 1, 2, 3, 2, 2, 4, 8, 9, 5, 2, 0,\n",
       "       7, 9, 5, 9, 9, 9, 8, 2, 8, 5, 7, 7, 3, 1, 8, 4, 8, 3, 6, 8, 0, 0,\n",
       "       7, 9, 9, 0])"
      ]
     },
     "execution_count": 284,
     "metadata": {},
     "output_type": "execute_result"
    }
   ],
   "source": [
    "#numeros aleatorios enteros\n",
    "enteros = aleatorio.integers(10, size=70) \n",
    "enteros"
   ]
  },
  {
   "cell_type": "code",
   "execution_count": 287,
   "id": "ed84d403",
   "metadata": {},
   "outputs": [
    {
     "data": {
      "text/plain": [
       "array([22,  1, 12, 25,  9, 18, 31, 21, 29, 24, 28, 32, 17,  3, 23,  7,  4,\n",
       "       16, 20,  5])"
      ]
     },
     "execution_count": 287,
     "metadata": {},
     "output_type": "execute_result"
    }
   ],
   "source": [
    "#Numeros aleatorios sin repetir \n",
    "aleatorio.choice(35, size= 20, replace= False) "
   ]
  },
  {
   "cell_type": "code",
   "execution_count": 292,
   "id": "f8fa983a",
   "metadata": {},
   "outputs": [
    {
     "data": {
      "text/plain": [
       "array([ 0,  2,  2,  2,  4,  6, 12, 14, 30])"
      ]
     },
     "execution_count": 292,
     "metadata": {},
     "output_type": "execute_result"
    }
   ],
   "source": [
    "#Filtrar los numeros pares de mi array\n",
    "par = nuevo[(nuevo % 2== 0)]\n",
    "par"
   ]
  },
  {
   "cell_type": "code",
   "execution_count": 294,
   "id": "f9705732",
   "metadata": {},
   "outputs": [
    {
     "data": {
      "text/plain": [
       "array([[ 1,  2,  3],\n",
       "       [16, 25, 36]])"
      ]
     },
     "execution_count": 294,
     "metadata": {},
     "output_type": "execute_result"
    }
   ],
   "source": [
    "#Elevar al exponente\n",
    "a = np.array([[1, 2, 3], [4, 5, 6]]) \n",
    "b = np.array([[1, 1, 1], [2, 2, 2]])\n",
    "a ** b "
   ]
  },
  {
   "cell_type": "code",
   "execution_count": 297,
   "id": "9a7f20db",
   "metadata": {},
   "outputs": [
    {
     "data": {
      "text/plain": [
       "np.int64(4)"
      ]
     },
     "execution_count": 297,
     "metadata": {},
     "output_type": "execute_result"
    }
   ],
   "source": [
    "# u.dot(v): Devuelve el producto escalar de los vectores u y v.\n",
    "a = np.array([1, 2, 3]) \n",
    "b = np.array([1, 0, 1]) \n",
    "a @ b \n",
    "a.dot(b)"
   ]
  },
  {
   "cell_type": "code",
   "execution_count": null,
   "id": "9e267f6c",
   "metadata": {},
   "outputs": [
    {
     "data": {
      "text/plain": [
       "np.float64(3.7416573867739413)"
      ]
     },
     "execution_count": 298,
     "metadata": {},
     "output_type": "execute_result"
    }
   ],
   "source": [
    "#norm(v): Devuelve el módulo del vector v. \n",
    "np.linalg.norm(a)"
   ]
  },
  {
   "cell_type": "code",
   "execution_count": null,
   "id": "8d20d716",
   "metadata": {},
   "outputs": [
    {
     "data": {
      "text/plain": [
       "np.int64(4)"
      ]
     },
     "execution_count": 299,
     "metadata": {},
     "output_type": "execute_result"
    }
   ],
   "source": [
    "# a.dot(b) : Devuelve el producto matricial de las matrices a y b siempre y cuando sus \n",
    "#dimensiones sean compatibles. \n",
    "a.dot(b)"
   ]
  },
  {
   "cell_type": "code",
   "execution_count": 300,
   "id": "e256033f",
   "metadata": {},
   "outputs": [
    {
     "data": {
      "text/plain": [
       "array([1, 2, 3])"
      ]
     },
     "execution_count": 300,
     "metadata": {},
     "output_type": "execute_result"
    }
   ],
   "source": [
    "#a.T : Devuelve la matriz traspuesta de la matriz a.\n",
    "a.T"
   ]
  },
  {
   "cell_type": "code",
   "execution_count": 302,
   "id": "4dc704ac",
   "metadata": {},
   "outputs": [
    {
     "data": {
      "text/plain": [
       "np.int64(15)"
      ]
     },
     "execution_count": 302,
     "metadata": {},
     "output_type": "execute_result"
    }
   ],
   "source": [
    "#➢ a.trace() : Devuelve la traza (suma de la diagonal principal) de la matriz cuadrada a.\n",
    "x  = np.array([[1, 2, 3], [4, 5, 6], [7, 8, 9]])\n",
    "x.trace()"
   ]
  },
  {
   "cell_type": "code",
   "execution_count": null,
   "id": "17d75fd9",
   "metadata": {},
   "outputs": [
    {
     "data": {
      "text/plain": [
       "np.float64(-2.0000000000000004)"
      ]
     },
     "execution_count": 304,
     "metadata": {},
     "output_type": "execute_result"
    }
   ],
   "source": [
    "#det(a) : Devuelve el determinante de la matriz cuadrada a.\n",
    "a = np.array([[1, 2], [3, 4]]) \n",
    "np.linalg.det(a)"
   ]
  },
  {
   "cell_type": "code",
   "execution_count": 306,
   "id": "86ce6138",
   "metadata": {},
   "outputs": [
    {
     "data": {
      "text/plain": [
       "array([[-2. ,  1. ],\n",
       "       [ 1.5, -0.5]])"
      ]
     },
     "execution_count": 306,
     "metadata": {},
     "output_type": "execute_result"
    }
   ],
   "source": [
    "#inv(a) : Devuelve la matriz inversa de la matriz cuadrada a.\n",
    "np.linalg.inv(a)"
   ]
  },
  {
   "cell_type": "code",
   "execution_count": 307,
   "id": "4bfa65b7",
   "metadata": {},
   "outputs": [
    {
     "data": {
      "text/plain": [
       "array([-0.37228132,  5.37228132])"
      ]
     },
     "execution_count": 307,
     "metadata": {},
     "output_type": "execute_result"
    }
   ],
   "source": [
    "#Los autovalores de una matriz cuadrada se calculan con la siguiente función: \n",
    "#➢ eigvals(a) : Devuelve los autovalores de la matriz cuadrada a.\n",
    "np.linalg.eigvals(a)"
   ]
  },
  {
   "cell_type": "code",
   "execution_count": 308,
   "id": "ba9b249f",
   "metadata": {},
   "outputs": [
    {
     "data": {
      "text/plain": [
       "EigResult(eigenvalues=array([-0.37228132,  5.37228132]), eigenvectors=array([[-0.82456484, -0.41597356],\n",
       "       [ 0.56576746, -0.90937671]]))"
      ]
     },
     "execution_count": 308,
     "metadata": {},
     "output_type": "execute_result"
    }
   ],
   "source": [
    "#Los auto vectores de una matriz cuadrada se calculan con la siguiente función: \n",
    "#➢ eig(a) : Devuelve los autovalores y los auto vectores asociados de la matriz cuadrada a. \n",
    "np.linalg.eig(a)"
   ]
  },
  {
   "cell_type": "code",
   "execution_count": 309,
   "id": "8cbfacc5",
   "metadata": {},
   "outputs": [
    {
     "data": {
      "text/plain": [
       "array([-1.,  1.])"
      ]
     },
     "execution_count": 309,
     "metadata": {},
     "output_type": "execute_result"
    }
   ],
   "source": [
    "#Solución de un sistema de ecuaciones \n",
    "#Para resolver un sistema de ecuaciones lineales se utiliza la función siguiente: \n",
    "#solve(a, b) : Devuelve la solución del sistema de ecuaciones lineales con los coeficientes \n",
    "#de la matriz a y los términos independientes de la matriz b. \n",
    "a = np.array([[1, 2], [3, 5]]) \n",
    "b = np.array([1, 2]) \n",
    "np.linalg.solve(a, b)"
   ]
  }
 ],
 "metadata": {
  "kernelspec": {
   "display_name": "Python 3",
   "language": "python",
   "name": "python3"
  },
  "language_info": {
   "codemirror_mode": {
    "name": "ipython",
    "version": 3
   },
   "file_extension": ".py",
   "mimetype": "text/x-python",
   "name": "python",
   "nbconvert_exporter": "python",
   "pygments_lexer": "ipython3",
   "version": "3.13.5"
  }
 },
 "nbformat": 4,
 "nbformat_minor": 5
}
